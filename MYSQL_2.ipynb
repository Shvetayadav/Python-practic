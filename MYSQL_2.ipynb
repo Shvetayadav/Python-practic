{
 "cells": [
  {
   "cell_type": "code",
   "execution_count": 1,
   "id": "93a8c9c3",
   "metadata": {},
   "outputs": [
    {
     "name": "stdout",
     "output_type": "stream",
     "text": [
      "Requirement already satisfied: mysql-connector-python in c:\\users\\admin\\anaconda3\\lib\\site-packages (8.3.0)\n",
      "Note: you may need to restart the kernel to use updated packages.\n"
     ]
    }
   ],
   "source": [
    "pip install mysql-connector-python"
   ]
  },
  {
   "cell_type": "code",
   "execution_count": 1,
   "id": "3d765e7c",
   "metadata": {},
   "outputs": [],
   "source": [
    "import mysql.connector as conn"
   ]
  },
  {
   "cell_type": "code",
   "execution_count": 2,
   "id": "a3aa347d",
   "metadata": {},
   "outputs": [],
   "source": [
    "mydb = conn.connect(host = 'localhost', user = 'root', passwd = 'Data@8180')"
   ]
  },
  {
   "cell_type": "code",
   "execution_count": 3,
   "id": "826be915",
   "metadata": {},
   "outputs": [
    {
     "data": {
      "text/plain": [
       "<mysql.connector.connection_cext.CMySQLConnection at 0x1fcf56c0850>"
      ]
     },
     "execution_count": 3,
     "metadata": {},
     "output_type": "execute_result"
    }
   ],
   "source": [
    "mydb"
   ]
  },
  {
   "cell_type": "code",
   "execution_count": 4,
   "id": "79de9687",
   "metadata": {},
   "outputs": [],
   "source": [
    " cursor = mydb.cursor()"
   ]
  },
  {
   "cell_type": "code",
   "execution_count": 5,
   "id": "2e76dc59",
   "metadata": {},
   "outputs": [
    {
     "data": {
      "text/plain": [
       "<mysql.connector.cursor_cext.CMySQLCursor at 0x1fcf56b0490>"
      ]
     },
     "execution_count": 5,
     "metadata": {},
     "output_type": "execute_result"
    }
   ],
   "source": [
    "cursor"
   ]
  },
  {
   "cell_type": "code",
   "execution_count": 6,
   "id": "9ae7bf90",
   "metadata": {},
   "outputs": [],
   "source": [
    "cursor.execute('show databases')"
   ]
  },
  {
   "cell_type": "code",
   "execution_count": 7,
   "id": "e89d4c80",
   "metadata": {},
   "outputs": [
    {
     "data": {
      "text/plain": [
       "[('council1',),\n",
       " ('datacouncil10',),\n",
       " ('information_schema',),\n",
       " ('mysql',),\n",
       " ('performance_schema',),\n",
       " ('sys',)]"
      ]
     },
     "execution_count": 7,
     "metadata": {},
     "output_type": "execute_result"
    }
   ],
   "source": [
    "cursor.fetchall()"
   ]
  },
  {
   "cell_type": "code",
   "execution_count": 13,
   "id": "fc26d7cf",
   "metadata": {},
   "outputs": [
    {
     "data": {
      "text/plain": [
       "<mysql.connector.cursor_cext.CMySQLCursor at 0x1ea03a75c50>"
      ]
     },
     "execution_count": 13,
     "metadata": {},
     "output_type": "execute_result"
    }
   ],
   "source": [
    "cursor"
   ]
  },
  {
   "cell_type": "code",
   "execution_count": 14,
   "id": "256b8d22",
   "metadata": {},
   "outputs": [],
   "source": [
    "cursor.execute('create database Datacouncil10 ')"
   ]
  },
  {
   "cell_type": "code",
   "execution_count": 15,
   "id": "2662e463",
   "metadata": {},
   "outputs": [],
   "source": [
    "cursor.execute('create table Datacouncil10.students(s_id INT(10), firstname VARCHAR(30), lastname VARCHAR(30), reg_id INT(10), classname VARCHAR(30))')"
   ]
  },
  {
   "cell_type": "code",
   "execution_count": 8,
   "id": "ae49f10f",
   "metadata": {},
   "outputs": [],
   "source": [
    "cursor.execute('use Datacouncil10')"
   ]
  },
  {
   "cell_type": "code",
   "execution_count": 9,
   "id": "421ebe0e",
   "metadata": {},
   "outputs": [],
   "source": [
    "cursor.execute('show tables')"
   ]
  },
  {
   "cell_type": "code",
   "execution_count": 10,
   "id": "6ed11046",
   "metadata": {},
   "outputs": [
    {
     "data": {
      "text/plain": [
       "[('students',)]"
      ]
     },
     "execution_count": 10,
     "metadata": {},
     "output_type": "execute_result"
    }
   ],
   "source": [
    "cursor.fetchall()"
   ]
  },
  {
   "cell_type": "code",
   "execution_count": 11,
   "id": "e72beac0",
   "metadata": {},
   "outputs": [],
   "source": [
    "cursor.execute('insert into Datacouncil10.students values(3423, \"Vaibhav\", \"Bhosale\",2004, \"Data Analysis\")')"
   ]
  },
  {
   "cell_type": "code",
   "execution_count": 12,
   "id": "5157c0cb",
   "metadata": {},
   "outputs": [],
   "source": [
    "mydb.commit()"
   ]
  },
  {
   "cell_type": "code",
   "execution_count": 13,
   "id": "ee6808c6",
   "metadata": {},
   "outputs": [],
   "source": [
    "cursor.execute('select * from Datacouncil10.students')"
   ]
  },
  {
   "cell_type": "code",
   "execution_count": 14,
   "id": "607cb68b",
   "metadata": {},
   "outputs": [
    {
     "data": {
      "text/plain": [
       "[(3423, 'Vaibhav', 'Bhosale', 2004, 'Data Analysis')]"
      ]
     },
     "execution_count": 14,
     "metadata": {},
     "output_type": "execute_result"
    }
   ],
   "source": [
    "cursor.fetchall()"
   ]
  },
  {
   "cell_type": "code",
   "execution_count": 15,
   "id": "0e4c9cc6",
   "metadata": {},
   "outputs": [],
   "source": [
    "cursor.execute('insert into Datacouncil10.students values(3454, \"Mahendra\", \"Dhoni\",3453, \"Cricket\")')\n",
    "cursor.execute('insert into Datacouncil10.students values(3426, \"Sachin\", \"Tendulkar\",2653, \"Cricket\")')\n",
    "cursor.execute('insert into Datacouncil10.students values(3443, \"Virat\", \"Kohli\",2986, \"Cricket\")')\n",
    "cursor.execute('insert into Datacouncil10.students values(3476, \"Sania\", \"Mirza\",5654, \"Tennis\")')\n",
    "cursor.execute('insert into Datacouncil10.students values(3423, \"Vivek\", \"Bindra\",2873, \"Chess\")')"
   ]
  },
  {
   "cell_type": "code",
   "execution_count": 16,
   "id": "a3146e6a",
   "metadata": {},
   "outputs": [],
   "source": [
    "mydb.commit()"
   ]
  },
  {
   "cell_type": "code",
   "execution_count": 23,
   "id": "f0e29c07",
   "metadata": {},
   "outputs": [],
   "source": [
    "cursor.execute('select * from Datacouncil10.students')"
   ]
  },
  {
   "cell_type": "code",
   "execution_count": 29,
   "id": "8b91051c",
   "metadata": {},
   "outputs": [],
   "source": [
    "import pandas as pd"
   ]
  },
  {
   "cell_type": "code",
   "execution_count": 24,
   "id": "90bd152c",
   "metadata": {},
   "outputs": [],
   "source": [
    "df = cursor.fetchall()"
   ]
  },
  {
   "cell_type": "code",
   "execution_count": 28,
   "id": "4605680f",
   "metadata": {},
   "outputs": [
    {
     "data": {
      "text/html": [
       "<div>\n",
       "<style scoped>\n",
       "    .dataframe tbody tr th:only-of-type {\n",
       "        vertical-align: middle;\n",
       "    }\n",
       "\n",
       "    .dataframe tbody tr th {\n",
       "        vertical-align: top;\n",
       "    }\n",
       "\n",
       "    .dataframe thead th {\n",
       "        text-align: right;\n",
       "    }\n",
       "</style>\n",
       "<table border=\"1\" class=\"dataframe\">\n",
       "  <thead>\n",
       "    <tr style=\"text-align: right;\">\n",
       "      <th></th>\n",
       "      <th>0</th>\n",
       "      <th>1</th>\n",
       "      <th>2</th>\n",
       "      <th>3</th>\n",
       "      <th>4</th>\n",
       "    </tr>\n",
       "  </thead>\n",
       "  <tbody>\n",
       "    <tr>\n",
       "      <th>0</th>\n",
       "      <td>3423</td>\n",
       "      <td>Vaibhav</td>\n",
       "      <td>Bhosale</td>\n",
       "      <td>2004</td>\n",
       "      <td>Data Analysis</td>\n",
       "    </tr>\n",
       "    <tr>\n",
       "      <th>1</th>\n",
       "      <td>3454</td>\n",
       "      <td>Mahendra</td>\n",
       "      <td>Dhoni</td>\n",
       "      <td>3453</td>\n",
       "      <td>Cricket</td>\n",
       "    </tr>\n",
       "    <tr>\n",
       "      <th>2</th>\n",
       "      <td>3426</td>\n",
       "      <td>Sachin</td>\n",
       "      <td>Tendulkar</td>\n",
       "      <td>2653</td>\n",
       "      <td>Cricket</td>\n",
       "    </tr>\n",
       "    <tr>\n",
       "      <th>3</th>\n",
       "      <td>3443</td>\n",
       "      <td>Virat</td>\n",
       "      <td>Kohli</td>\n",
       "      <td>2986</td>\n",
       "      <td>Cricket</td>\n",
       "    </tr>\n",
       "    <tr>\n",
       "      <th>4</th>\n",
       "      <td>3476</td>\n",
       "      <td>Sania</td>\n",
       "      <td>Mirza</td>\n",
       "      <td>5654</td>\n",
       "      <td>Tennis</td>\n",
       "    </tr>\n",
       "    <tr>\n",
       "      <th>5</th>\n",
       "      <td>3423</td>\n",
       "      <td>Vivek</td>\n",
       "      <td>Bindra</td>\n",
       "      <td>2873</td>\n",
       "      <td>Chess</td>\n",
       "    </tr>\n",
       "  </tbody>\n",
       "</table>\n",
       "</div>"
      ],
      "text/plain": [
       "      0         1          2     3              4\n",
       "0  3423   Vaibhav    Bhosale  2004  Data Analysis\n",
       "1  3454  Mahendra      Dhoni  3453        Cricket\n",
       "2  3426    Sachin  Tendulkar  2653        Cricket\n",
       "3  3443     Virat      Kohli  2986        Cricket\n",
       "4  3476     Sania      Mirza  5654         Tennis\n",
       "5  3423     Vivek     Bindra  2873          Chess"
      ]
     },
     "execution_count": 28,
     "metadata": {},
     "output_type": "execute_result"
    }
   ],
   "source": [
    "pd.DataFrame(df)"
   ]
  },
  {
   "cell_type": "code",
   "execution_count": 30,
   "id": "543d8a0f",
   "metadata": {},
   "outputs": [],
   "source": [
    "d1 = pd.DataFrame(df)"
   ]
  },
  {
   "cell_type": "code",
   "execution_count": 32,
   "id": "f57dc414",
   "metadata": {},
   "outputs": [
    {
     "name": "stdout",
     "output_type": "stream",
     "text": [
      "<class 'pandas.core.frame.DataFrame'>\n",
      "RangeIndex: 6 entries, 0 to 5\n",
      "Data columns (total 5 columns):\n",
      " #   Column  Non-Null Count  Dtype \n",
      "---  ------  --------------  ----- \n",
      " 0   0       6 non-null      int64 \n",
      " 1   1       6 non-null      object\n",
      " 2   2       6 non-null      object\n",
      " 3   3       6 non-null      int64 \n",
      " 4   4       6 non-null      object\n",
      "dtypes: int64(2), object(3)\n",
      "memory usage: 372.0+ bytes\n"
     ]
    }
   ],
   "source": [
    "d1.info()"
   ]
  },
  {
   "cell_type": "code",
   "execution_count": 33,
   "id": "dd601c02",
   "metadata": {},
   "outputs": [
    {
     "data": {
      "text/plain": [
       "0     Vaibhav\n",
       "1    Mahendra\n",
       "2      Sachin\n",
       "3       Virat\n",
       "4       Sania\n",
       "5       Vivek\n",
       "Name: 1, dtype: object"
      ]
     },
     "execution_count": 33,
     "metadata": {},
     "output_type": "execute_result"
    }
   ],
   "source": [
    "d1[1]"
   ]
  },
  {
   "cell_type": "code",
   "execution_count": 34,
   "id": "512196eb",
   "metadata": {},
   "outputs": [],
   "source": [
    "cursor.execute('create table Datacouncil10.glassdata(col1 INT(10), col2 float(10,5),col3 float(10,5),col4 float(10,5), col5 float(10,5), col6 float(10,5), col7 float(10,5), col8 float(10,5), col9 float(10,5), col10 float(10,5), col11 INT(10))')"
   ]
  },
  {
   "cell_type": "code",
   "execution_count": 35,
   "id": "81b6fc65",
   "metadata": {},
   "outputs": [],
   "source": [
    "cursor.execute('use Datacouncil10')"
   ]
  },
  {
   "cell_type": "code",
   "execution_count": 36,
   "id": "22d2f192",
   "metadata": {},
   "outputs": [],
   "source": [
    "cursor.execute('show tables')"
   ]
  },
  {
   "cell_type": "code",
   "execution_count": 37,
   "id": "8e619e07",
   "metadata": {},
   "outputs": [
    {
     "data": {
      "text/plain": [
       "[('glassdata',), ('students',)]"
      ]
     },
     "execution_count": 37,
     "metadata": {},
     "output_type": "execute_result"
    }
   ],
   "source": [
    "cursor.fetchall()"
   ]
  },
  {
   "cell_type": "code",
   "execution_count": null,
   "id": "55a623be",
   "metadata": {},
   "outputs": [],
   "source": []
  }
 ],
 "metadata": {
  "kernelspec": {
   "display_name": "Python 3 (ipykernel)",
   "language": "python",
   "name": "python3"
  },
  "language_info": {
   "codemirror_mode": {
    "name": "ipython",
    "version": 3
   },
   "file_extension": ".py",
   "mimetype": "text/x-python",
   "name": "python",
   "nbconvert_exporter": "python",
   "pygments_lexer": "ipython3",
   "version": "3.11.5"
  }
 },
 "nbformat": 4,
 "nbformat_minor": 5
}

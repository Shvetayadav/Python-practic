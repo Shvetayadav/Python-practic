{
 "cells": [
  {
   "cell_type": "markdown",
   "id": "13cfe680",
   "metadata": {},
   "source": [
    "# Data Strectures"
   ]
  },
  {
   "cell_type": "code",
   "execution_count": 1,
   "id": "63958741",
   "metadata": {},
   "outputs": [],
   "source": [
    "x = 10"
   ]
  },
  {
   "cell_type": "code",
   "execution_count": 2,
   "id": "e4200a3d",
   "metadata": {},
   "outputs": [
    {
     "data": {
      "text/plain": [
       "10"
      ]
     },
     "execution_count": 2,
     "metadata": {},
     "output_type": "execute_result"
    }
   ],
   "source": [
    "x"
   ]
  },
  {
   "cell_type": "markdown",
   "id": "445506c9",
   "metadata": {},
   "source": [
    "List []"
   ]
  },
  {
   "cell_type": "code",
   "execution_count": 3,
   "id": "cdd28d52",
   "metadata": {},
   "outputs": [],
   "source": [
    "d = [10,15,20]      #this is my list"
   ]
  },
  {
   "cell_type": "code",
   "execution_count": 4,
   "id": "a82e61ff",
   "metadata": {},
   "outputs": [],
   "source": [
    "s = [12,12.4, 15,20]"
   ]
  },
  {
   "cell_type": "code",
   "execution_count": 5,
   "id": "c78b3240",
   "metadata": {},
   "outputs": [],
   "source": [
    "f = ['Rajat', 'Prashant', 'Rutuja', 'Mohit']"
   ]
  },
  {
   "cell_type": "code",
   "execution_count": 6,
   "id": "af7f4c01",
   "metadata": {},
   "outputs": [
    {
     "data": {
      "text/plain": [
       "['Rajat', 'Prashant', 'Rutuja', 'Mohit']"
      ]
     },
     "execution_count": 6,
     "metadata": {},
     "output_type": "execute_result"
    }
   ],
   "source": [
    "f"
   ]
  },
  {
   "cell_type": "code",
   "execution_count": 7,
   "id": "45beb067",
   "metadata": {},
   "outputs": [
    {
     "data": {
      "text/plain": [
       "10"
      ]
     },
     "execution_count": 7,
     "metadata": {},
     "output_type": "execute_result"
    }
   ],
   "source": [
    "x"
   ]
  },
  {
   "cell_type": "code",
   "execution_count": 8,
   "id": "d35ece97",
   "metadata": {},
   "outputs": [
    {
     "data": {
      "text/plain": [
       "[12, 12.4, 15, 20]"
      ]
     },
     "execution_count": 8,
     "metadata": {},
     "output_type": "execute_result"
    }
   ],
   "source": [
    "s"
   ]
  },
  {
   "cell_type": "markdown",
   "id": "bb0c803b",
   "metadata": {},
   "source": [
    "Slicing"
   ]
  },
  {
   "cell_type": "code",
   "execution_count": 9,
   "id": "6b0f74bd",
   "metadata": {},
   "outputs": [
    {
     "data": {
      "text/plain": [
       "['Rajat', 'Prashant', 'Rutuja', 'Mohit']"
      ]
     },
     "execution_count": 9,
     "metadata": {},
     "output_type": "execute_result"
    }
   ],
   "source": [
    "f"
   ]
  },
  {
   "cell_type": "code",
   "execution_count": 10,
   "id": "953b5778",
   "metadata": {},
   "outputs": [
    {
     "data": {
      "text/plain": [
       "'Rajat'"
      ]
     },
     "execution_count": 10,
     "metadata": {},
     "output_type": "execute_result"
    }
   ],
   "source": [
    "f[0]"
   ]
  },
  {
   "cell_type": "code",
   "execution_count": 11,
   "id": "191d4601",
   "metadata": {},
   "outputs": [
    {
     "data": {
      "text/plain": [
       "'Prashant'"
      ]
     },
     "execution_count": 11,
     "metadata": {},
     "output_type": "execute_result"
    }
   ],
   "source": [
    "f[1]"
   ]
  },
  {
   "cell_type": "code",
   "execution_count": 12,
   "id": "d31363ae",
   "metadata": {},
   "outputs": [
    {
     "data": {
      "text/plain": [
       "'Mohit'"
      ]
     },
     "execution_count": 12,
     "metadata": {},
     "output_type": "execute_result"
    }
   ],
   "source": [
    "f[3]"
   ]
  },
  {
   "cell_type": "code",
   "execution_count": 13,
   "id": "d1e9dcfc",
   "metadata": {},
   "outputs": [
    {
     "data": {
      "text/plain": [
       "['Rajat', 'Prashant', 'Rutuja', 'Mohit']"
      ]
     },
     "execution_count": 13,
     "metadata": {},
     "output_type": "execute_result"
    }
   ],
   "source": [
    "f"
   ]
  },
  {
   "cell_type": "code",
   "execution_count": 15,
   "id": "8abdad43",
   "metadata": {},
   "outputs": [
    {
     "data": {
      "text/plain": [
       "['Rajat', 'Prashant']"
      ]
     },
     "execution_count": 15,
     "metadata": {},
     "output_type": "execute_result"
    }
   ],
   "source": [
    "f[0:2]  # From start to end  point"
   ]
  },
  {
   "cell_type": "code",
   "execution_count": 16,
   "id": "bf44ddce",
   "metadata": {},
   "outputs": [
    {
     "data": {
      "text/plain": [
       "['Rajat', 'Prashant', 'Rutuja']"
      ]
     },
     "execution_count": 16,
     "metadata": {},
     "output_type": "execute_result"
    }
   ],
   "source": [
    "f[0:3]"
   ]
  },
  {
   "cell_type": "code",
   "execution_count": 17,
   "id": "739e5ea1",
   "metadata": {},
   "outputs": [
    {
     "data": {
      "text/plain": [
       "['Rajat', 'Prashant', 'Rutuja', 'Mohit']"
      ]
     },
     "execution_count": 17,
     "metadata": {},
     "output_type": "execute_result"
    }
   ],
   "source": [
    "f[:]"
   ]
  },
  {
   "cell_type": "code",
   "execution_count": 18,
   "id": "97d96f56",
   "metadata": {},
   "outputs": [],
   "source": [
    "d = [1,2,3,4,5,6,7,8,9,10]"
   ]
  },
  {
   "cell_type": "code",
   "execution_count": 19,
   "id": "4fbefb4f",
   "metadata": {},
   "outputs": [
    {
     "data": {
      "text/plain": [
       "[1, 2, 3, 4, 5, 6, 7, 8, 9, 10]"
      ]
     },
     "execution_count": 19,
     "metadata": {},
     "output_type": "execute_result"
    }
   ],
   "source": [
    "d"
   ]
  },
  {
   "cell_type": "code",
   "execution_count": 20,
   "id": "2e44a10a",
   "metadata": {},
   "outputs": [
    {
     "data": {
      "text/plain": [
       "5"
      ]
     },
     "execution_count": 20,
     "metadata": {},
     "output_type": "execute_result"
    }
   ],
   "source": [
    "d[4]"
   ]
  },
  {
   "cell_type": "code",
   "execution_count": 21,
   "id": "023aee9a",
   "metadata": {},
   "outputs": [
    {
     "data": {
      "text/plain": [
       "10"
      ]
     },
     "execution_count": 21,
     "metadata": {},
     "output_type": "execute_result"
    }
   ],
   "source": [
    "d[9]"
   ]
  },
  {
   "cell_type": "code",
   "execution_count": 22,
   "id": "43bce3da",
   "metadata": {},
   "outputs": [
    {
     "data": {
      "text/plain": [
       "10"
      ]
     },
     "execution_count": 22,
     "metadata": {},
     "output_type": "execute_result"
    }
   ],
   "source": [
    "d[-1]"
   ]
  },
  {
   "cell_type": "code",
   "execution_count": 23,
   "id": "b38ef831",
   "metadata": {},
   "outputs": [
    {
     "data": {
      "text/plain": [
       "9"
      ]
     },
     "execution_count": 23,
     "metadata": {},
     "output_type": "execute_result"
    }
   ],
   "source": [
    "d[-2]"
   ]
  },
  {
   "cell_type": "code",
   "execution_count": 24,
   "id": "24eff0ea",
   "metadata": {},
   "outputs": [
    {
     "data": {
      "text/plain": [
       "[1, 2, 3, 4]"
      ]
     },
     "execution_count": 24,
     "metadata": {},
     "output_type": "execute_result"
    }
   ],
   "source": [
    "d[0:4]"
   ]
  },
  {
   "cell_type": "code",
   "execution_count": 27,
   "id": "ad8e6e4e",
   "metadata": {},
   "outputs": [
    {
     "data": {
      "text/plain": [
       "[1, 3, 5, 7, 9]"
      ]
     },
     "execution_count": 27,
     "metadata": {},
     "output_type": "execute_result"
    }
   ],
   "source": [
    "d[0:10:2] # Start : End : Jump Size"
   ]
  },
  {
   "cell_type": "code",
   "execution_count": 28,
   "id": "b60b5ecc",
   "metadata": {},
   "outputs": [
    {
     "data": {
      "text/plain": [
       "[1, 2, 3, 4, 5, 6, 7, 8, 9, 10]"
      ]
     },
     "execution_count": 28,
     "metadata": {},
     "output_type": "execute_result"
    }
   ],
   "source": [
    "d"
   ]
  },
  {
   "cell_type": "code",
   "execution_count": 29,
   "id": "d4fff32f",
   "metadata": {},
   "outputs": [
    {
     "data": {
      "text/plain": [
       "[2, 4, 6, 8, 10]"
      ]
     },
     "execution_count": 29,
     "metadata": {},
     "output_type": "execute_result"
    }
   ],
   "source": [
    "d[1:10:2] # Indexing"
   ]
  },
  {
   "cell_type": "code",
   "execution_count": 30,
   "id": "410376ed",
   "metadata": {},
   "outputs": [
    {
     "data": {
      "text/plain": [
       "2"
      ]
     },
     "execution_count": 30,
     "metadata": {},
     "output_type": "execute_result"
    }
   ],
   "source": [
    "d[1] "
   ]
  },
  {
   "cell_type": "code",
   "execution_count": 32,
   "id": "f8beb29c",
   "metadata": {},
   "outputs": [
    {
     "data": {
      "text/plain": [
       "[1, 3, 5, 7, 9]"
      ]
     },
     "execution_count": 32,
     "metadata": {},
     "output_type": "execute_result"
    }
   ],
   "source": [
    "d[0:-1:2]"
   ]
  },
  {
   "cell_type": "code",
   "execution_count": 34,
   "id": "ca3a4ecb",
   "metadata": {},
   "outputs": [
    {
     "data": {
      "text/plain": [
       "[10, 9, 8, 7, 6, 5, 4, 3, 2]"
      ]
     },
     "execution_count": 34,
     "metadata": {},
     "output_type": "execute_result"
    }
   ],
   "source": [
    "d[-1:0:-1]"
   ]
  },
  {
   "cell_type": "code",
   "execution_count": 35,
   "id": "3bd11a24",
   "metadata": {},
   "outputs": [
    {
     "data": {
      "text/plain": [
       "[10, 8, 6, 4, 2]"
      ]
     },
     "execution_count": 35,
     "metadata": {},
     "output_type": "execute_result"
    }
   ],
   "source": [
    "d[-1:0:-2]"
   ]
  },
  {
   "cell_type": "code",
   "execution_count": 37,
   "id": "3ec0b488",
   "metadata": {},
   "outputs": [
    {
     "data": {
      "text/plain": [
       "[10, 9, 8, 7, 6, 5, 4, 3, 2, 1]"
      ]
     },
     "execution_count": 37,
     "metadata": {},
     "output_type": "execute_result"
    }
   ],
   "source": [
    "d[::-1] # Reverse order"
   ]
  },
  {
   "cell_type": "code",
   "execution_count": null,
   "id": "091ca507",
   "metadata": {},
   "outputs": [],
   "source": []
  }
 ],
 "metadata": {
  "kernelspec": {
   "display_name": "Python 3 (ipykernel)",
   "language": "python",
   "name": "python3"
  },
  "language_info": {
   "codemirror_mode": {
    "name": "ipython",
    "version": 3
   },
   "file_extension": ".py",
   "mimetype": "text/x-python",
   "name": "python",
   "nbconvert_exporter": "python",
   "pygments_lexer": "ipython3",
   "version": "3.11.5"
  }
 },
 "nbformat": 4,
 "nbformat_minor": 5
}

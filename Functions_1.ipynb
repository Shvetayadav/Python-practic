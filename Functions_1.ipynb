{
 "cells": [
  {
   "cell_type": "code",
   "execution_count": 1,
   "id": "7fcda5fd",
   "metadata": {},
   "outputs": [],
   "source": [
    "def numbers(a):\n",
    "    print(a)"
   ]
  },
  {
   "cell_type": "code",
   "execution_count": 2,
   "id": "d388d685",
   "metadata": {},
   "outputs": [
    {
     "name": "stdout",
     "output_type": "stream",
     "text": [
      "10\n"
     ]
    }
   ],
   "source": [
    "numbers(10)"
   ]
  },
  {
   "cell_type": "code",
   "execution_count": 3,
   "id": "b5a62554",
   "metadata": {},
   "outputs": [
    {
     "name": "stdout",
     "output_type": "stream",
     "text": [
      "Data\n"
     ]
    }
   ],
   "source": [
    "numbers('Data')"
   ]
  },
  {
   "cell_type": "code",
   "execution_count": 4,
   "id": "a17f566b",
   "metadata": {},
   "outputs": [
    {
     "ename": "TypeError",
     "evalue": "numbers() takes 1 positional argument but 2 were given",
     "output_type": "error",
     "traceback": [
      "\u001b[1;31m---------------------------------------------------------------------------\u001b[0m",
      "\u001b[1;31mTypeError\u001b[0m                                 Traceback (most recent call last)",
      "Cell \u001b[1;32mIn[4], line 1\u001b[0m\n\u001b[1;32m----> 1\u001b[0m numbers(\u001b[38;5;241m19\u001b[39m,\u001b[38;5;241m2\u001b[39m)\n",
      "\u001b[1;31mTypeError\u001b[0m: numbers() takes 1 positional argument but 2 were given"
     ]
    }
   ],
   "source": [
    "numbers(19,2)"
   ]
  },
  {
   "cell_type": "code",
   "execution_count": 5,
   "id": "b47e61ea",
   "metadata": {},
   "outputs": [],
   "source": [
    "def test1(a):\n",
    "    return a"
   ]
  },
  {
   "cell_type": "code",
   "execution_count": 6,
   "id": "d28c38f4",
   "metadata": {},
   "outputs": [
    {
     "data": {
      "text/plain": [
       "23"
      ]
     },
     "execution_count": 6,
     "metadata": {},
     "output_type": "execute_result"
    }
   ],
   "source": [
    "test1(23)"
   ]
  },
  {
   "cell_type": "code",
   "execution_count": 7,
   "id": "04b9cdda",
   "metadata": {},
   "outputs": [
    {
     "data": {
      "text/plain": [
       "[1, 2, 3, 4, 5]"
      ]
     },
     "execution_count": 7,
     "metadata": {},
     "output_type": "execute_result"
    }
   ],
   "source": [
    "test1([1,2,3,4,5])"
   ]
  },
  {
   "cell_type": "code",
   "execution_count": 8,
   "id": "298fdfb9",
   "metadata": {},
   "outputs": [],
   "source": [
    "b = [1,2,3,'Data']"
   ]
  },
  {
   "cell_type": "code",
   "execution_count": 9,
   "id": "e0ae5ac0",
   "metadata": {},
   "outputs": [
    {
     "data": {
      "text/plain": [
       "[1, 2, 3, 'Data']"
      ]
     },
     "execution_count": 9,
     "metadata": {},
     "output_type": "execute_result"
    }
   ],
   "source": [
    "test1(b)"
   ]
  },
  {
   "cell_type": "code",
   "execution_count": 10,
   "id": "466373ad",
   "metadata": {},
   "outputs": [],
   "source": [
    "def test2(a):\n",
    "    for i in a:\n",
    "        print(i)\n",
    "        "
   ]
  },
  {
   "cell_type": "code",
   "execution_count": 11,
   "id": "e40a18ee",
   "metadata": {},
   "outputs": [
    {
     "name": "stdout",
     "output_type": "stream",
     "text": [
      "1\n",
      "2\n",
      "3\n",
      "Data\n"
     ]
    }
   ],
   "source": [
    "test2(b)"
   ]
  },
  {
   "cell_type": "code",
   "execution_count": 12,
   "id": "1885e47a",
   "metadata": {},
   "outputs": [],
   "source": [
    "def test3(a):\n",
    "    for i in a:\n",
    "        return i"
   ]
  },
  {
   "cell_type": "code",
   "execution_count": 13,
   "id": "fa2d8274",
   "metadata": {},
   "outputs": [
    {
     "data": {
      "text/plain": [
       "1"
      ]
     },
     "execution_count": 13,
     "metadata": {},
     "output_type": "execute_result"
    }
   ],
   "source": [
    "test3(b)"
   ]
  },
  {
   "cell_type": "code",
   "execution_count": 16,
   "id": "5bd1e300",
   "metadata": {},
   "outputs": [
    {
     "data": {
      "text/plain": [
       "int"
      ]
     },
     "execution_count": 16,
     "metadata": {},
     "output_type": "execute_result"
    }
   ],
   "source": [
    "type(test3(b))"
   ]
  },
  {
   "cell_type": "code",
   "execution_count": 17,
   "id": "d753eccd",
   "metadata": {},
   "outputs": [
    {
     "name": "stdout",
     "output_type": "stream",
     "text": [
      "1\n"
     ]
    },
    {
     "data": {
      "text/plain": [
       "NoneType"
      ]
     },
     "execution_count": 17,
     "metadata": {},
     "output_type": "execute_result"
    }
   ],
   "source": [
    "type(numbers(1))"
   ]
  },
  {
   "cell_type": "code",
   "execution_count": 18,
   "id": "64a90a0f",
   "metadata": {},
   "outputs": [],
   "source": [
    "def test4(a):\n",
    "    print(a)"
   ]
  },
  {
   "cell_type": "code",
   "execution_count": 23,
   "id": "d633fe54",
   "metadata": {},
   "outputs": [
    {
     "name": "stdout",
     "output_type": "stream",
     "text": [
      "4\n"
     ]
    }
   ],
   "source": [
    "test4(4)"
   ]
  },
  {
   "cell_type": "code",
   "execution_count": 19,
   "id": "de34c32a",
   "metadata": {},
   "outputs": [
    {
     "name": "stdout",
     "output_type": "stream",
     "text": [
      "1\n"
     ]
    },
    {
     "data": {
      "text/plain": [
       "NoneType"
      ]
     },
     "execution_count": 19,
     "metadata": {},
     "output_type": "execute_result"
    }
   ],
   "source": [
    "type(test4(1))"
   ]
  },
  {
   "cell_type": "code",
   "execution_count": 20,
   "id": "5f41298a",
   "metadata": {},
   "outputs": [],
   "source": [
    "def test5(a):\n",
    "    return a"
   ]
  },
  {
   "cell_type": "code",
   "execution_count": 21,
   "id": "52367033",
   "metadata": {},
   "outputs": [
    {
     "data": {
      "text/plain": [
       "2"
      ]
     },
     "execution_count": 21,
     "metadata": {},
     "output_type": "execute_result"
    }
   ],
   "source": [
    "test5(2)"
   ]
  },
  {
   "cell_type": "code",
   "execution_count": 22,
   "id": "f0809d4a",
   "metadata": {},
   "outputs": [
    {
     "data": {
      "text/plain": [
       "int"
      ]
     },
     "execution_count": 22,
     "metadata": {},
     "output_type": "execute_result"
    }
   ],
   "source": [
    "type(test5(2))"
   ]
  },
  {
   "cell_type": "code",
   "execution_count": 24,
   "id": "10619f2a",
   "metadata": {},
   "outputs": [],
   "source": [
    "def test6(a,b):\n",
    "    return a , b"
   ]
  },
  {
   "cell_type": "code",
   "execution_count": 25,
   "id": "78d0676d",
   "metadata": {},
   "outputs": [
    {
     "data": {
      "text/plain": [
       "(14, 45)"
      ]
     },
     "execution_count": 25,
     "metadata": {},
     "output_type": "execute_result"
    }
   ],
   "source": [
    "test6(14,45)"
   ]
  },
  {
   "cell_type": "code",
   "execution_count": 26,
   "id": "5c7d98c6",
   "metadata": {},
   "outputs": [],
   "source": [
    "def test7(a,b):\n",
    "    return a * b"
   ]
  },
  {
   "cell_type": "code",
   "execution_count": 27,
   "id": "cb5f9f32",
   "metadata": {},
   "outputs": [
    {
     "data": {
      "text/plain": [
       "75"
      ]
     },
     "execution_count": 27,
     "metadata": {},
     "output_type": "execute_result"
    }
   ],
   "source": [
    "test7(15 , 5)"
   ]
  },
  {
   "cell_type": "code",
   "execution_count": 28,
   "id": "e95261ba",
   "metadata": {},
   "outputs": [],
   "source": [
    "def test8(a):\n",
    "    return a ** 2 "
   ]
  },
  {
   "cell_type": "code",
   "execution_count": 29,
   "id": "757ba30b",
   "metadata": {},
   "outputs": [
    {
     "data": {
      "text/plain": [
       "9"
      ]
     },
     "execution_count": 29,
     "metadata": {},
     "output_type": "execute_result"
    }
   ],
   "source": [
    "test8(3)"
   ]
  },
  {
   "cell_type": "code",
   "execution_count": 30,
   "id": "cde95117",
   "metadata": {},
   "outputs": [],
   "source": [
    "def test9(a,x,y):\n",
    "    return a/x *y"
   ]
  },
  {
   "cell_type": "code",
   "execution_count": 31,
   "id": "3f71a9b8",
   "metadata": {},
   "outputs": [
    {
     "data": {
      "text/plain": [
       "4.0"
      ]
     },
     "execution_count": 31,
     "metadata": {},
     "output_type": "execute_result"
    }
   ],
   "source": [
    "test9(10,5,2)"
   ]
  },
  {
   "cell_type": "raw",
   "id": "dfa1f899",
   "metadata": {},
   "source": [
    "You have to create function for\n",
    "1. Addition of numbers a,b\n",
    "2.  Multiplication of number a,b\n",
    "3. Division of number a,b\n",
    "4. if your number is divisble by two simply print yes otherwise print no. Create function for it\n",
    "5. Check that mod of two numbers is 0 or not."
   ]
  },
  {
   "cell_type": "code",
   "execution_count": null,
   "id": "686e44b9",
   "metadata": {},
   "outputs": [],
   "source": []
  }
 ],
 "metadata": {
  "kernelspec": {
   "display_name": "Python 3 (ipykernel)",
   "language": "python",
   "name": "python3"
  },
  "language_info": {
   "codemirror_mode": {
    "name": "ipython",
    "version": 3
   },
   "file_extension": ".py",
   "mimetype": "text/x-python",
   "name": "python",
   "nbconvert_exporter": "python",
   "pygments_lexer": "ipython3",
   "version": "3.11.5"
  }
 },
 "nbformat": 4,
 "nbformat_minor": 5
}

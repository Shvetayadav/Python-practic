{
 "cells": [
  {
   "cell_type": "code",
   "execution_count": 10,
   "id": "b927acb5",
   "metadata": {},
   "outputs": [],
   "source": [
    "a = 8"
   ]
  },
  {
   "cell_type": "code",
   "execution_count": 11,
   "id": "457fadac",
   "metadata": {},
   "outputs": [
    {
     "name": "stdout",
     "output_type": "stream",
     "text": [
      "80\n"
     ]
    }
   ],
   "source": [
    "print(a * 10)"
   ]
  },
  {
   "cell_type": "code",
   "execution_count": 12,
   "id": "f886e661",
   "metadata": {},
   "outputs": [],
   "source": [
    "a = a + 5"
   ]
  },
  {
   "cell_type": "code",
   "execution_count": 13,
   "id": "4f05e859",
   "metadata": {},
   "outputs": [
    {
     "name": "stdout",
     "output_type": "stream",
     "text": [
      "Code in now in a = a + 'Data'\n"
     ]
    }
   ],
   "source": [
    "try:\n",
    "    a = a + 'Data'\n",
    "    \n",
    "except:\n",
    "    print(\"Code in now in a = a + 'Data'\")"
   ]
  },
  {
   "cell_type": "code",
   "execution_count": 14,
   "id": "da7d86ac",
   "metadata": {},
   "outputs": [
    {
     "name": "stdout",
     "output_type": "stream",
     "text": [
      "My project is completed\n"
     ]
    }
   ],
   "source": [
    "print('My project is completed')"
   ]
  },
  {
   "cell_type": "code",
   "execution_count": null,
   "id": "2b101df5",
   "metadata": {},
   "outputs": [],
   "source": [
    "try:\n",
    "    for s in u:\n",
    "        print(s)\n",
    "except:a\n",
    "    print('Error in my for loop which is having variable u')\n",
    "    "
   ]
  },
  {
   "cell_type": "code",
   "execution_count": 18,
   "id": "52469233",
   "metadata": {},
   "outputs": [
    {
     "name": "stdout",
     "output_type": "stream",
     "text": [
      "Enter your int number4\n",
      "Result: 2.5\n"
     ]
    }
   ],
   "source": [
    "try:\n",
    "    x = int(input('Enter your int number'))\n",
    "    result = 10 / x\n",
    "    print('Result:', result)\n",
    "    \n",
    "except ZeroDivisionError:\n",
    "    print('Cannot divide by zero')\n",
    "    \n",
    "except ValueError:\n",
    "    print('Please enter int data type in input')"
   ]
  },
  {
   "cell_type": "code",
   "execution_count": 20,
   "id": "990e0a85",
   "metadata": {},
   "outputs": [
    {
     "name": "stdout",
     "output_type": "stream",
     "text": [
      "Enter your int numbersccadc\n",
      "Please enter int data type in input\n",
      "Execution of codes is completed\n"
     ]
    }
   ],
   "source": [
    "try:\n",
    "    x = int(input('Enter your int number'))\n",
    "    result = 10 / x\n",
    "    print('Result:', result)\n",
    "    \n",
    "except ZeroDivisionError:\n",
    "    print('Cannot divide by zero')\n",
    "    \n",
    "except ValueError:\n",
    "    print('Please enter int data type in input')\n",
    "    \n",
    "else:\n",
    "    print('No exception occured')\n",
    "    \n",
    "finally:\n",
    "    # Code that will be executed n matter waht\n",
    "    print('Execution of codes is completed')"
   ]
  },
  {
   "cell_type": "code",
   "execution_count": null,
   "id": "ef13b6cc",
   "metadata": {},
   "outputs": [],
   "source": []
  }
 ],
 "metadata": {
  "kernelspec": {
   "display_name": "Python 3 (ipykernel)",
   "language": "python",
   "name": "python3"
  },
  "language_info": {
   "codemirror_mode": {
    "name": "ipython",
    "version": 3
   },
   "file_extension": ".py",
   "mimetype": "text/x-python",
   "name": "python",
   "nbconvert_exporter": "python",
   "pygments_lexer": "ipython3",
   "version": "3.11.5"
  }
 },
 "nbformat": 4,
 "nbformat_minor": 5
}

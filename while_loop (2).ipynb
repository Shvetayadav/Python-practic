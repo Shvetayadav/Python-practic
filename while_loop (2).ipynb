{
 "cells": [
  {
   "cell_type": "markdown",
   "id": "817978fe",
   "metadata": {},
   "source": [
    "# While"
   ]
  },
  {
   "cell_type": "markdown",
   "id": "ed3cf176",
   "metadata": {},
   "source": [
    "A while loop is used to repeatedly execute a block of code as lomg as a specified condition is true."
   ]
  },
  {
   "cell_type": "code",
   "execution_count": 4,
   "id": "6ff28940",
   "metadata": {},
   "outputs": [],
   "source": [
    "x = 1"
   ]
  },
  {
   "cell_type": "code",
   "execution_count": 2,
   "id": "65893c4e",
   "metadata": {},
   "outputs": [
    {
     "name": "stdout",
     "output_type": "stream",
     "text": [
      "1\n",
      "2\n",
      "3\n",
      "4\n",
      "5\n"
     ]
    }
   ],
   "source": [
    "while x <= 5:\n",
    "    print(x)\n",
    "    x = x + 1"
   ]
  },
  {
   "cell_type": "code",
   "execution_count": 5,
   "id": "6ae25034",
   "metadata": {},
   "outputs": [
    {
     "name": "stdout",
     "output_type": "stream",
     "text": [
      "1\n",
      "2\n",
      "3\n",
      "4\n",
      "5\n"
     ]
    }
   ],
   "source": [
    "while x <= 5:\n",
    "    print(x)\n",
    "    x += 1"
   ]
  },
  {
   "cell_type": "code",
   "execution_count": 6,
   "id": "1ac6c232",
   "metadata": {},
   "outputs": [],
   "source": [
    "user_input = ''"
   ]
  },
  {
   "cell_type": "code",
   "execution_count": 7,
   "id": "b5a3cde0",
   "metadata": {},
   "outputs": [
    {
     "name": "stdout",
     "output_type": "stream",
     "text": [
      "Type quit to exityes\n",
      "You typed: yes\n",
      "Type quit to exitno\n",
      "You typed: no\n",
      "Type quit to exitnot\n",
      "You typed: not\n",
      "Type quit to exitquit\n",
      "You typed: quit\n"
     ]
    }
   ],
   "source": [
    "user_input = ''\n",
    "while user_input.lower() != 'quit':\n",
    "    user_input= input('Type quit to exit')\n",
    "    print('You typed:',user_input)"
   ]
  },
  {
   "cell_type": "code",
   "execution_count": 4,
   "id": "bb33fa32",
   "metadata": {},
   "outputs": [
    {
     "name": "stdout",
     "output_type": "stream",
     "text": [
      "age34\n",
      "Your age is 34\n",
      "age344\n",
      "Your age is 344\n",
      "age354\n",
      "Your age is 354\n",
      "age30\n",
      "Your age is 30\n"
     ]
    }
   ],
   "source": [
    "Age = int()\n",
    "while Age != 30:\n",
    "    Age = int(input('age'))\n",
    "    print('Your age is', Age)"
   ]
  },
  {
   "cell_type": "code",
   "execution_count": 10,
   "id": "aa2b63a3",
   "metadata": {},
   "outputs": [
    {
     "name": "stdout",
     "output_type": "stream",
     "text": [
      "1\n",
      "3\n",
      "6\n",
      "10\n",
      "15\n"
     ]
    }
   ],
   "source": [
    "total = 0\n",
    "num = 1\n",
    "while num <= 5:\n",
    "    total = total + num\n",
    "    num = num + 1\n",
    "    print(total)"
   ]
  },
  {
   "cell_type": "code",
   "execution_count": null,
   "id": "dd671b4e",
   "metadata": {},
   "outputs": [],
   "source": []
  }
 ],
 "metadata": {
  "kernelspec": {
   "display_name": "Python 3 (ipykernel)",
   "language": "python",
   "name": "python3"
  },
  "language_info": {
   "codemirror_mode": {
    "name": "ipython",
    "version": 3
   },
   "file_extension": ".py",
   "mimetype": "text/x-python",
   "name": "python",
   "nbconvert_exporter": "python",
   "pygments_lexer": "ipython3",
   "version": "3.11.5"
  }
 },
 "nbformat": 4,
 "nbformat_minor": 5
}

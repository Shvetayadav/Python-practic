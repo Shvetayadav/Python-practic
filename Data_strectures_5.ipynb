{
 "cells": [
  {
   "cell_type": "code",
   "execution_count": 1,
   "id": "f49b5cfd",
   "metadata": {},
   "outputs": [],
   "source": [
    "a = {}"
   ]
  },
  {
   "cell_type": "code",
   "execution_count": 2,
   "id": "0ce1dea0",
   "metadata": {},
   "outputs": [
    {
     "data": {
      "text/plain": [
       "dict"
      ]
     },
     "execution_count": 2,
     "metadata": {},
     "output_type": "execute_result"
    }
   ],
   "source": [
    "type(a)"
   ]
  },
  {
   "cell_type": "code",
   "execution_count": 3,
   "id": "8fbb79ea",
   "metadata": {},
   "outputs": [
    {
     "data": {
      "text/plain": [
       "set()"
      ]
     },
     "execution_count": 3,
     "metadata": {},
     "output_type": "execute_result"
    }
   ],
   "source": [
    "set(a)"
   ]
  },
  {
   "cell_type": "code",
   "execution_count": 4,
   "id": "9f3e0176",
   "metadata": {},
   "outputs": [],
   "source": [
    "b = (1,2,3,4,5)"
   ]
  },
  {
   "cell_type": "code",
   "execution_count": 5,
   "id": "36d04ba1",
   "metadata": {},
   "outputs": [
    {
     "data": {
      "text/plain": [
       "tuple"
      ]
     },
     "execution_count": 5,
     "metadata": {},
     "output_type": "execute_result"
    }
   ],
   "source": [
    "type(b)"
   ]
  },
  {
   "cell_type": "code",
   "execution_count": 8,
   "id": "d54b1105",
   "metadata": {},
   "outputs": [],
   "source": [
    "b = set(b)"
   ]
  },
  {
   "cell_type": "code",
   "execution_count": 9,
   "id": "a565ce3a",
   "metadata": {},
   "outputs": [
    {
     "data": {
      "text/plain": [
       "{1, 2, 3, 4, 5}"
      ]
     },
     "execution_count": 9,
     "metadata": {},
     "output_type": "execute_result"
    }
   ],
   "source": [
    "b"
   ]
  },
  {
   "cell_type": "code",
   "execution_count": 10,
   "id": "d1274270",
   "metadata": {},
   "outputs": [],
   "source": [
    "c = [3,4,5,6,7]"
   ]
  },
  {
   "cell_type": "code",
   "execution_count": 11,
   "id": "ae38450a",
   "metadata": {},
   "outputs": [
    {
     "data": {
      "text/plain": [
       "list"
      ]
     },
     "execution_count": 11,
     "metadata": {},
     "output_type": "execute_result"
    }
   ],
   "source": [
    "type(c)"
   ]
  },
  {
   "cell_type": "code",
   "execution_count": 12,
   "id": "3e8b912d",
   "metadata": {},
   "outputs": [],
   "source": [
    "c = set(c)"
   ]
  },
  {
   "cell_type": "code",
   "execution_count": 13,
   "id": "dcfda4ed",
   "metadata": {},
   "outputs": [
    {
     "data": {
      "text/plain": [
       "{3, 4, 5, 6, 7}"
      ]
     },
     "execution_count": 13,
     "metadata": {},
     "output_type": "execute_result"
    }
   ],
   "source": [
    "c"
   ]
  },
  {
   "cell_type": "code",
   "execution_count": 14,
   "id": "a467af66",
   "metadata": {},
   "outputs": [
    {
     "data": {
      "text/plain": [
       "{1, 2, 3, 4, 5, 6, 7}"
      ]
     },
     "execution_count": 14,
     "metadata": {},
     "output_type": "execute_result"
    }
   ],
   "source": [
    "c.union(b)     #Union"
   ]
  },
  {
   "cell_type": "code",
   "execution_count": 15,
   "id": "38aa1d3c",
   "metadata": {},
   "outputs": [
    {
     "data": {
      "text/plain": [
       "{3, 4, 5, 6, 7}"
      ]
     },
     "execution_count": 15,
     "metadata": {},
     "output_type": "execute_result"
    }
   ],
   "source": [
    "c"
   ]
  },
  {
   "cell_type": "code",
   "execution_count": 16,
   "id": "5e5f3766",
   "metadata": {},
   "outputs": [
    {
     "data": {
      "text/plain": [
       "{1, 2, 3, 4, 5}"
      ]
     },
     "execution_count": 16,
     "metadata": {},
     "output_type": "execute_result"
    }
   ],
   "source": [
    "b"
   ]
  },
  {
   "cell_type": "code",
   "execution_count": 17,
   "id": "60094193",
   "metadata": {},
   "outputs": [
    {
     "data": {
      "text/plain": [
       "{6, 7}"
      ]
     },
     "execution_count": 17,
     "metadata": {},
     "output_type": "execute_result"
    }
   ],
   "source": [
    "c.difference(b)     #Difference"
   ]
  },
  {
   "cell_type": "code",
   "execution_count": 18,
   "id": "34976503",
   "metadata": {},
   "outputs": [],
   "source": [
    "# Update"
   ]
  },
  {
   "cell_type": "code",
   "execution_count": 21,
   "id": "e71e7dca",
   "metadata": {},
   "outputs": [],
   "source": [
    "b.update({6})"
   ]
  },
  {
   "cell_type": "code",
   "execution_count": 22,
   "id": "06ebc799",
   "metadata": {},
   "outputs": [
    {
     "data": {
      "text/plain": [
       "{1, 2, 3, 4, 5, 6}"
      ]
     },
     "execution_count": 22,
     "metadata": {},
     "output_type": "execute_result"
    }
   ],
   "source": [
    "b"
   ]
  },
  {
   "cell_type": "code",
   "execution_count": 23,
   "id": "11f5343c",
   "metadata": {},
   "outputs": [],
   "source": [
    "b.update({'Data',  'Science'})"
   ]
  },
  {
   "cell_type": "code",
   "execution_count": 24,
   "id": "f99c8e58",
   "metadata": {},
   "outputs": [
    {
     "data": {
      "text/plain": [
       "{1, 2, 3, 4, 5, 6, 'Data', 'Science'}"
      ]
     },
     "execution_count": 24,
     "metadata": {},
     "output_type": "execute_result"
    }
   ],
   "source": [
    "b"
   ]
  },
  {
   "cell_type": "code",
   "execution_count": 25,
   "id": "8913fe28",
   "metadata": {},
   "outputs": [],
   "source": [
    "# Discard elements"
   ]
  },
  {
   "cell_type": "code",
   "execution_count": 26,
   "id": "6a482d93",
   "metadata": {},
   "outputs": [],
   "source": [
    "b.discard('Data')"
   ]
  },
  {
   "cell_type": "code",
   "execution_count": 27,
   "id": "7f8befb6",
   "metadata": {},
   "outputs": [
    {
     "data": {
      "text/plain": [
       "{1, 2, 3, 4, 5, 6, 'Science'}"
      ]
     },
     "execution_count": 27,
     "metadata": {},
     "output_type": "execute_result"
    }
   ],
   "source": [
    "b"
   ]
  },
  {
   "cell_type": "code",
   "execution_count": 28,
   "id": "f47141c7",
   "metadata": {},
   "outputs": [],
   "source": [
    "# Clear"
   ]
  },
  {
   "cell_type": "code",
   "execution_count": 29,
   "id": "5ec62509",
   "metadata": {},
   "outputs": [],
   "source": [
    "b.clear()"
   ]
  },
  {
   "cell_type": "code",
   "execution_count": 30,
   "id": "1eca6bf9",
   "metadata": {},
   "outputs": [
    {
     "data": {
      "text/plain": [
       "set()"
      ]
     },
     "execution_count": 30,
     "metadata": {},
     "output_type": "execute_result"
    }
   ],
   "source": [
    "b"
   ]
  },
  {
   "cell_type": "markdown",
   "id": "accc3986",
   "metadata": {},
   "source": [
    "# Dictonary"
   ]
  },
  {
   "cell_type": "code",
   "execution_count": 31,
   "id": "6ab70fc9",
   "metadata": {},
   "outputs": [],
   "source": [
    "# Dictonary is inbuild data type in python. \n",
    "# Dict stores values in key-pair mode."
   ]
  },
  {
   "cell_type": "code",
   "execution_count": 32,
   "id": "da6b63a4",
   "metadata": {},
   "outputs": [],
   "source": [
    "emt_dic = {}"
   ]
  },
  {
   "cell_type": "code",
   "execution_count": 33,
   "id": "767e06a7",
   "metadata": {},
   "outputs": [],
   "source": [
    "name_surname = {'Om':'Dixit', 'Rahul':'Sharma'}"
   ]
  },
  {
   "cell_type": "code",
   "execution_count": 34,
   "id": "ed89d52a",
   "metadata": {},
   "outputs": [
    {
     "data": {
      "text/plain": [
       "{'Om': 'Dixit', 'Rahul': 'Sharma'}"
      ]
     },
     "execution_count": 34,
     "metadata": {},
     "output_type": "execute_result"
    }
   ],
   "source": [
    "name_surname"
   ]
  },
  {
   "cell_type": "code",
   "execution_count": 35,
   "id": "f9c68574",
   "metadata": {},
   "outputs": [],
   "source": [
    "student_dict = {'Name': 'John', 'age':17,'Height':5.5}"
   ]
  },
  {
   "cell_type": "code",
   "execution_count": 36,
   "id": "6d174359",
   "metadata": {},
   "outputs": [
    {
     "data": {
      "text/plain": [
       "{'Name': 'John', 'age': 17, 'Height': 5.5}"
      ]
     },
     "execution_count": 36,
     "metadata": {},
     "output_type": "execute_result"
    }
   ],
   "source": [
    "student_dict"
   ]
  },
  {
   "cell_type": "code",
   "execution_count": 37,
   "id": "71cb37af",
   "metadata": {},
   "outputs": [],
   "source": [
    "movie = {'Sholey': 1997, 'Happy New Year': 2016, 'Chennai Express':2015}"
   ]
  },
  {
   "cell_type": "code",
   "execution_count": 38,
   "id": "877940d7",
   "metadata": {},
   "outputs": [
    {
     "data": {
      "text/plain": [
       "{'Sholey': 1997, 'Happy New Year': 2016, 'Chennai Express': 2015}"
      ]
     },
     "execution_count": 38,
     "metadata": {},
     "output_type": "execute_result"
    }
   ],
   "source": [
    "movie"
   ]
  },
  {
   "cell_type": "code",
   "execution_count": 39,
   "id": "bb8f1e7d",
   "metadata": {},
   "outputs": [],
   "source": [
    "keys = ['name', 'age', 'grade']"
   ]
  },
  {
   "cell_type": "code",
   "execution_count": 40,
   "id": "2aafadc1",
   "metadata": {},
   "outputs": [],
   "source": [
    "values = ['Rock', 31, 'A+']"
   ]
  },
  {
   "cell_type": "code",
   "execution_count": 41,
   "id": "66c127f5",
   "metadata": {},
   "outputs": [
    {
     "data": {
      "text/plain": [
       "{'name': 'Rock', 'age': 31, 'grade': 'A+'}"
      ]
     },
     "execution_count": 41,
     "metadata": {},
     "output_type": "execute_result"
    }
   ],
   "source": [
    "dict(zip(keys, values))  # Converting into dict"
   ]
  },
  {
   "cell_type": "code",
   "execution_count": 42,
   "id": "d9a463b3",
   "metadata": {},
   "outputs": [],
   "source": [
    "q = dict(zip(keys, values))"
   ]
  },
  {
   "cell_type": "code",
   "execution_count": 43,
   "id": "9efe7749",
   "metadata": {},
   "outputs": [
    {
     "data": {
      "text/plain": [
       "{'name': 'Rock', 'age': 31, 'grade': 'A+'}"
      ]
     },
     "execution_count": 43,
     "metadata": {},
     "output_type": "execute_result"
    }
   ],
   "source": [
    "q"
   ]
  },
  {
   "cell_type": "code",
   "execution_count": 44,
   "id": "bba68a8b",
   "metadata": {},
   "outputs": [
    {
     "data": {
      "text/plain": [
       "31"
      ]
     },
     "execution_count": 44,
     "metadata": {},
     "output_type": "execute_result"
    }
   ],
   "source": [
    "q['age']"
   ]
  },
  {
   "cell_type": "code",
   "execution_count": 45,
   "id": "2731bcef",
   "metadata": {},
   "outputs": [
    {
     "data": {
      "text/plain": [
       "'A+'"
      ]
     },
     "execution_count": 45,
     "metadata": {},
     "output_type": "execute_result"
    }
   ],
   "source": [
    "q['grade']"
   ]
  },
  {
   "cell_type": "code",
   "execution_count": 46,
   "id": "545c18de",
   "metadata": {},
   "outputs": [],
   "source": [
    "q['grade'] = 'B+'"
   ]
  },
  {
   "cell_type": "code",
   "execution_count": 47,
   "id": "1c02879b",
   "metadata": {},
   "outputs": [
    {
     "data": {
      "text/plain": [
       "{'name': 'Rock', 'age': 31, 'grade': 'B+'}"
      ]
     },
     "execution_count": 47,
     "metadata": {},
     "output_type": "execute_result"
    }
   ],
   "source": [
    "q"
   ]
  },
  {
   "cell_type": "code",
   "execution_count": 48,
   "id": "7b5b0df7",
   "metadata": {},
   "outputs": [
    {
     "data": {
      "text/plain": [
       "dict_keys(['name', 'age', 'grade'])"
      ]
     },
     "execution_count": 48,
     "metadata": {},
     "output_type": "execute_result"
    }
   ],
   "source": [
    "q.keys()"
   ]
  },
  {
   "cell_type": "code",
   "execution_count": 49,
   "id": "02f064ef",
   "metadata": {},
   "outputs": [
    {
     "data": {
      "text/plain": [
       "dict_values(['Rock', 31, 'B+'])"
      ]
     },
     "execution_count": 49,
     "metadata": {},
     "output_type": "execute_result"
    }
   ],
   "source": [
    "q.values()"
   ]
  },
  {
   "cell_type": "code",
   "execution_count": 50,
   "id": "ea716973",
   "metadata": {},
   "outputs": [
    {
     "data": {
      "text/plain": [
       "True"
      ]
     },
     "execution_count": 50,
     "metadata": {},
     "output_type": "execute_result"
    }
   ],
   "source": [
    "'grade' in q"
   ]
  },
  {
   "cell_type": "code",
   "execution_count": 51,
   "id": "25f7b4b8",
   "metadata": {},
   "outputs": [
    {
     "data": {
      "text/plain": [
       "False"
      ]
     },
     "execution_count": 51,
     "metadata": {},
     "output_type": "execute_result"
    }
   ],
   "source": [
    "'Score' in q"
   ]
  },
  {
   "cell_type": "code",
   "execution_count": 52,
   "id": "15889857",
   "metadata": {},
   "outputs": [],
   "source": [
    "# Add new element in dict"
   ]
  },
  {
   "cell_type": "code",
   "execution_count": 53,
   "id": "eb97afed",
   "metadata": {},
   "outputs": [],
   "source": [
    "q['Score'] = 'Good'"
   ]
  },
  {
   "cell_type": "code",
   "execution_count": 54,
   "id": "31a4fa47",
   "metadata": {},
   "outputs": [
    {
     "data": {
      "text/plain": [
       "{'name': 'Rock', 'age': 31, 'grade': 'B+', 'Score': 'Good'}"
      ]
     },
     "execution_count": 54,
     "metadata": {},
     "output_type": "execute_result"
    }
   ],
   "source": [
    "q"
   ]
  },
  {
   "cell_type": "code",
   "execution_count": 55,
   "id": "224ea19b",
   "metadata": {},
   "outputs": [],
   "source": [
    "q['Score'] = 'Bad'"
   ]
  },
  {
   "cell_type": "code",
   "execution_count": 56,
   "id": "bc9c4677",
   "metadata": {},
   "outputs": [
    {
     "data": {
      "text/plain": [
       "{'name': 'Rock', 'age': 31, 'grade': 'B+', 'Score': 'Bad'}"
      ]
     },
     "execution_count": 56,
     "metadata": {},
     "output_type": "execute_result"
    }
   ],
   "source": [
    "q"
   ]
  },
  {
   "cell_type": "code",
   "execution_count": 57,
   "id": "42932026",
   "metadata": {},
   "outputs": [],
   "source": [
    "q['Height'] = 5.8"
   ]
  },
  {
   "cell_type": "code",
   "execution_count": 58,
   "id": "0f1d5ecd",
   "metadata": {},
   "outputs": [
    {
     "data": {
      "text/plain": [
       "{'name': 'Rock', 'age': 31, 'grade': 'B+', 'Score': 'Bad', 'Height': 5.8}"
      ]
     },
     "execution_count": 58,
     "metadata": {},
     "output_type": "execute_result"
    }
   ],
   "source": [
    "q"
   ]
  },
  {
   "cell_type": "markdown",
   "id": "0ad24c98",
   "metadata": {},
   "source": [
    "Nested dict"
   ]
  },
  {
   "cell_type": "code",
   "execution_count": 60,
   "id": "c8b0e99b",
   "metadata": {},
   "outputs": [],
   "source": [
    "nested_dict = {\n",
    "    'Person' : {'Om':'Dixit', 'Rahul':'Sharma'},\n",
    "    'address' : {'City': 'Pune', 'State':'MH'}\n",
    "}"
   ]
  },
  {
   "cell_type": "code",
   "execution_count": 61,
   "id": "7c237c00",
   "metadata": {},
   "outputs": [
    {
     "data": {
      "text/plain": [
       "{'Person': {'Om': 'Dixit', 'Rahul': 'Sharma'},\n",
       " 'address': {'City': 'Pune', 'State': 'MH'}}"
      ]
     },
     "execution_count": 61,
     "metadata": {},
     "output_type": "execute_result"
    }
   ],
   "source": [
    "nested_dict"
   ]
  },
  {
   "cell_type": "code",
   "execution_count": 62,
   "id": "b2a5575f",
   "metadata": {},
   "outputs": [
    {
     "data": {
      "text/plain": [
       "{'Om': 'Dixit', 'Rahul': 'Sharma'}"
      ]
     },
     "execution_count": 62,
     "metadata": {},
     "output_type": "execute_result"
    }
   ],
   "source": [
    "nested_dict['Person']"
   ]
  },
  {
   "cell_type": "code",
   "execution_count": 63,
   "id": "a36ab367",
   "metadata": {},
   "outputs": [
    {
     "data": {
      "text/plain": [
       "{'City': 'Pune', 'State': 'MH'}"
      ]
     },
     "execution_count": 63,
     "metadata": {},
     "output_type": "execute_result"
    }
   ],
   "source": [
    "nested_dict['address']"
   ]
  },
  {
   "cell_type": "code",
   "execution_count": null,
   "id": "e60cb167",
   "metadata": {},
   "outputs": [],
   "source": []
  }
 ],
 "metadata": {
  "kernelspec": {
   "display_name": "Python 3 (ipykernel)",
   "language": "python",
   "name": "python3"
  },
  "language_info": {
   "codemirror_mode": {
    "name": "ipython",
    "version": 3
   },
   "file_extension": ".py",
   "mimetype": "text/x-python",
   "name": "python",
   "nbconvert_exporter": "python",
   "pygments_lexer": "ipython3",
   "version": "3.11.5"
  }
 },
 "nbformat": 4,
 "nbformat_minor": 5
}

{
 "cells": [
  {
   "cell_type": "code",
   "execution_count": 1,
   "id": "4ffca21f",
   "metadata": {},
   "outputs": [],
   "source": [
    "class car:\n",
    "    def __init__(self,body_type,engine,fuel,color):\n",
    "        self.body_type = body_type\n",
    "        self.engine = engine\n",
    "        self.fuel = fuel\n",
    "        self.color = color\n",
    "    def test(self):\n",
    "        print('This is my test in class of car')"
   ]
  },
  {
   "cell_type": "code",
   "execution_count": 2,
   "id": "f3723047",
   "metadata": {},
   "outputs": [],
   "source": [
    "Nexon = car('SUV',1500,'Petrol','Red')"
   ]
  },
  {
   "cell_type": "code",
   "execution_count": 3,
   "id": "81daa976",
   "metadata": {},
   "outputs": [
    {
     "data": {
      "text/plain": [
       "'SUV'"
      ]
     },
     "execution_count": 3,
     "metadata": {},
     "output_type": "execute_result"
    }
   ],
   "source": [
    "Nexon.body_type"
   ]
  },
  {
   "cell_type": "code",
   "execution_count": 4,
   "id": "8fc2f06f",
   "metadata": {},
   "outputs": [
    {
     "data": {
      "text/plain": [
       "'Red'"
      ]
     },
     "execution_count": 4,
     "metadata": {},
     "output_type": "execute_result"
    }
   ],
   "source": [
    "Nexon.color"
   ]
  },
  {
   "cell_type": "code",
   "execution_count": 5,
   "id": "08365c38",
   "metadata": {},
   "outputs": [
    {
     "data": {
      "text/plain": [
       "1500"
      ]
     },
     "execution_count": 5,
     "metadata": {},
     "output_type": "execute_result"
    }
   ],
   "source": [
    "Nexon.engine"
   ]
  },
  {
   "cell_type": "code",
   "execution_count": 6,
   "id": "d4a4c3a8",
   "metadata": {},
   "outputs": [
    {
     "data": {
      "text/plain": [
       "'Petrol'"
      ]
     },
     "execution_count": 6,
     "metadata": {},
     "output_type": "execute_result"
    }
   ],
   "source": [
    "Nexon.fuel"
   ]
  },
  {
   "cell_type": "code",
   "execution_count": 7,
   "id": "63f12861",
   "metadata": {},
   "outputs": [
    {
     "name": "stdout",
     "output_type": "stream",
     "text": [
      "This is my test in class of car\n"
     ]
    }
   ],
   "source": [
    "Nexon.test()"
   ]
  },
  {
   "cell_type": "code",
   "execution_count": 8,
   "id": "832be582",
   "metadata": {},
   "outputs": [],
   "source": [
    "Fortuner = car('SUV',2000,'Diesel','White')"
   ]
  },
  {
   "cell_type": "code",
   "execution_count": 9,
   "id": "a9067d3a",
   "metadata": {},
   "outputs": [
    {
     "data": {
      "text/plain": [
       "'SUV'"
      ]
     },
     "execution_count": 9,
     "metadata": {},
     "output_type": "execute_result"
    }
   ],
   "source": [
    "Fortuner.body_type"
   ]
  },
  {
   "cell_type": "code",
   "execution_count": 10,
   "id": "2e44af94",
   "metadata": {},
   "outputs": [
    {
     "data": {
      "text/plain": [
       "'White'"
      ]
     },
     "execution_count": 10,
     "metadata": {},
     "output_type": "execute_result"
    }
   ],
   "source": [
    "Fortuner.color"
   ]
  },
  {
   "cell_type": "code",
   "execution_count": 11,
   "id": "8200c654",
   "metadata": {},
   "outputs": [
    {
     "data": {
      "text/plain": [
       "2000"
      ]
     },
     "execution_count": 11,
     "metadata": {},
     "output_type": "execute_result"
    }
   ],
   "source": [
    "Fortuner.engine"
   ]
  },
  {
   "cell_type": "code",
   "execution_count": 12,
   "id": "e2a596f5",
   "metadata": {},
   "outputs": [
    {
     "name": "stdout",
     "output_type": "stream",
     "text": [
      "This is my test in class of car\n"
     ]
    }
   ],
   "source": [
    "Fortuner.test()"
   ]
  },
  {
   "cell_type": "code",
   "execution_count": 13,
   "id": "e696a5fb",
   "metadata": {},
   "outputs": [],
   "source": [
    "class house:\n",
    "    def __init__(self,Area,BHK,Floor,Type):\n",
    "        self.Area = Area\n",
    "        self.BHK = BHK\n",
    "        self.Floor = Floor\n",
    "        self.House_type = Type\n",
    "        "
   ]
  },
  {
   "cell_type": "code",
   "execution_count": 14,
   "id": "da1838da",
   "metadata": {},
   "outputs": [],
   "source": [
    "Sachin = house('1000sq/ft','3BHK','3Floor','Apartment') "
   ]
  },
  {
   "cell_type": "code",
   "execution_count": 15,
   "id": "b731d782",
   "metadata": {},
   "outputs": [
    {
     "data": {
      "text/plain": [
       "'1000sq/ft'"
      ]
     },
     "execution_count": 15,
     "metadata": {},
     "output_type": "execute_result"
    }
   ],
   "source": [
    "Sachin.Area"
   ]
  },
  {
   "cell_type": "code",
   "execution_count": 16,
   "id": "674f39fb",
   "metadata": {},
   "outputs": [
    {
     "data": {
      "text/plain": [
       "'3BHK'"
      ]
     },
     "execution_count": 16,
     "metadata": {},
     "output_type": "execute_result"
    }
   ],
   "source": [
    "Sachin.BHK"
   ]
  },
  {
   "cell_type": "code",
   "execution_count": 17,
   "id": "f1e2c134",
   "metadata": {},
   "outputs": [
    {
     "data": {
      "text/plain": [
       "'3Floor'"
      ]
     },
     "execution_count": 17,
     "metadata": {},
     "output_type": "execute_result"
    }
   ],
   "source": [
    "Sachin.Floor"
   ]
  },
  {
   "cell_type": "code",
   "execution_count": 18,
   "id": "7c902d71",
   "metadata": {},
   "outputs": [
    {
     "data": {
      "text/plain": [
       "'Apartment'"
      ]
     },
     "execution_count": 18,
     "metadata": {},
     "output_type": "execute_result"
    }
   ],
   "source": [
    "Sachin.House_type"
   ]
  },
  {
   "cell_type": "code",
   "execution_count": 19,
   "id": "d3af0ec8",
   "metadata": {},
   "outputs": [],
   "source": [
    "class number_game:\n",
    "    def __init__(self,a):\n",
    "        self.a = a\n",
    "    def test1(self):\n",
    "        return self.a + 10\n",
    "    def test2(self):\n",
    "        return self.a - 5\n",
    "    def test3(self):\n",
    "        return self.a * 3"
   ]
  },
  {
   "cell_type": "code",
   "execution_count": 20,
   "id": "59ed6eb0",
   "metadata": {},
   "outputs": [],
   "source": [
    "DATA_GAME =number_game(10)"
   ]
  },
  {
   "cell_type": "code",
   "execution_count": 21,
   "id": "794d3902",
   "metadata": {},
   "outputs": [
    {
     "data": {
      "text/plain": [
       "10"
      ]
     },
     "execution_count": 21,
     "metadata": {},
     "output_type": "execute_result"
    }
   ],
   "source": [
    "DATA_GAME.a"
   ]
  },
  {
   "cell_type": "code",
   "execution_count": 23,
   "id": "effe81ec",
   "metadata": {},
   "outputs": [
    {
     "data": {
      "text/plain": [
       "20"
      ]
     },
     "execution_count": 23,
     "metadata": {},
     "output_type": "execute_result"
    }
   ],
   "source": [
    "DATA_GAME.test1()"
   ]
  },
  {
   "cell_type": "code",
   "execution_count": 24,
   "id": "b2aad704",
   "metadata": {},
   "outputs": [
    {
     "data": {
      "text/plain": [
       "5"
      ]
     },
     "execution_count": 24,
     "metadata": {},
     "output_type": "execute_result"
    }
   ],
   "source": [
    "DATA_GAME.test2()"
   ]
  },
  {
   "cell_type": "code",
   "execution_count": 25,
   "id": "53e187e6",
   "metadata": {},
   "outputs": [
    {
     "data": {
      "text/plain": [
       "30"
      ]
     },
     "execution_count": 25,
     "metadata": {},
     "output_type": "execute_result"
    }
   ],
   "source": [
    "DATA_GAME.test3()"
   ]
  },
  {
   "cell_type": "code",
   "execution_count": 27,
   "id": "251d8806",
   "metadata": {},
   "outputs": [],
   "source": [
    "class list_parcer:\n",
    "    def __init__(self,a):\n",
    "        self.a = a\n",
    "        \n",
    "    def parcer(self):\n",
    "        if type(self.a) == list:\n",
    "            for i in self.a:\n",
    "                print(i)\n",
    "                \n",
    "                \n",
    "    def reverse_list(self):\n",
    "        if type(self.a) == list:\n",
    "            return self.a[::-1]"
   ]
  },
  {
   "cell_type": "code",
   "execution_count": 28,
   "id": "6c71c58d",
   "metadata": {},
   "outputs": [],
   "source": [
    "k = list_parcer([1,2,3,4,5])"
   ]
  },
  {
   "cell_type": "code",
   "execution_count": 29,
   "id": "aa63b4b3",
   "metadata": {},
   "outputs": [
    {
     "data": {
      "text/plain": [
       "[1, 2, 3, 4, 5]"
      ]
     },
     "execution_count": 29,
     "metadata": {},
     "output_type": "execute_result"
    }
   ],
   "source": [
    "k.a"
   ]
  },
  {
   "cell_type": "code",
   "execution_count": 31,
   "id": "8e56091b",
   "metadata": {},
   "outputs": [
    {
     "name": "stdout",
     "output_type": "stream",
     "text": [
      "1\n",
      "2\n",
      "3\n",
      "4\n",
      "5\n"
     ]
    }
   ],
   "source": [
    "k.parcer()"
   ]
  },
  {
   "cell_type": "code",
   "execution_count": 32,
   "id": "5a4b7015",
   "metadata": {},
   "outputs": [
    {
     "data": {
      "text/plain": [
       "[5, 4, 3, 2, 1]"
      ]
     },
     "execution_count": 32,
     "metadata": {},
     "output_type": "execute_result"
    }
   ],
   "source": [
    "k.reverse_list()"
   ]
  },
  {
   "cell_type": "code",
   "execution_count": null,
   "id": "5d6ed047",
   "metadata": {},
   "outputs": [],
   "source": []
  }
 ],
 "metadata": {
  "kernelspec": {
   "display_name": "Python 3 (ipykernel)",
   "language": "python",
   "name": "python3"
  },
  "language_info": {
   "codemirror_mode": {
    "name": "ipython",
    "version": 3
   },
   "file_extension": ".py",
   "mimetype": "text/x-python",
   "name": "python",
   "nbconvert_exporter": "python",
   "pygments_lexer": "ipython3",
   "version": "3.11.5"
  }
 },
 "nbformat": 4,
 "nbformat_minor": 5
}

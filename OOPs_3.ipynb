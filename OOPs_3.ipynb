{
 "cells": [
  {
   "cell_type": "code",
   "execution_count": 4,
   "id": "6b047404",
   "metadata": {},
   "outputs": [],
   "source": [
    "class xyz:\n",
    "    def __init__(self,a,b,c):\n",
    "        self.a = a # public\n",
    "        self._b = b #Protected\n",
    "        self.__c = c # Private\n",
    "        \n",
    "class xyz2(xyz):\n",
    "    pass\n",
    "        "
   ]
  },
  {
   "cell_type": "code",
   "execution_count": 6,
   "id": "3a00aee0",
   "metadata": {},
   "outputs": [],
   "source": [
    "x = xyz2(1,2,3)"
   ]
  },
  {
   "cell_type": "code",
   "execution_count": 7,
   "id": "31abb939",
   "metadata": {},
   "outputs": [
    {
     "data": {
      "text/plain": [
       "1"
      ]
     },
     "execution_count": 7,
     "metadata": {},
     "output_type": "execute_result"
    }
   ],
   "source": [
    "x.a"
   ]
  },
  {
   "cell_type": "code",
   "execution_count": 8,
   "id": "d5a81350",
   "metadata": {},
   "outputs": [
    {
     "data": {
      "text/plain": [
       "2"
      ]
     },
     "execution_count": 8,
     "metadata": {},
     "output_type": "execute_result"
    }
   ],
   "source": [
    "x._b"
   ]
  },
  {
   "cell_type": "code",
   "execution_count": 9,
   "id": "a16cc369",
   "metadata": {},
   "outputs": [
    {
     "data": {
      "text/plain": [
       "3"
      ]
     },
     "execution_count": 9,
     "metadata": {},
     "output_type": "execute_result"
    }
   ],
   "source": [
    "x._xyz__c"
   ]
  },
  {
   "cell_type": "markdown",
   "id": "b6a7c196",
   "metadata": {},
   "source": [
    "# Polymorphism"
   ]
  },
  {
   "cell_type": "code",
   "execution_count": 10,
   "id": "1e64daa3",
   "metadata": {},
   "outputs": [],
   "source": [
    "# Method Overriding"
   ]
  },
  {
   "cell_type": "code",
   "execution_count": 11,
   "id": "dd5fc422",
   "metadata": {},
   "outputs": [],
   "source": [
    "class Animal:\n",
    "    def make_sound(self):\n",
    "        print('Animal makes sound')\n",
    "class Dog(Animal):\n",
    "    def make_sound(self):\n",
    "        print('Dog Barks')\n",
    "         \n",
    "class Cat(Animal):\n",
    "    def make_sound(self):\n",
    "        print('Cat mewos')"
   ]
  },
  {
   "cell_type": "code",
   "execution_count": 12,
   "id": "ec9bf478",
   "metadata": {},
   "outputs": [],
   "source": [
    "dog = Dog()"
   ]
  },
  {
   "cell_type": "code",
   "execution_count": 13,
   "id": "92d876d8",
   "metadata": {},
   "outputs": [
    {
     "name": "stdout",
     "output_type": "stream",
     "text": [
      "Dog Barks\n"
     ]
    }
   ],
   "source": [
    "dog.make_sound()"
   ]
  },
  {
   "cell_type": "code",
   "execution_count": 14,
   "id": "bf587e63",
   "metadata": {},
   "outputs": [],
   "source": [
    "cat = Cat()"
   ]
  },
  {
   "cell_type": "code",
   "execution_count": 15,
   "id": "c4ad1b55",
   "metadata": {},
   "outputs": [
    {
     "name": "stdout",
     "output_type": "stream",
     "text": [
      "Cat mewos\n"
     ]
    }
   ],
   "source": [
    "cat.make_sound()"
   ]
  },
  {
   "cell_type": "code",
   "execution_count": 16,
   "id": "824e18d8",
   "metadata": {},
   "outputs": [],
   "source": [
    "elephent = Animal()"
   ]
  },
  {
   "cell_type": "code",
   "execution_count": 18,
   "id": "99492897",
   "metadata": {},
   "outputs": [
    {
     "name": "stdout",
     "output_type": "stream",
     "text": [
      "Animal makes sound\n"
     ]
    }
   ],
   "source": [
    "elephent.make_sound()"
   ]
  },
  {
   "cell_type": "code",
   "execution_count": 20,
   "id": "562cd5ea",
   "metadata": {},
   "outputs": [],
   "source": [
    "class Shape:\n",
    "    def area(self):\n",
    "        pass\n",
    "class Rectangle(Shape):\n",
    "    def __init__(self,width, height):\n",
    "        self.width = width\n",
    "        self.height= height\n",
    "        \n",
    "    def area(self):\n",
    "        return self.width * self.height\n",
    "    \n",
    "class Circle(Shape):\n",
    "    def __init__(self,redius):\n",
    "        self.redius = redius\n",
    "        \n",
    "    def area(self):\n",
    "        return 3.14 * self.redius ** 2\n",
    "    "
   ]
  },
  {
   "cell_type": "code",
   "execution_count": 21,
   "id": "eda9d72d",
   "metadata": {},
   "outputs": [],
   "source": [
    "rect = Rectangle(5,4)"
   ]
  },
  {
   "cell_type": "code",
   "execution_count": 22,
   "id": "1e04f812",
   "metadata": {},
   "outputs": [
    {
     "data": {
      "text/plain": [
       "20"
      ]
     },
     "execution_count": 22,
     "metadata": {},
     "output_type": "execute_result"
    }
   ],
   "source": [
    "rect.area()"
   ]
  },
  {
   "cell_type": "code",
   "execution_count": 23,
   "id": "782156c1",
   "metadata": {},
   "outputs": [
    {
     "data": {
      "text/plain": [
       "4"
      ]
     },
     "execution_count": 23,
     "metadata": {},
     "output_type": "execute_result"
    }
   ],
   "source": [
    "rect.height"
   ]
  },
  {
   "cell_type": "code",
   "execution_count": 24,
   "id": "dbdb7fe9",
   "metadata": {},
   "outputs": [
    {
     "data": {
      "text/plain": [
       "5"
      ]
     },
     "execution_count": 24,
     "metadata": {},
     "output_type": "execute_result"
    }
   ],
   "source": [
    "rect.width"
   ]
  },
  {
   "cell_type": "code",
   "execution_count": 25,
   "id": "246bd558",
   "metadata": {},
   "outputs": [],
   "source": [
    "circle = Circle(10)"
   ]
  },
  {
   "cell_type": "code",
   "execution_count": 26,
   "id": "5b8cdd98",
   "metadata": {},
   "outputs": [
    {
     "data": {
      "text/plain": [
       "314.0"
      ]
     },
     "execution_count": 26,
     "metadata": {},
     "output_type": "execute_result"
    }
   ],
   "source": [
    "circle.area()"
   ]
  },
  {
   "cell_type": "code",
   "execution_count": 27,
   "id": "4ec3e2e3",
   "metadata": {},
   "outputs": [
    {
     "data": {
      "text/plain": [
       "10"
      ]
     },
     "execution_count": 27,
     "metadata": {},
     "output_type": "execute_result"
    }
   ],
   "source": [
    "circle.redius"
   ]
  },
  {
   "cell_type": "code",
   "execution_count": 28,
   "id": "ec051f18",
   "metadata": {},
   "outputs": [],
   "source": [
    "class Social_Media:\n",
    "    def share_stories(self):\n",
    "        print('Share a story')\n",
    "    def upload_pic(self):\n",
    "        print(\"This will help me to upload picture\")\n",
    "class facebook(Social_Media):\n",
    "    def share_stories(self):\n",
    "        print('This will help me to share story on Facebook')\n",
    "class Instagram(Social_Media):\n",
    "    def share_stories(self):\n",
    "        print('This will help me to share story on Instagram')"
   ]
  },
  {
   "cell_type": "code",
   "execution_count": 29,
   "id": "26dfde2d",
   "metadata": {},
   "outputs": [],
   "source": [
    "f = facebook()"
   ]
  },
  {
   "cell_type": "code",
   "execution_count": 30,
   "id": "b5155f2c",
   "metadata": {},
   "outputs": [
    {
     "name": "stdout",
     "output_type": "stream",
     "text": [
      "This will help me to upload picture\n"
     ]
    }
   ],
   "source": [
    "f.upload_pic()"
   ]
  },
  {
   "cell_type": "code",
   "execution_count": 31,
   "id": "1261103a",
   "metadata": {},
   "outputs": [
    {
     "name": "stdout",
     "output_type": "stream",
     "text": [
      "This will help me to share story on Facebook\n"
     ]
    }
   ],
   "source": [
    "f.share_stories()"
   ]
  },
  {
   "cell_type": "code",
   "execution_count": 32,
   "id": "d5d0b88b",
   "metadata": {},
   "outputs": [],
   "source": [
    "i = Instagram()"
   ]
  },
  {
   "cell_type": "code",
   "execution_count": 33,
   "id": "6cdf781b",
   "metadata": {},
   "outputs": [
    {
     "name": "stdout",
     "output_type": "stream",
     "text": [
      "This will help me to upload picture\n"
     ]
    }
   ],
   "source": [
    "i.upload_pic()"
   ]
  },
  {
   "cell_type": "code",
   "execution_count": 34,
   "id": "2cd97be0",
   "metadata": {},
   "outputs": [
    {
     "name": "stdout",
     "output_type": "stream",
     "text": [
      "This will help me to share story on Instagram\n"
     ]
    }
   ],
   "source": [
    "i.share_stories()"
   ]
  },
  {
   "cell_type": "code",
   "execution_count": null,
   "id": "9dfe02c8",
   "metadata": {},
   "outputs": [],
   "source": []
  }
 ],
 "metadata": {
  "kernelspec": {
   "display_name": "Python 3 (ipykernel)",
   "language": "python",
   "name": "python3"
  },
  "language_info": {
   "codemirror_mode": {
    "name": "ipython",
    "version": 3
   },
   "file_extension": ".py",
   "mimetype": "text/x-python",
   "name": "python",
   "nbconvert_exporter": "python",
   "pygments_lexer": "ipython3",
   "version": "3.11.5"
  }
 },
 "nbformat": 4,
 "nbformat_minor": 5
}

{
 "cells": [
  {
   "cell_type": "raw",
   "id": "3c33deb9",
   "metadata": {},
   "source": [
    "# 1. Lists:\n",
    "A collection of items ordered by index.\n",
    "Mutable, allowing for addition, removal, and modification of elements.\n",
    "Example: my_list = [1, 2, 3, 'hello']\n"
   ]
  },
  {
   "cell_type": "raw",
   "id": "6f59b9a8",
   "metadata": {},
   "source": [
    "List is inbuilt data type used to store a collection of items.\n",
    "List is mutable,order, and list can contain elements of diffrent data types"
   ]
  },
  {
   "cell_type": "code",
   "execution_count": 1,
   "id": "1dda9d1a",
   "metadata": {},
   "outputs": [],
   "source": [
    "p = [2, 4, 6, 8, 10, 12, 14, 16, 18, 20]"
   ]
  },
  {
   "cell_type": "code",
   "execution_count": 2,
   "id": "a7ea8210",
   "metadata": {},
   "outputs": [
    {
     "data": {
      "text/plain": [
       "[2, 4, 6, 8, 10, 12, 14, 16, 18, 20]"
      ]
     },
     "execution_count": 2,
     "metadata": {},
     "output_type": "execute_result"
    }
   ],
   "source": [
    "p"
   ]
  },
  {
   "cell_type": "code",
   "execution_count": 4,
   "id": "0f7a07f2",
   "metadata": {},
   "outputs": [
    {
     "data": {
      "text/plain": [
       "[2, 6, 10]"
      ]
     },
     "execution_count": 4,
     "metadata": {},
     "output_type": "execute_result"
    }
   ],
   "source": [
    "p[0:5:2]"
   ]
  },
  {
   "cell_type": "code",
   "execution_count": 5,
   "id": "0a1357e9",
   "metadata": {},
   "outputs": [
    {
     "data": {
      "text/plain": [
       "[2, 4, 6, 8, 10, 12, 14, 16, 18, 20]"
      ]
     },
     "execution_count": 5,
     "metadata": {},
     "output_type": "execute_result"
    }
   ],
   "source": [
    "p"
   ]
  },
  {
   "cell_type": "code",
   "execution_count": 6,
   "id": "1e8b891e",
   "metadata": {},
   "outputs": [
    {
     "data": {
      "text/plain": [
       "list"
      ]
     },
     "execution_count": 6,
     "metadata": {},
     "output_type": "execute_result"
    }
   ],
   "source": [
    "type(p)"
   ]
  },
  {
   "cell_type": "code",
   "execution_count": 7,
   "id": "94a5fd73",
   "metadata": {},
   "outputs": [],
   "source": [
    "p.append(5)"
   ]
  },
  {
   "cell_type": "code",
   "execution_count": 8,
   "id": "21e0defb",
   "metadata": {},
   "outputs": [
    {
     "data": {
      "text/plain": [
       "[2, 4, 6, 8, 10, 12, 14, 16, 18, 20, 5]"
      ]
     },
     "execution_count": 8,
     "metadata": {},
     "output_type": "execute_result"
    }
   ],
   "source": [
    "p"
   ]
  },
  {
   "cell_type": "code",
   "execution_count": 9,
   "id": "b605f042",
   "metadata": {},
   "outputs": [],
   "source": [
    "# Empty List\n",
    "empty_list = []"
   ]
  },
  {
   "cell_type": "code",
   "execution_count": 10,
   "id": "678a7ee4",
   "metadata": {},
   "outputs": [
    {
     "data": {
      "text/plain": [
       "[]"
      ]
     },
     "execution_count": 10,
     "metadata": {},
     "output_type": "execute_result"
    }
   ],
   "source": [
    "empty_list"
   ]
  },
  {
   "cell_type": "code",
   "execution_count": 11,
   "id": "929e84a5",
   "metadata": {},
   "outputs": [],
   "source": [
    "# Creating a list with elements"
   ]
  },
  {
   "cell_type": "code",
   "execution_count": 12,
   "id": "894cf7c6",
   "metadata": {},
   "outputs": [],
   "source": [
    "numbers = [1,2,3,4,5]"
   ]
  },
  {
   "cell_type": "code",
   "execution_count": 13,
   "id": "8ae6285e",
   "metadata": {},
   "outputs": [
    {
     "data": {
      "text/plain": [
       "[1, 2, 3, 4, 5]"
      ]
     },
     "execution_count": 13,
     "metadata": {},
     "output_type": "execute_result"
    }
   ],
   "source": [
    "numbers"
   ]
  },
  {
   "cell_type": "code",
   "execution_count": 14,
   "id": "95ee29fd",
   "metadata": {},
   "outputs": [],
   "source": [
    "names = ['Rajat','Data','New','Year']"
   ]
  },
  {
   "cell_type": "code",
   "execution_count": 15,
   "id": "e1475a73",
   "metadata": {},
   "outputs": [
    {
     "data": {
      "text/plain": [
       "['Rajat', 'Data', 'New', 'Year']"
      ]
     },
     "execution_count": 15,
     "metadata": {},
     "output_type": "execute_result"
    }
   ],
   "source": [
    "names"
   ]
  },
  {
   "cell_type": "code",
   "execution_count": 16,
   "id": "ba369c39",
   "metadata": {},
   "outputs": [],
   "source": [
    "mixes_data = ['Rajat', 10, 15.5, 10 + 5j, True]"
   ]
  },
  {
   "cell_type": "code",
   "execution_count": 17,
   "id": "bc3f78ae",
   "metadata": {},
   "outputs": [
    {
     "data": {
      "text/plain": [
       "['Rajat', 10, 15.5, (10+5j), True]"
      ]
     },
     "execution_count": 17,
     "metadata": {},
     "output_type": "execute_result"
    }
   ],
   "source": [
    "mixes_data"
   ]
  },
  {
   "cell_type": "code",
   "execution_count": 18,
   "id": "353be735",
   "metadata": {},
   "outputs": [
    {
     "data": {
      "text/plain": [
       "list"
      ]
     },
     "execution_count": 18,
     "metadata": {},
     "output_type": "execute_result"
    }
   ],
   "source": [
    "type(mixes_data)"
   ]
  },
  {
   "cell_type": "code",
   "execution_count": 19,
   "id": "d33b41ad",
   "metadata": {},
   "outputs": [],
   "source": [
    "# Concatination"
   ]
  },
  {
   "cell_type": "code",
   "execution_count": 20,
   "id": "863ef1b3",
   "metadata": {},
   "outputs": [
    {
     "data": {
      "text/plain": [
       "[1, 2, 3, 4, 5]"
      ]
     },
     "execution_count": 20,
     "metadata": {},
     "output_type": "execute_result"
    }
   ],
   "source": [
    "numbers"
   ]
  },
  {
   "cell_type": "code",
   "execution_count": 21,
   "id": "13cd63cc",
   "metadata": {},
   "outputs": [
    {
     "data": {
      "text/plain": [
       "['Rajat', 10, 15.5, (10+5j), True]"
      ]
     },
     "execution_count": 21,
     "metadata": {},
     "output_type": "execute_result"
    }
   ],
   "source": [
    "mixes_data\n"
   ]
  },
  {
   "cell_type": "code",
   "execution_count": 22,
   "id": "0dbb5022",
   "metadata": {},
   "outputs": [
    {
     "data": {
      "text/plain": [
       "[1, 2, 3, 4, 5, 'Rajat', 10, 15.5, (10+5j), True]"
      ]
     },
     "execution_count": 22,
     "metadata": {},
     "output_type": "execute_result"
    }
   ],
   "source": [
    "numbers + mixes_data"
   ]
  },
  {
   "cell_type": "code",
   "execution_count": 23,
   "id": "61bd4fe7",
   "metadata": {},
   "outputs": [],
   "source": [
    "data = numbers + mixes_data"
   ]
  },
  {
   "cell_type": "code",
   "execution_count": 24,
   "id": "54d8c06a",
   "metadata": {},
   "outputs": [
    {
     "data": {
      "text/plain": [
       "[1, 2, 3, 4, 5, 'Rajat', 10, 15.5, (10+5j), True]"
      ]
     },
     "execution_count": 24,
     "metadata": {},
     "output_type": "execute_result"
    }
   ],
   "source": [
    "data"
   ]
  },
  {
   "cell_type": "code",
   "execution_count": 25,
   "id": "96eadc4c",
   "metadata": {},
   "outputs": [],
   "source": [
    "#length list"
   ]
  },
  {
   "cell_type": "code",
   "execution_count": 26,
   "id": "03fb29ce",
   "metadata": {},
   "outputs": [
    {
     "data": {
      "text/plain": [
       "5"
      ]
     },
     "execution_count": 26,
     "metadata": {},
     "output_type": "execute_result"
    }
   ],
   "source": [
    "len(numbers)"
   ]
  },
  {
   "cell_type": "code",
   "execution_count": 27,
   "id": "2a5076d7",
   "metadata": {},
   "outputs": [
    {
     "data": {
      "text/plain": [
       "4"
      ]
     },
     "execution_count": 27,
     "metadata": {},
     "output_type": "execute_result"
    }
   ],
   "source": [
    "len(names)"
   ]
  },
  {
   "cell_type": "code",
   "execution_count": 28,
   "id": "30e103ed",
   "metadata": {},
   "outputs": [
    {
     "data": {
      "text/plain": [
       "['Rajat', 'Data', 'New', 'Year']"
      ]
     },
     "execution_count": 28,
     "metadata": {},
     "output_type": "execute_result"
    }
   ],
   "source": [
    "names"
   ]
  },
  {
   "cell_type": "code",
   "execution_count": 29,
   "id": "bdd246da",
   "metadata": {},
   "outputs": [
    {
     "data": {
      "text/plain": [
       "['Rajat', 'Data', 'New', 'Year', 'Rajat', 'Data', 'New', 'Year']"
      ]
     },
     "execution_count": 29,
     "metadata": {},
     "output_type": "execute_result"
    }
   ],
   "source": [
    "names * 2"
   ]
  },
  {
   "cell_type": "code",
   "execution_count": 30,
   "id": "df930b9d",
   "metadata": {},
   "outputs": [
    {
     "data": {
      "text/plain": [
       "['Rajat', 'Data', 'New', 'Year']"
      ]
     },
     "execution_count": 30,
     "metadata": {},
     "output_type": "execute_result"
    }
   ],
   "source": [
    "names"
   ]
  },
  {
   "cell_type": "code",
   "execution_count": 31,
   "id": "95f51d69",
   "metadata": {},
   "outputs": [],
   "source": [
    "names2 = names * 2"
   ]
  },
  {
   "cell_type": "code",
   "execution_count": 32,
   "id": "ce62ea9e",
   "metadata": {},
   "outputs": [
    {
     "data": {
      "text/plain": [
       "['Rajat', 'Data', 'New', 'Year', 'Rajat', 'Data', 'New', 'Year']"
      ]
     },
     "execution_count": 32,
     "metadata": {},
     "output_type": "execute_result"
    }
   ],
   "source": [
    "names2"
   ]
  },
  {
   "cell_type": "code",
   "execution_count": 36,
   "id": "bae5dbe0",
   "metadata": {},
   "outputs": [
    {
     "data": {
      "text/plain": [
       "True"
      ]
     },
     "execution_count": 36,
     "metadata": {},
     "output_type": "execute_result"
    }
   ],
   "source": [
    "'Year' in names"
   ]
  },
  {
   "cell_type": "code",
   "execution_count": 37,
   "id": "f86f2861",
   "metadata": {},
   "outputs": [],
   "source": [
    "# Modify list"
   ]
  },
  {
   "cell_type": "code",
   "execution_count": 38,
   "id": "106e286f",
   "metadata": {},
   "outputs": [],
   "source": [
    "numbers[2] = 88"
   ]
  },
  {
   "cell_type": "code",
   "execution_count": 39,
   "id": "a2085614",
   "metadata": {},
   "outputs": [
    {
     "data": {
      "text/plain": [
       "[1, 2, 88, 4, 5]"
      ]
     },
     "execution_count": 39,
     "metadata": {},
     "output_type": "execute_result"
    }
   ],
   "source": [
    "numbers"
   ]
  },
  {
   "cell_type": "code",
   "execution_count": 40,
   "id": "27916f88",
   "metadata": {},
   "outputs": [],
   "source": [
    "numbers.append(120)"
   ]
  },
  {
   "cell_type": "code",
   "execution_count": 41,
   "id": "702705d9",
   "metadata": {},
   "outputs": [
    {
     "data": {
      "text/plain": [
       "[1, 2, 88, 4, 5, 120]"
      ]
     },
     "execution_count": 41,
     "metadata": {},
     "output_type": "execute_result"
    }
   ],
   "source": [
    "numbers"
   ]
  },
  {
   "cell_type": "code",
   "execution_count": 42,
   "id": "3aa7e451",
   "metadata": {},
   "outputs": [],
   "source": [
    "names.append('Om')"
   ]
  },
  {
   "cell_type": "code",
   "execution_count": 43,
   "id": "a3f634db",
   "metadata": {},
   "outputs": [
    {
     "data": {
      "text/plain": [
       "['Rajat', 'Data', 'New', 'Year', 'Om']"
      ]
     },
     "execution_count": 43,
     "metadata": {},
     "output_type": "execute_result"
    }
   ],
   "source": [
    "names"
   ]
  },
  {
   "cell_type": "code",
   "execution_count": 44,
   "id": "cb542aef",
   "metadata": {},
   "outputs": [],
   "source": [
    "names.extend('Sham')"
   ]
  },
  {
   "cell_type": "code",
   "execution_count": 45,
   "id": "ceae9c0c",
   "metadata": {},
   "outputs": [
    {
     "data": {
      "text/plain": [
       "['Rajat', 'Data', 'New', 'Year', 'Om', 'S', 'h', 'a', 'm']"
      ]
     },
     "execution_count": 45,
     "metadata": {},
     "output_type": "execute_result"
    }
   ],
   "source": [
    "names"
   ]
  },
  {
   "cell_type": "code",
   "execution_count": 47,
   "id": "db351857",
   "metadata": {},
   "outputs": [],
   "source": [
    "numbers.extend([10,15])"
   ]
  },
  {
   "cell_type": "code",
   "execution_count": 48,
   "id": "8b068e07",
   "metadata": {},
   "outputs": [
    {
     "data": {
      "text/plain": [
       "[1, 2, 88, 4, 5, 120, 10, 15]"
      ]
     },
     "execution_count": 48,
     "metadata": {},
     "output_type": "execute_result"
    }
   ],
   "source": [
    "numbers"
   ]
  },
  {
   "cell_type": "code",
   "execution_count": 49,
   "id": "c9d78dc2",
   "metadata": {},
   "outputs": [],
   "source": [
    "# Insert"
   ]
  },
  {
   "cell_type": "code",
   "execution_count": 50,
   "id": "f0873c86",
   "metadata": {},
   "outputs": [],
   "source": [
    "names.insert(1,'Science')"
   ]
  },
  {
   "cell_type": "code",
   "execution_count": 51,
   "id": "9ec31954",
   "metadata": {},
   "outputs": [
    {
     "data": {
      "text/plain": [
       "['Rajat', 'Science', 'Data', 'New', 'Year', 'Om', 'S', 'h', 'a', 'm']"
      ]
     },
     "execution_count": 51,
     "metadata": {},
     "output_type": "execute_result"
    }
   ],
   "source": [
    "names"
   ]
  },
  {
   "cell_type": "code",
   "execution_count": null,
   "id": "2b8f5bf4",
   "metadata": {},
   "outputs": [],
   "source": []
  }
 ],
 "metadata": {
  "kernelspec": {
   "display_name": "Python 3 (ipykernel)",
   "language": "python",
   "name": "python3"
  },
  "language_info": {
   "codemirror_mode": {
    "name": "ipython",
    "version": 3
   },
   "file_extension": ".py",
   "mimetype": "text/x-python",
   "name": "python",
   "nbconvert_exporter": "python",
   "pygments_lexer": "ipython3",
   "version": "3.11.5"
  }
 },
 "nbformat": 4,
 "nbformat_minor": 5
}

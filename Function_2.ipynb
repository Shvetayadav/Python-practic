{
 "cells": [
  {
   "cell_type": "code",
   "execution_count": 1,
   "id": "9b495feb",
   "metadata": {},
   "outputs": [],
   "source": [
    "def test(a):\n",
    "    return a ** 3"
   ]
  },
  {
   "cell_type": "code",
   "execution_count": 2,
   "id": "16628dfe",
   "metadata": {},
   "outputs": [
    {
     "data": {
      "text/plain": [
       "27"
      ]
     },
     "execution_count": 2,
     "metadata": {},
     "output_type": "execute_result"
    }
   ],
   "source": [
    "test(3)"
   ]
  },
  {
   "cell_type": "code",
   "execution_count": 3,
   "id": "963bd70e",
   "metadata": {},
   "outputs": [],
   "source": [
    "def test2(*args):\n",
    "    return args"
   ]
  },
  {
   "cell_type": "code",
   "execution_count": 4,
   "id": "bf14aa88",
   "metadata": {},
   "outputs": [
    {
     "data": {
      "text/plain": [
       "(1, 2, 3, 4, 'new', 'Moon')"
      ]
     },
     "execution_count": 4,
     "metadata": {},
     "output_type": "execute_result"
    }
   ],
   "source": [
    "test2(1,2,3,4,'new','Moon')"
   ]
  },
  {
   "cell_type": "code",
   "execution_count": 7,
   "id": "b0609006",
   "metadata": {},
   "outputs": [],
   "source": [
    "def test3(*args):\n",
    "    l = []\n",
    "    for i in args:\n",
    "        if type(i) == list:\n",
    "            l.append(i)\n",
    "            \n",
    "    return l"
   ]
  },
  {
   "cell_type": "code",
   "execution_count": 9,
   "id": "6fc87276",
   "metadata": {},
   "outputs": [
    {
     "data": {
      "text/plain": [
       "[[11, 12, 13, 14, 15], ['New', 'Year']]"
      ]
     },
     "execution_count": 9,
     "metadata": {},
     "output_type": "execute_result"
    }
   ],
   "source": [
    "test3(1,2,3,3.5,('Data','Science'), [11,12,13,14,15],(3,4),['New','Year'])"
   ]
  },
  {
   "cell_type": "code",
   "execution_count": 10,
   "id": "0ce4923a",
   "metadata": {},
   "outputs": [
    {
     "ename": "NameError",
     "evalue": "name 'l' is not defined",
     "output_type": "error",
     "traceback": [
      "\u001b[1;31m---------------------------------------------------------------------------\u001b[0m",
      "\u001b[1;31mNameError\u001b[0m                                 Traceback (most recent call last)",
      "Cell \u001b[1;32mIn[10], line 1\u001b[0m\n\u001b[1;32m----> 1\u001b[0m l\n",
      "\u001b[1;31mNameError\u001b[0m: name 'l' is not defined"
     ]
    }
   ],
   "source": [
    "l"
   ]
  },
  {
   "cell_type": "code",
   "execution_count": 5,
   "id": "562ea3a1",
   "metadata": {},
   "outputs": [],
   "source": [
    "l1  = []"
   ]
  },
  {
   "cell_type": "code",
   "execution_count": 6,
   "id": "a554935a",
   "metadata": {},
   "outputs": [
    {
     "data": {
      "text/plain": [
       "[]"
      ]
     },
     "execution_count": 6,
     "metadata": {},
     "output_type": "execute_result"
    }
   ],
   "source": [
    "l1"
   ]
  },
  {
   "cell_type": "code",
   "execution_count": 11,
   "id": "74a31e28",
   "metadata": {},
   "outputs": [],
   "source": [
    "def test4(a,*args):\n",
    "    return a , args"
   ]
  },
  {
   "cell_type": "code",
   "execution_count": 12,
   "id": "e258ae30",
   "metadata": {},
   "outputs": [
    {
     "data": {
      "text/plain": [
       "('First', (1, 2, 3, 'Science'))"
      ]
     },
     "execution_count": 12,
     "metadata": {},
     "output_type": "execute_result"
    }
   ],
   "source": [
    "test4('First',1,2,3,'Science')"
   ]
  },
  {
   "cell_type": "code",
   "execution_count": 13,
   "id": "0e733ab8",
   "metadata": {},
   "outputs": [],
   "source": [
    "def test5(a,b, *args):\n",
    "    return a, b , args"
   ]
  },
  {
   "cell_type": "code",
   "execution_count": 15,
   "id": "a0a14020",
   "metadata": {},
   "outputs": [
    {
     "data": {
      "text/plain": [
       "(1, 2, (3, 4, 5, 6, 7))"
      ]
     },
     "execution_count": 15,
     "metadata": {},
     "output_type": "execute_result"
    }
   ],
   "source": [
    "test5(1,2,3,4,5,6,7)"
   ]
  },
  {
   "cell_type": "code",
   "execution_count": 16,
   "id": "b1b4cff7",
   "metadata": {},
   "outputs": [],
   "source": [
    "def test6(*args, a ,b):\n",
    "    return args , a, b"
   ]
  },
  {
   "cell_type": "code",
   "execution_count": 17,
   "id": "92486d87",
   "metadata": {},
   "outputs": [
    {
     "ename": "TypeError",
     "evalue": "test6() missing 2 required keyword-only arguments: 'a' and 'b'",
     "output_type": "error",
     "traceback": [
      "\u001b[1;31m---------------------------------------------------------------------------\u001b[0m",
      "\u001b[1;31mTypeError\u001b[0m                                 Traceback (most recent call last)",
      "Cell \u001b[1;32mIn[17], line 1\u001b[0m\n\u001b[1;32m----> 1\u001b[0m test6(\u001b[38;5;241m1\u001b[39m,\u001b[38;5;241m2\u001b[39m,\u001b[38;5;241m3\u001b[39m,\u001b[38;5;241m4\u001b[39m,\u001b[38;5;241m5\u001b[39m,\u001b[38;5;241m6\u001b[39m,\u001b[38;5;241m7\u001b[39m,\u001b[38;5;241m7\u001b[39m)\n",
      "\u001b[1;31mTypeError\u001b[0m: test6() missing 2 required keyword-only arguments: 'a' and 'b'"
     ]
    }
   ],
   "source": [
    "test6(1,2,3,4,5,6,7,7)"
   ]
  },
  {
   "cell_type": "code",
   "execution_count": 18,
   "id": "1b7e432c",
   "metadata": {},
   "outputs": [
    {
     "data": {
      "text/plain": [
       "((1, 2, 3, 4, 5, 6, 7, 7), 'Data', 'Science')"
      ]
     },
     "execution_count": 18,
     "metadata": {},
     "output_type": "execute_result"
    }
   ],
   "source": [
    "test6(1,2,3,4,5,6,7,7, a ='Data', b='Science')"
   ]
  },
  {
   "cell_type": "markdown",
   "id": "c506561e",
   "metadata": {},
   "source": [
    "# Assignment |"
   ]
  },
  {
   "cell_type": "code",
   "execution_count": null,
   "id": "9f6585dd",
   "metadata": {},
   "outputs": [],
   "source": []
  },
  {
   "cell_type": "code",
   "execution_count": null,
   "id": "f6f8d4ef",
   "metadata": {},
   "outputs": [],
   "source": []
  }
 ],
 "metadata": {
  "kernelspec": {
   "display_name": "Python 3 (ipykernel)",
   "language": "python",
   "name": "python3"
  },
  "language_info": {
   "codemirror_mode": {
    "name": "ipython",
    "version": 3
   },
   "file_extension": ".py",
   "mimetype": "text/x-python",
   "name": "python",
   "nbconvert_exporter": "python",
   "pygments_lexer": "ipython3",
   "version": "3.11.5"
  }
 },
 "nbformat": 4,
 "nbformat_minor": 5
}

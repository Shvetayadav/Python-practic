{
 "cells": [
  {
   "cell_type": "code",
   "execution_count": 1,
   "id": "de93745a",
   "metadata": {},
   "outputs": [],
   "source": [
    "l = [1,2,3,4]"
   ]
  },
  {
   "cell_type": "code",
   "execution_count": 2,
   "id": "aef95358",
   "metadata": {},
   "outputs": [
    {
     "name": "stdout",
     "output_type": "stream",
     "text": [
      "1\n",
      "2\n",
      "3\n",
      "4\n"
     ]
    }
   ],
   "source": [
    "for i in l:\n",
    "    print(i)\n",
    "    "
   ]
  },
  {
   "cell_type": "code",
   "execution_count": 8,
   "id": "8a83500b",
   "metadata": {},
   "outputs": [],
   "source": [
    "j = ['Data','Science','Analysis']"
   ]
  },
  {
   "cell_type": "code",
   "execution_count": 9,
   "id": "af8c936a",
   "metadata": {},
   "outputs": [
    {
     "name": "stdout",
     "output_type": "stream",
     "text": [
      "Data\n",
      "Science\n",
      "Analysis\n"
     ]
    }
   ],
   "source": [
    "for i in j:\n",
    "    print(i)"
   ]
  },
  {
   "cell_type": "code",
   "execution_count": 10,
   "id": "4c551e49",
   "metadata": {},
   "outputs": [
    {
     "name": "stdout",
     "output_type": "stream",
     "text": [
      "D\n",
      "a\n",
      "t\n",
      "a\n",
      "S\n",
      "c\n",
      "i\n",
      "e\n",
      "n\n",
      "c\n",
      "e\n",
      "A\n",
      "n\n",
      "a\n",
      "l\n",
      "y\n",
      "s\n",
      "i\n",
      "s\n"
     ]
    }
   ],
   "source": [
    "for i in j:\n",
    "    for d in i:\n",
    "        print(d)"
   ]
  },
  {
   "cell_type": "code",
   "execution_count": 11,
   "id": "b059c41b",
   "metadata": {},
   "outputs": [],
   "source": [
    "t = [1,[0.1,0.2,0.3],2,3,4,5,6]"
   ]
  },
  {
   "cell_type": "code",
   "execution_count": 2,
   "id": "68f5fdf1",
   "metadata": {},
   "outputs": [],
   "source": [
    "g = [1,1.5,10+5j,True,\"data\",'Science',10,15,13,12.5,3.6]"
   ]
  },
  {
   "cell_type": "code",
   "execution_count": 7,
   "id": "fad25f71",
   "metadata": {},
   "outputs": [
    {
     "name": "stdout",
     "output_type": "stream",
     "text": [
      "data\n",
      "Science\n"
     ]
    }
   ],
   "source": [
    "for i in g:\n",
    "    if type(i) == str:\n",
    "        \n",
    "    \n",
    "        print(i)"
   ]
  },
  {
   "cell_type": "code",
   "execution_count": 9,
   "id": "834ea674",
   "metadata": {},
   "outputs": [],
   "source": [
    "l = [2,45,78,'john', 6+5j,[54,34,54]]"
   ]
  },
  {
   "cell_type": "code",
   "execution_count": 12,
   "id": "7b736c09",
   "metadata": {},
   "outputs": [
    {
     "name": "stdout",
     "output_type": "stream",
     "text": [
      "2\n",
      "45\n",
      "78\n",
      "54\n",
      "34\n",
      "54\n"
     ]
    }
   ],
   "source": [
    "for i in l:\n",
    "    if type(i) == int:\n",
    "        print(i)\n",
    "    elif type(i) == list:\n",
    "        for num in i:\n",
    "            print(num)"
   ]
  },
  {
   "cell_type": "code",
   "execution_count": 13,
   "id": "1227699f",
   "metadata": {},
   "outputs": [],
   "source": [
    "l = [2,45,78,'john', 6+5j,[54,34,54,'Data']]"
   ]
  },
  {
   "cell_type": "code",
   "execution_count": 15,
   "id": "4d4d9898",
   "metadata": {},
   "outputs": [
    {
     "name": "stdout",
     "output_type": "stream",
     "text": [
      "2\n",
      "45\n",
      "78\n",
      "54\n",
      "34\n",
      "54\n"
     ]
    }
   ],
   "source": [
    "for i in l:\n",
    "    if type(i) == int:\n",
    "        print(i)\n",
    "    elif type(i) == list:\n",
    "        for num in i:\n",
    "            if type(num) == int:\n",
    "                print(num)\n",
    "            "
   ]
  },
  {
   "cell_type": "code",
   "execution_count": 17,
   "id": "7821c95d",
   "metadata": {},
   "outputs": [],
   "source": [
    "a = [2,45,78,'john', 6+5j,'New',[54,34,54,'Data']]"
   ]
  },
  {
   "cell_type": "code",
   "execution_count": 19,
   "id": "666d6699",
   "metadata": {},
   "outputs": [
    {
     "name": "stdout",
     "output_type": "stream",
     "text": [
      "john\n",
      "New\n"
     ]
    }
   ],
   "source": [
    "k = []\n",
    "for i in a:\n",
    "    if type(i) == str:\n",
    "        print(i)\n",
    "        k.append(i)"
   ]
  },
  {
   "cell_type": "code",
   "execution_count": 20,
   "id": "2b1dd0a0",
   "metadata": {},
   "outputs": [
    {
     "data": {
      "text/plain": [
       "['john', 'New']"
      ]
     },
     "execution_count": 20,
     "metadata": {},
     "output_type": "execute_result"
    }
   ],
   "source": [
    "k"
   ]
  },
  {
   "cell_type": "code",
   "execution_count": 21,
   "id": "dd84bc6b",
   "metadata": {},
   "outputs": [
    {
     "data": {
      "text/plain": [
       "[2, 45, 78, 'john', (6+5j), 'New', [54, 34, 54, 'Data']]"
      ]
     },
     "execution_count": 21,
     "metadata": {},
     "output_type": "execute_result"
    }
   ],
   "source": [
    "a"
   ]
  },
  {
   "cell_type": "code",
   "execution_count": 22,
   "id": "4d8a6664",
   "metadata": {},
   "outputs": [
    {
     "name": "stdout",
     "output_type": "stream",
     "text": [
      "john\n",
      "New\n",
      "Data\n"
     ]
    }
   ],
   "source": [
    "k = []\n",
    "for i in a:\n",
    "    if type(i) == str:\n",
    "        print(i)\n",
    "        k.append(i)\n",
    "    elif type(i) == list:\n",
    "        for items in i:\n",
    "            if type(items) == str:\n",
    "                print(items)\n",
    "                k.append(items)"
   ]
  },
  {
   "cell_type": "code",
   "execution_count": 23,
   "id": "f912858e",
   "metadata": {},
   "outputs": [
    {
     "data": {
      "text/plain": [
       "['john', 'New', 'Data']"
      ]
     },
     "execution_count": 23,
     "metadata": {},
     "output_type": "execute_result"
    }
   ],
   "source": [
    "k"
   ]
  },
  {
   "cell_type": "code",
   "execution_count": 27,
   "id": "26dcbc45",
   "metadata": {},
   "outputs": [],
   "source": [
    "names = ['Vivek', 'Rajat', 'Mohit','Rutuja','Vaishnavi']"
   ]
  },
  {
   "cell_type": "code",
   "execution_count": 25,
   "id": "b3738e98",
   "metadata": {},
   "outputs": [],
   "source": [
    "letters = []"
   ]
  },
  {
   "cell_type": "code",
   "execution_count": 26,
   "id": "1caad418",
   "metadata": {},
   "outputs": [],
   "source": [
    "# You have to fetch letters of all names and append it in leters_list"
   ]
  },
  {
   "cell_type": "code",
   "execution_count": 28,
   "id": "bc0de07f",
   "metadata": {},
   "outputs": [
    {
     "data": {
      "text/plain": [
       "['Vivek', 'Rajat', 'Mohit', 'Rutuja', 'Vaishnavi']"
      ]
     },
     "execution_count": 28,
     "metadata": {},
     "output_type": "execute_result"
    }
   ],
   "source": [
    "names"
   ]
  },
  {
   "cell_type": "code",
   "execution_count": 29,
   "id": "b3438c53",
   "metadata": {},
   "outputs": [
    {
     "name": "stdout",
     "output_type": "stream",
     "text": [
      "Vivek\n",
      "Rajat\n",
      "Mohit\n",
      "Rutuja\n",
      "Vaishnavi\n"
     ]
    }
   ],
   "source": [
    "for i in names:\n",
    "    print(i)"
   ]
  },
  {
   "cell_type": "code",
   "execution_count": 32,
   "id": "b1c03df9",
   "metadata": {},
   "outputs": [
    {
     "name": "stdout",
     "output_type": "stream",
     "text": [
      "V\n",
      "i\n",
      "v\n",
      "e\n",
      "k\n",
      "R\n",
      "a\n",
      "j\n",
      "a\n",
      "t\n",
      "M\n",
      "o\n",
      "h\n",
      "i\n",
      "t\n",
      "R\n",
      "u\n",
      "t\n",
      "u\n",
      "j\n",
      "a\n",
      "V\n",
      "a\n",
      "i\n",
      "s\n",
      "h\n",
      "n\n",
      "a\n",
      "v\n",
      "i\n"
     ]
    }
   ],
   "source": [
    "letters = []\n",
    "for i in names:\n",
    "    for words in i:\n",
    "        print(words)\n",
    "        letters.append(words)#"
   ]
  },
  {
   "cell_type": "code",
   "execution_count": 34,
   "id": "65af24a8",
   "metadata": {},
   "outputs": [
    {
     "data": {
      "text/plain": [
       "['V',\n",
       " 'i',\n",
       " 'v',\n",
       " 'e',\n",
       " 'k',\n",
       " 'R',\n",
       " 'a',\n",
       " 'j',\n",
       " 'a',\n",
       " 't',\n",
       " 'M',\n",
       " 'o',\n",
       " 'h',\n",
       " 'i',\n",
       " 't',\n",
       " 'R',\n",
       " 'u',\n",
       " 't',\n",
       " 'u',\n",
       " 'j',\n",
       " 'a',\n",
       " 'V',\n",
       " 'a',\n",
       " 'i',\n",
       " 's',\n",
       " 'h',\n",
       " 'n',\n",
       " 'a',\n",
       " 'v',\n",
       " 'i']"
      ]
     },
     "execution_count": 34,
     "metadata": {},
     "output_type": "execute_result"
    }
   ],
   "source": [
    "letters"
   ]
  },
  {
   "cell_type": "code",
   "execution_count": 35,
   "id": "9f5eb8ba",
   "metadata": {},
   "outputs": [],
   "source": [
    "# Star Pattern"
   ]
  },
  {
   "cell_type": "code",
   "execution_count": 37,
   "id": "fd9df285",
   "metadata": {},
   "outputs": [
    {
     "name": "stdout",
     "output_type": "stream",
     "text": [
      " * \n",
      " *  * \n",
      " *  *  * \n",
      " *  *  *  * \n",
      " *  *  *  *  * \n"
     ]
    }
   ],
   "source": [
    "for i in range(5):\n",
    "    print(' * ' * (i + 1))"
   ]
  },
  {
   "cell_type": "code",
   "execution_count": 39,
   "id": "3eedaf26",
   "metadata": {},
   "outputs": [
    {
     "name": "stdout",
     "output_type": "stream",
     "text": [
      "*****\n",
      "****\n",
      "***\n",
      "**\n",
      "*\n"
     ]
    }
   ],
   "source": [
    "for i in range(5,0,-1):\n",
    "    print('*' * i)"
   ]
  },
  {
   "cell_type": "code",
   "execution_count": 40,
   "id": "6d84dfdc",
   "metadata": {},
   "outputs": [
    {
     "name": "stdout",
     "output_type": "stream",
     "text": [
      "5\n",
      "4\n",
      "3\n",
      "2\n",
      "1\n"
     ]
    }
   ],
   "source": [
    "for i in range(5,0,-1):\n",
    "    print(i)"
   ]
  },
  {
   "cell_type": "code",
   "execution_count": 41,
   "id": "d0b8b1c5",
   "metadata": {},
   "outputs": [],
   "source": [
    "# While True"
   ]
  },
  {
   "cell_type": "code",
   "execution_count": 43,
   "id": "cadd01ca",
   "metadata": {},
   "outputs": [
    {
     "name": "stdout",
     "output_type": "stream",
     "text": [
      "Enter Exit to end no\n",
      "write Proper exit button, you written:  no\n",
      "Enter Exit to end yes\n",
      "write Proper exit button, you written:  yes\n",
      "Enter Exit to end EXIT\n",
      "Exited the loop\n"
     ]
    }
   ],
   "source": [
    "while True:\n",
    "    user_input = input('Enter Exit to end ')\n",
    "    if user_input.lower() == 'exit':\n",
    "        print('Exited the loop')\n",
    "        break\n",
    "    else:\n",
    "        print('write Proper exit button, you written: ', user_input)"
   ]
  },
  {
   "cell_type": "code",
   "execution_count": 44,
   "id": "084b5af7",
   "metadata": {},
   "outputs": [
    {
     "name": "stdout",
     "output_type": "stream",
     "text": [
      "Enter Exit to end yes\n",
      "write Proper exit button, you written:  yes\n",
      "Enter Exit to end no\n",
      "write Proper exit button, you written:  no\n",
      "Enter Exit to end exit\n",
      "Exited the loop\n"
     ]
    },
    {
     "ename": "KeyboardInterrupt",
     "evalue": "Interrupted by user",
     "output_type": "error",
     "traceback": [
      "\u001b[1;31m---------------------------------------------------------------------------\u001b[0m",
      "\u001b[1;31mKeyboardInterrupt\u001b[0m                         Traceback (most recent call last)",
      "Cell \u001b[1;32mIn[44], line 2\u001b[0m\n\u001b[0;32m      1\u001b[0m \u001b[38;5;28;01mwhile\u001b[39;00m \u001b[38;5;28;01mTrue\u001b[39;00m:\n\u001b[1;32m----> 2\u001b[0m     user_input \u001b[38;5;241m=\u001b[39m \u001b[38;5;28minput\u001b[39m(\u001b[38;5;124m'\u001b[39m\u001b[38;5;124mEnter Exit to end \u001b[39m\u001b[38;5;124m'\u001b[39m)\n\u001b[0;32m      3\u001b[0m     \u001b[38;5;28;01mif\u001b[39;00m user_input\u001b[38;5;241m.\u001b[39mlower() \u001b[38;5;241m==\u001b[39m \u001b[38;5;124m'\u001b[39m\u001b[38;5;124mexit\u001b[39m\u001b[38;5;124m'\u001b[39m:\n\u001b[0;32m      4\u001b[0m         \u001b[38;5;28mprint\u001b[39m(\u001b[38;5;124m'\u001b[39m\u001b[38;5;124mExited the loop\u001b[39m\u001b[38;5;124m'\u001b[39m)\n",
      "File \u001b[1;32m~\\anaconda3\\Lib\\site-packages\\ipykernel\\kernelbase.py:1202\u001b[0m, in \u001b[0;36mKernel.raw_input\u001b[1;34m(self, prompt)\u001b[0m\n\u001b[0;32m   1200\u001b[0m     msg \u001b[38;5;241m=\u001b[39m \u001b[38;5;124m\"\u001b[39m\u001b[38;5;124mraw_input was called, but this frontend does not support input requests.\u001b[39m\u001b[38;5;124m\"\u001b[39m\n\u001b[0;32m   1201\u001b[0m     \u001b[38;5;28;01mraise\u001b[39;00m StdinNotImplementedError(msg)\n\u001b[1;32m-> 1202\u001b[0m \u001b[38;5;28;01mreturn\u001b[39;00m \u001b[38;5;28mself\u001b[39m\u001b[38;5;241m.\u001b[39m_input_request(\n\u001b[0;32m   1203\u001b[0m     \u001b[38;5;28mstr\u001b[39m(prompt),\n\u001b[0;32m   1204\u001b[0m     \u001b[38;5;28mself\u001b[39m\u001b[38;5;241m.\u001b[39m_parent_ident[\u001b[38;5;124m\"\u001b[39m\u001b[38;5;124mshell\u001b[39m\u001b[38;5;124m\"\u001b[39m],\n\u001b[0;32m   1205\u001b[0m     \u001b[38;5;28mself\u001b[39m\u001b[38;5;241m.\u001b[39mget_parent(\u001b[38;5;124m\"\u001b[39m\u001b[38;5;124mshell\u001b[39m\u001b[38;5;124m\"\u001b[39m),\n\u001b[0;32m   1206\u001b[0m     password\u001b[38;5;241m=\u001b[39m\u001b[38;5;28;01mFalse\u001b[39;00m,\n\u001b[0;32m   1207\u001b[0m )\n",
      "File \u001b[1;32m~\\anaconda3\\Lib\\site-packages\\ipykernel\\kernelbase.py:1245\u001b[0m, in \u001b[0;36mKernel._input_request\u001b[1;34m(self, prompt, ident, parent, password)\u001b[0m\n\u001b[0;32m   1242\u001b[0m \u001b[38;5;28;01mexcept\u001b[39;00m \u001b[38;5;167;01mKeyboardInterrupt\u001b[39;00m:\n\u001b[0;32m   1243\u001b[0m     \u001b[38;5;66;03m# re-raise KeyboardInterrupt, to truncate traceback\u001b[39;00m\n\u001b[0;32m   1244\u001b[0m     msg \u001b[38;5;241m=\u001b[39m \u001b[38;5;124m\"\u001b[39m\u001b[38;5;124mInterrupted by user\u001b[39m\u001b[38;5;124m\"\u001b[39m\n\u001b[1;32m-> 1245\u001b[0m     \u001b[38;5;28;01mraise\u001b[39;00m \u001b[38;5;167;01mKeyboardInterrupt\u001b[39;00m(msg) \u001b[38;5;28;01mfrom\u001b[39;00m \u001b[38;5;28;01mNone\u001b[39;00m\n\u001b[0;32m   1246\u001b[0m \u001b[38;5;28;01mexcept\u001b[39;00m \u001b[38;5;167;01mException\u001b[39;00m:\n\u001b[0;32m   1247\u001b[0m     \u001b[38;5;28mself\u001b[39m\u001b[38;5;241m.\u001b[39mlog\u001b[38;5;241m.\u001b[39mwarning(\u001b[38;5;124m\"\u001b[39m\u001b[38;5;124mInvalid Message:\u001b[39m\u001b[38;5;124m\"\u001b[39m, exc_info\u001b[38;5;241m=\u001b[39m\u001b[38;5;28;01mTrue\u001b[39;00m)\n",
      "\u001b[1;31mKeyboardInterrupt\u001b[0m: Interrupted by user"
     ]
    }
   ],
   "source": [
    "while True:\n",
    "    user_input = input('Enter Exit to end ')\n",
    "    if user_input.lower() == 'exit':\n",
    "        print('Exited the loop')\n",
    "        \n",
    "    else:\n",
    "        print('write Proper exit button, you written: ', user_input)"
   ]
  },
  {
   "cell_type": "code",
   "execution_count": 45,
   "id": "5e9272e3",
   "metadata": {},
   "outputs": [
    {
     "name": "stdout",
     "output_type": "stream",
     "text": [
      "1. Bhel\n",
      "2. Panipuri\n",
      "3. Pav Bhaji\n",
      "4. Exit\n",
      "Enter your Choice3\n",
      "Your order of Pav Bhaji is Completed\n",
      "1. Bhel\n",
      "2. Panipuri\n",
      "3. Pav Bhaji\n",
      "4. Exit\n",
      "Enter your Choice4\n",
      "Exiting the order\n"
     ]
    }
   ],
   "source": [
    "while True:\n",
    "    print('1. Bhel')\n",
    "    print('2. Panipuri')\n",
    "    print('3. Pav Bhaji')\n",
    "    print('4. Exit')\n",
    "    \n",
    "    choice = input('Enter your Choice')\n",
    "    \n",
    "    if choice == '1' :\n",
    "        print('Your order of Bhel is Completed')\n",
    "        \n",
    "    elif choice == '2':\n",
    "        print('Your order of Panipuri is Completed')\n",
    "        \n",
    "    elif choice == '3':\n",
    "        print('Your order of Pav Bhaji is Completed')\n",
    "        \n",
    "    elif choice == '4':\n",
    "        print('Exiting the order')\n",
    "        break\n",
    "        \n",
    "    else:\n",
    "        print('Please select valid menue, Try again')"
   ]
  },
  {
   "cell_type": "code",
   "execution_count": 53,
   "id": "2a1f9341",
   "metadata": {},
   "outputs": [
    {
     "name": "stdout",
     "output_type": "stream",
     "text": [
      "Enter your InputAAAA\n",
      "Plese write valid Word\n"
     ]
    }
   ],
   "source": [
    "u_input = input('Enter your Input')\n",
    "if user_input == user_input[::-1]:\n",
    "    print(u_input)\n",
    "else:\n",
    "    print('Plese write valid Word')"
   ]
  },
  {
   "cell_type": "code",
   "execution_count": 49,
   "id": "9a5e2fef",
   "metadata": {},
   "outputs": [
    {
     "name": "stdout",
     "output_type": "stream",
     "text": [
      "Enter your InputMOM\n"
     ]
    },
    {
     "data": {
      "text/plain": [
       "'MOM'"
      ]
     },
     "execution_count": 49,
     "metadata": {},
     "output_type": "execute_result"
    }
   ],
   "source": [
    "u_input = input('Enter your Input')\n",
    "u_input[::-1]"
   ]
  },
  {
   "cell_type": "code",
   "execution_count": 54,
   "id": "34dee811",
   "metadata": {},
   "outputs": [
    {
     "name": "stdout",
     "output_type": "stream",
     "text": [
      "Right\n"
     ]
    }
   ],
   "source": [
    "if 'MOM' == 'MOM':\n",
    "    print('Right')\n",
    "else:\n",
    "    print('Plese write valid Word')"
   ]
  },
  {
   "cell_type": "code",
   "execution_count": null,
   "id": "b59c5d5f",
   "metadata": {},
   "outputs": [],
   "source": []
  }
 ],
 "metadata": {
  "kernelspec": {
   "display_name": "Python 3 (ipykernel)",
   "language": "python",
   "name": "python3"
  },
  "language_info": {
   "codemirror_mode": {
    "name": "ipython",
    "version": 3
   },
   "file_extension": ".py",
   "mimetype": "text/x-python",
   "name": "python",
   "nbconvert_exporter": "python",
   "pygments_lexer": "ipython3",
   "version": "3.11.5"
  }
 },
 "nbformat": 4,
 "nbformat_minor": 5
}

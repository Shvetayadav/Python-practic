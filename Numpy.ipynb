{
 "cells": [
  {
   "cell_type": "code",
   "execution_count": 1,
   "id": "3c43c621",
   "metadata": {},
   "outputs": [
    {
     "name": "stdout",
     "output_type": "stream",
     "text": [
      "Requirement already satisfied: numpy in c:\\users\\admin\\anaconda3\\lib\\site-packages (1.24.3)Note: you may need to restart the kernel to use updated packages.\n",
      "\n"
     ]
    }
   ],
   "source": [
    "pip install numpy"
   ]
  },
  {
   "cell_type": "code",
   "execution_count": 2,
   "id": "de358be9",
   "metadata": {},
   "outputs": [],
   "source": [
    "import numpy as np"
   ]
  },
  {
   "cell_type": "code",
   "execution_count": 3,
   "id": "683a9cad",
   "metadata": {},
   "outputs": [],
   "source": [
    "l = [1,2,3,4]"
   ]
  },
  {
   "cell_type": "code",
   "execution_count": 4,
   "id": "8cb2d477",
   "metadata": {},
   "outputs": [
    {
     "data": {
      "text/plain": [
       "list"
      ]
     },
     "execution_count": 4,
     "metadata": {},
     "output_type": "execute_result"
    }
   ],
   "source": [
    "type(l)"
   ]
  },
  {
   "cell_type": "code",
   "execution_count": 5,
   "id": "cab5b7e7",
   "metadata": {},
   "outputs": [
    {
     "data": {
      "text/plain": [
       "array([1, 2, 3, 4])"
      ]
     },
     "execution_count": 5,
     "metadata": {},
     "output_type": "execute_result"
    }
   ],
   "source": [
    "np.array(l)"
   ]
  },
  {
   "cell_type": "code",
   "execution_count": 6,
   "id": "427b4860",
   "metadata": {},
   "outputs": [],
   "source": [
    "a = np.array(l)"
   ]
  },
  {
   "cell_type": "code",
   "execution_count": 7,
   "id": "e1e56c07",
   "metadata": {},
   "outputs": [
    {
     "data": {
      "text/plain": [
       "array([1, 2, 3, 4])"
      ]
     },
     "execution_count": 7,
     "metadata": {},
     "output_type": "execute_result"
    }
   ],
   "source": [
    "a"
   ]
  },
  {
   "cell_type": "code",
   "execution_count": 8,
   "id": "929c82b2",
   "metadata": {},
   "outputs": [
    {
     "data": {
      "text/plain": [
       "numpy.ndarray"
      ]
     },
     "execution_count": 8,
     "metadata": {},
     "output_type": "execute_result"
    }
   ],
   "source": [
    "type(a)"
   ]
  },
  {
   "cell_type": "code",
   "execution_count": 9,
   "id": "cc98f0bb",
   "metadata": {},
   "outputs": [],
   "source": [
    "a1 = np.array([[1,2,3], [4,5,6]])"
   ]
  },
  {
   "cell_type": "code",
   "execution_count": 10,
   "id": "9464ecd9",
   "metadata": {},
   "outputs": [
    {
     "data": {
      "text/plain": [
       "array([[1, 2, 3],\n",
       "       [4, 5, 6]])"
      ]
     },
     "execution_count": 10,
     "metadata": {},
     "output_type": "execute_result"
    }
   ],
   "source": [
    "a1"
   ]
  },
  {
   "cell_type": "code",
   "execution_count": 11,
   "id": "0d3946e2",
   "metadata": {},
   "outputs": [
    {
     "data": {
      "text/plain": [
       "dtype('int32')"
      ]
     },
     "execution_count": 11,
     "metadata": {},
     "output_type": "execute_result"
    }
   ],
   "source": [
    "a1.dtype"
   ]
  },
  {
   "cell_type": "code",
   "execution_count": 12,
   "id": "f7f3f6f8",
   "metadata": {},
   "outputs": [
    {
     "data": {
      "text/plain": [
       "numpy.ndarray"
      ]
     },
     "execution_count": 12,
     "metadata": {},
     "output_type": "execute_result"
    }
   ],
   "source": [
    "type(a1)"
   ]
  },
  {
   "cell_type": "code",
   "execution_count": 13,
   "id": "371c6060",
   "metadata": {},
   "outputs": [],
   "source": [
    "a2 = np.array([[[1,2,3],[4,5,6]]])"
   ]
  },
  {
   "cell_type": "code",
   "execution_count": 14,
   "id": "64d8a266",
   "metadata": {},
   "outputs": [
    {
     "data": {
      "text/plain": [
       "array([[[1, 2, 3],\n",
       "        [4, 5, 6]]])"
      ]
     },
     "execution_count": 14,
     "metadata": {},
     "output_type": "execute_result"
    }
   ],
   "source": [
    "a2"
   ]
  },
  {
   "cell_type": "code",
   "execution_count": 15,
   "id": "c62a653c",
   "metadata": {},
   "outputs": [
    {
     "data": {
      "text/plain": [
       "1"
      ]
     },
     "execution_count": 15,
     "metadata": {},
     "output_type": "execute_result"
    }
   ],
   "source": [
    "a.ndim #Direction 1d"
   ]
  },
  {
   "cell_type": "code",
   "execution_count": 16,
   "id": "f509dd52",
   "metadata": {},
   "outputs": [
    {
     "data": {
      "text/plain": [
       "2"
      ]
     },
     "execution_count": 16,
     "metadata": {},
     "output_type": "execute_result"
    }
   ],
   "source": [
    "a1.ndim #2d"
   ]
  },
  {
   "cell_type": "code",
   "execution_count": 17,
   "id": "1393c487",
   "metadata": {},
   "outputs": [
    {
     "data": {
      "text/plain": [
       "3"
      ]
     },
     "execution_count": 17,
     "metadata": {},
     "output_type": "execute_result"
    }
   ],
   "source": [
    "a2.ndim #3d"
   ]
  },
  {
   "cell_type": "code",
   "execution_count": 18,
   "id": "02f4f124",
   "metadata": {},
   "outputs": [],
   "source": [
    "a3 = np.array([[[1,2,3],[4,5,6]],[[7,8,9],[10,11,12]]])"
   ]
  },
  {
   "cell_type": "code",
   "execution_count": 19,
   "id": "23813013",
   "metadata": {},
   "outputs": [
    {
     "data": {
      "text/plain": [
       "array([[[ 1,  2,  3],\n",
       "        [ 4,  5,  6]],\n",
       "\n",
       "       [[ 7,  8,  9],\n",
       "        [10, 11, 12]]])"
      ]
     },
     "execution_count": 19,
     "metadata": {},
     "output_type": "execute_result"
    }
   ],
   "source": [
    "a3"
   ]
  },
  {
   "cell_type": "code",
   "execution_count": 20,
   "id": "26acd343",
   "metadata": {},
   "outputs": [
    {
     "data": {
      "text/plain": [
       "3"
      ]
     },
     "execution_count": 20,
     "metadata": {},
     "output_type": "execute_result"
    }
   ],
   "source": [
    "a3.ndim"
   ]
  },
  {
   "cell_type": "code",
   "execution_count": 21,
   "id": "64cee2b5",
   "metadata": {},
   "outputs": [],
   "source": [
    "l = [1,2,3,4]"
   ]
  },
  {
   "cell_type": "code",
   "execution_count": 22,
   "id": "0b936cf1",
   "metadata": {},
   "outputs": [
    {
     "data": {
      "text/plain": [
       "array([1, 2, 3, 4])"
      ]
     },
     "execution_count": 22,
     "metadata": {},
     "output_type": "execute_result"
    }
   ],
   "source": [
    "np.asanyarray(l) #1d data only"
   ]
  },
  {
   "cell_type": "code",
   "execution_count": 23,
   "id": "8a67f525",
   "metadata": {},
   "outputs": [],
   "source": [
    "m = np.matrix(l) #2d dataset "
   ]
  },
  {
   "cell_type": "code",
   "execution_count": 24,
   "id": "670a23d2",
   "metadata": {},
   "outputs": [
    {
     "data": {
      "text/plain": [
       "matrix([[1, 2, 3, 4]])"
      ]
     },
     "execution_count": 24,
     "metadata": {},
     "output_type": "execute_result"
    }
   ],
   "source": [
    "m"
   ]
  },
  {
   "cell_type": "code",
   "execution_count": 25,
   "id": "1b202c86",
   "metadata": {},
   "outputs": [
    {
     "data": {
      "text/plain": [
       "array([1, 2, 3, 4])"
      ]
     },
     "execution_count": 25,
     "metadata": {},
     "output_type": "execute_result"
    }
   ],
   "source": [
    "a"
   ]
  },
  {
   "cell_type": "code",
   "execution_count": 26,
   "id": "cedbc10e",
   "metadata": {},
   "outputs": [
    {
     "data": {
      "text/plain": [
       "matrix([[1, 2, 3, 4]])"
      ]
     },
     "execution_count": 26,
     "metadata": {},
     "output_type": "execute_result"
    }
   ],
   "source": [
    "m"
   ]
  },
  {
   "cell_type": "code",
   "execution_count": 27,
   "id": "dfa6dfe8",
   "metadata": {},
   "outputs": [
    {
     "data": {
      "text/plain": [
       "array([1, 2, 3, 4])"
      ]
     },
     "execution_count": 27,
     "metadata": {},
     "output_type": "execute_result"
    }
   ],
   "source": [
    "a"
   ]
  },
  {
   "cell_type": "code",
   "execution_count": 28,
   "id": "3a76c836",
   "metadata": {},
   "outputs": [
    {
     "data": {
      "text/plain": [
       "1"
      ]
     },
     "execution_count": 28,
     "metadata": {},
     "output_type": "execute_result"
    }
   ],
   "source": [
    "a[0]"
   ]
  },
  {
   "cell_type": "code",
   "execution_count": 29,
   "id": "cce15d4e",
   "metadata": {},
   "outputs": [],
   "source": [
    "a[0] = 10"
   ]
  },
  {
   "cell_type": "code",
   "execution_count": 30,
   "id": "fecaa9b6",
   "metadata": {},
   "outputs": [
    {
     "data": {
      "text/plain": [
       "array([10,  2,  3,  4])"
      ]
     },
     "execution_count": 30,
     "metadata": {},
     "output_type": "execute_result"
    }
   ],
   "source": [
    "a"
   ]
  },
  {
   "cell_type": "code",
   "execution_count": 31,
   "id": "b37831f1",
   "metadata": {},
   "outputs": [
    {
     "data": {
      "text/plain": [
       "array([[1, 2, 3],\n",
       "       [4, 5, 6]])"
      ]
     },
     "execution_count": 31,
     "metadata": {},
     "output_type": "execute_result"
    }
   ],
   "source": [
    "a1"
   ]
  },
  {
   "cell_type": "code",
   "execution_count": 33,
   "id": "01035954",
   "metadata": {},
   "outputs": [
    {
     "data": {
      "text/plain": [
       "array([4, 5, 6])"
      ]
     },
     "execution_count": 33,
     "metadata": {},
     "output_type": "execute_result"
    }
   ],
   "source": [
    "a1[1]"
   ]
  },
  {
   "cell_type": "code",
   "execution_count": 34,
   "id": "bc29783b",
   "metadata": {},
   "outputs": [
    {
     "data": {
      "text/plain": [
       "array([1, 2, 3])"
      ]
     },
     "execution_count": 34,
     "metadata": {},
     "output_type": "execute_result"
    }
   ],
   "source": [
    "a1[0]"
   ]
  },
  {
   "cell_type": "code",
   "execution_count": 35,
   "id": "d94ae3ea",
   "metadata": {},
   "outputs": [
    {
     "data": {
      "text/plain": [
       "2"
      ]
     },
     "execution_count": 35,
     "metadata": {},
     "output_type": "execute_result"
    }
   ],
   "source": [
    "a1[0][1]"
   ]
  },
  {
   "cell_type": "code",
   "execution_count": 36,
   "id": "34402473",
   "metadata": {},
   "outputs": [],
   "source": [
    "a1[0][1] = 40"
   ]
  },
  {
   "cell_type": "code",
   "execution_count": 37,
   "id": "ea47f3a2",
   "metadata": {},
   "outputs": [
    {
     "data": {
      "text/plain": [
       "array([[ 1, 40,  3],\n",
       "       [ 4,  5,  6]])"
      ]
     },
     "execution_count": 37,
     "metadata": {},
     "output_type": "execute_result"
    }
   ],
   "source": [
    "a1"
   ]
  },
  {
   "cell_type": "code",
   "execution_count": 38,
   "id": "e39cc985",
   "metadata": {},
   "outputs": [
    {
     "data": {
      "text/plain": [
       "array([[0.48115037, 0.91383065, 0.15813221],\n",
       "       [0.55994314, 0.9611144 , 0.54836515]])"
      ]
     },
     "execution_count": 38,
     "metadata": {},
     "output_type": "execute_result"
    }
   ],
   "source": [
    "np.random.rand(2,3) #2 rows and 3columns"
   ]
  },
  {
   "cell_type": "code",
   "execution_count": 39,
   "id": "3de7cfed",
   "metadata": {},
   "outputs": [
    {
     "data": {
      "text/plain": [
       "array([[[0.40698692, 0.43578031],\n",
       "        [0.97479892, 0.00933665],\n",
       "        [0.5682969 , 0.14695957]],\n",
       "\n",
       "       [[0.00425924, 0.08173504],\n",
       "        [0.45148098, 0.23423719],\n",
       "        [0.55297632, 0.48359715]]])"
      ]
     },
     "execution_count": 39,
     "metadata": {},
     "output_type": "execute_result"
    }
   ],
   "source": [
    "np.random.rand(2,3,2)"
   ]
  },
  {
   "cell_type": "code",
   "execution_count": 40,
   "id": "edc6a81a",
   "metadata": {},
   "outputs": [
    {
     "data": {
      "text/plain": [
       "array([[[[0.14849311, 0.79829186],\n",
       "         [0.27744377, 0.29712236]],\n",
       "\n",
       "        [[0.95640028, 0.59048977],\n",
       "         [0.72630395, 0.73168482]],\n",
       "\n",
       "        [[0.47802781, 0.96628823],\n",
       "         [0.19008672, 0.39415696]]],\n",
       "\n",
       "\n",
       "       [[[0.92037805, 0.84466707],\n",
       "         [0.56882805, 0.94397051]],\n",
       "\n",
       "        [[0.27856271, 0.19826694],\n",
       "         [0.33846241, 0.69423725]],\n",
       "\n",
       "        [[0.30706145, 0.47085008],\n",
       "         [0.52064209, 0.28541789]]]])"
      ]
     },
     "execution_count": 40,
     "metadata": {},
     "output_type": "execute_result"
    }
   ],
   "source": [
    "np.random.rand(2,3,2,2)"
   ]
  },
  {
   "cell_type": "code",
   "execution_count": 41,
   "id": "108334e7",
   "metadata": {},
   "outputs": [
    {
     "data": {
      "text/plain": [
       "array([[[0.41584037, 0.99192132, 0.32145492, 0.18512365],\n",
       "        [0.59480548, 0.51030025, 0.08006517, 0.56254506],\n",
       "        [0.80218581, 0.10008574, 0.13185264, 0.8519692 ],\n",
       "        [0.29111288, 0.88524777, 0.32610468, 0.1112419 ]]])"
      ]
     },
     "execution_count": 41,
     "metadata": {},
     "output_type": "execute_result"
    }
   ],
   "source": [
    "np.random.rand(1,4,4)"
   ]
  },
  {
   "cell_type": "code",
   "execution_count": 43,
   "id": "d96e5d1b",
   "metadata": {},
   "outputs": [
    {
     "data": {
      "text/plain": [
       "array([[[0.34166662, 0.1647296 , 0.34206056, 0.58751939],\n",
       "        [0.67353776, 0.53990602, 0.38814901, 0.06287842],\n",
       "        [0.14982784, 0.7783435 , 0.42764113, 0.98725788],\n",
       "        [0.12663651, 0.21507312, 0.24925787, 0.8322203 ]],\n",
       "\n",
       "       [[0.44001164, 0.52503306, 0.84817509, 0.01957458],\n",
       "        [0.27124238, 0.47166355, 0.48216365, 0.79117239],\n",
       "        [0.69873551, 0.81560433, 0.31135045, 0.61299172],\n",
       "        [0.0631368 , 0.25423811, 0.97535933, 0.19713013]],\n",
       "\n",
       "       [[0.51175028, 0.44744105, 0.0342157 , 0.00721438],\n",
       "        [0.88151919, 0.28953892, 0.57806041, 0.42069168],\n",
       "        [0.85286059, 0.09784773, 0.10851331, 0.00420055],\n",
       "        [0.79789742, 0.68556032, 0.62250735, 0.01168694]],\n",
       "\n",
       "       [[0.5094388 , 0.06238139, 0.18906677, 0.41989093],\n",
       "        [0.21785914, 0.2019434 , 0.21213828, 0.12841536],\n",
       "        [0.33097163, 0.83354952, 0.55016883, 0.95716207],\n",
       "        [0.41354001, 0.78695118, 0.08568751, 0.21998743]]])"
      ]
     },
     "execution_count": 43,
     "metadata": {},
     "output_type": "execute_result"
    }
   ],
   "source": [
    "np.random.rand(4,4,4)"
   ]
  },
  {
   "cell_type": "code",
   "execution_count": 44,
   "id": "9d820d00",
   "metadata": {},
   "outputs": [
    {
     "data": {
      "text/plain": [
       "array([[4, 7, 1, 6],\n",
       "       [4, 0, 3, 3],\n",
       "       [1, 4, 6, 6],\n",
       "       [5, 7, 6, 0]])"
      ]
     },
     "execution_count": 44,
     "metadata": {},
     "output_type": "execute_result"
    }
   ],
   "source": [
    "np.random.randint(0,10,(4,4))"
   ]
  },
  {
   "cell_type": "code",
   "execution_count": 45,
   "id": "c9e9109d",
   "metadata": {},
   "outputs": [
    {
     "data": {
      "text/plain": [
       "array([[47, 44, 31, 47],\n",
       "       [49, 39, 46, 36]])"
      ]
     },
     "execution_count": 45,
     "metadata": {},
     "output_type": "execute_result"
    }
   ],
   "source": [
    "np.random.randint(30,50,(2,4))"
   ]
  },
  {
   "cell_type": "code",
   "execution_count": 46,
   "id": "12e8424b",
   "metadata": {},
   "outputs": [
    {
     "data": {
      "text/plain": [
       "array([[37, 36, 41, 35, 38, 49, 45, 34, 36, 37]])"
      ]
     },
     "execution_count": 46,
     "metadata": {},
     "output_type": "execute_result"
    }
   ],
   "source": [
    "np.random.randint(30,50,(1,10))"
   ]
  },
  {
   "cell_type": "code",
   "execution_count": null,
   "id": "0f63ac8e",
   "metadata": {},
   "outputs": [],
   "source": []
  }
 ],
 "metadata": {
  "kernelspec": {
   "display_name": "Python 3 (ipykernel)",
   "language": "python",
   "name": "python3"
  },
  "language_info": {
   "codemirror_mode": {
    "name": "ipython",
    "version": 3
   },
   "file_extension": ".py",
   "mimetype": "text/x-python",
   "name": "python",
   "nbconvert_exporter": "python",
   "pygments_lexer": "ipython3",
   "version": "3.11.5"
  }
 },
 "nbformat": 4,
 "nbformat_minor": 5
}

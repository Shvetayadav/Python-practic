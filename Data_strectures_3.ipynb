{
 "cells": [
  {
   "cell_type": "code",
   "execution_count": 1,
   "id": "0a940981",
   "metadata": {},
   "outputs": [],
   "source": [
    "numbers = [1,2,3,4,5]"
   ]
  },
  {
   "cell_type": "code",
   "execution_count": 2,
   "id": "0d5d7476",
   "metadata": {},
   "outputs": [
    {
     "data": {
      "text/plain": [
       "True"
      ]
     },
     "execution_count": 2,
     "metadata": {},
     "output_type": "execute_result"
    }
   ],
   "source": [
    "3 in numbers"
   ]
  },
  {
   "cell_type": "code",
   "execution_count": 3,
   "id": "105047f9",
   "metadata": {},
   "outputs": [
    {
     "data": {
      "text/plain": [
       "False"
      ]
     },
     "execution_count": 3,
     "metadata": {},
     "output_type": "execute_result"
    }
   ],
   "source": [
    "10 in numbers"
   ]
  },
  {
   "cell_type": "code",
   "execution_count": 4,
   "id": "f72d62d6",
   "metadata": {},
   "outputs": [],
   "source": [
    "numbers[1] = 8"
   ]
  },
  {
   "cell_type": "code",
   "execution_count": 5,
   "id": "7c085daf",
   "metadata": {},
   "outputs": [
    {
     "data": {
      "text/plain": [
       "[1, 8, 3, 4, 5]"
      ]
     },
     "execution_count": 5,
     "metadata": {},
     "output_type": "execute_result"
    }
   ],
   "source": [
    "numbers"
   ]
  },
  {
   "cell_type": "code",
   "execution_count": 6,
   "id": "b0e3ec9e",
   "metadata": {},
   "outputs": [],
   "source": [
    "# Remove elements "
   ]
  },
  {
   "cell_type": "code",
   "execution_count": 7,
   "id": "b931f69e",
   "metadata": {},
   "outputs": [],
   "source": [
    "numbers.remove(8)"
   ]
  },
  {
   "cell_type": "code",
   "execution_count": 8,
   "id": "658365a1",
   "metadata": {},
   "outputs": [
    {
     "data": {
      "text/plain": [
       "[1, 3, 4, 5]"
      ]
     },
     "execution_count": 8,
     "metadata": {},
     "output_type": "execute_result"
    }
   ],
   "source": [
    "numbers"
   ]
  },
  {
   "cell_type": "code",
   "execution_count": 9,
   "id": "6a2d0c48",
   "metadata": {},
   "outputs": [],
   "source": [
    "names = ['Rajat','Data','New','Year']"
   ]
  },
  {
   "cell_type": "code",
   "execution_count": 10,
   "id": "08e1521d",
   "metadata": {},
   "outputs": [],
   "source": [
    "names.remove('New')"
   ]
  },
  {
   "cell_type": "code",
   "execution_count": 11,
   "id": "6924edc9",
   "metadata": {},
   "outputs": [
    {
     "data": {
      "text/plain": [
       "['Rajat', 'Data', 'Year']"
      ]
     },
     "execution_count": 11,
     "metadata": {},
     "output_type": "execute_result"
    }
   ],
   "source": [
    "names"
   ]
  },
  {
   "cell_type": "code",
   "execution_count": 12,
   "id": "4e691084",
   "metadata": {},
   "outputs": [],
   "source": [
    "mixes_data = ['Rajat', 10, 15.5, 10 + 5j, True]"
   ]
  },
  {
   "cell_type": "code",
   "execution_count": 13,
   "id": "36055aa6",
   "metadata": {},
   "outputs": [],
   "source": [
    "mixes_data.remove(True)"
   ]
  },
  {
   "cell_type": "code",
   "execution_count": 14,
   "id": "40395d9b",
   "metadata": {},
   "outputs": [
    {
     "data": {
      "text/plain": [
       "['Rajat', 10, 15.5, (10+5j)]"
      ]
     },
     "execution_count": 14,
     "metadata": {},
     "output_type": "execute_result"
    }
   ],
   "source": [
    "mixes_data"
   ]
  },
  {
   "cell_type": "code",
   "execution_count": 15,
   "id": "3e8b0a4f",
   "metadata": {},
   "outputs": [],
   "source": [
    "# Pop Pop removes last element of list"
   ]
  },
  {
   "cell_type": "code",
   "execution_count": 16,
   "id": "345f4760",
   "metadata": {},
   "outputs": [],
   "source": [
    "p =    [2, 4, 6, 8, 10, 12, 14, 16, 18, 20]"
   ]
  },
  {
   "cell_type": "code",
   "execution_count": 17,
   "id": "9bda8af1",
   "metadata": {},
   "outputs": [
    {
     "data": {
      "text/plain": [
       "[2, 4, 6, 8, 10, 12, 14, 16, 18, 20]"
      ]
     },
     "execution_count": 17,
     "metadata": {},
     "output_type": "execute_result"
    }
   ],
   "source": [
    "p"
   ]
  },
  {
   "cell_type": "code",
   "execution_count": 18,
   "id": "dadf36bc",
   "metadata": {},
   "outputs": [
    {
     "data": {
      "text/plain": [
       "20"
      ]
     },
     "execution_count": 18,
     "metadata": {},
     "output_type": "execute_result"
    }
   ],
   "source": [
    "p.pop()"
   ]
  },
  {
   "cell_type": "code",
   "execution_count": 19,
   "id": "d8f91723",
   "metadata": {},
   "outputs": [
    {
     "data": {
      "text/plain": [
       "[2, 4, 6, 8, 10, 12, 14, 16, 18]"
      ]
     },
     "execution_count": 19,
     "metadata": {},
     "output_type": "execute_result"
    }
   ],
   "source": [
    "p"
   ]
  },
  {
   "cell_type": "code",
   "execution_count": 20,
   "id": "052290dd",
   "metadata": {},
   "outputs": [
    {
     "data": {
      "text/plain": [
       "(10+5j)"
      ]
     },
     "execution_count": 20,
     "metadata": {},
     "output_type": "execute_result"
    }
   ],
   "source": [
    "mixes_data.pop()"
   ]
  },
  {
   "cell_type": "code",
   "execution_count": 21,
   "id": "28cb117b",
   "metadata": {},
   "outputs": [
    {
     "data": {
      "text/plain": [
       "['Rajat', 10, 15.5]"
      ]
     },
     "execution_count": 21,
     "metadata": {},
     "output_type": "execute_result"
    }
   ],
   "source": [
    "mixes_data"
   ]
  },
  {
   "cell_type": "code",
   "execution_count": 22,
   "id": "d6d6580b",
   "metadata": {},
   "outputs": [],
   "source": [
    "# Methods"
   ]
  },
  {
   "cell_type": "code",
   "execution_count": 23,
   "id": "d7d95714",
   "metadata": {},
   "outputs": [],
   "source": [
    "# Sorting data"
   ]
  },
  {
   "cell_type": "code",
   "execution_count": 24,
   "id": "e5607eed",
   "metadata": {},
   "outputs": [],
   "source": [
    "f = [10,3,6,2,8]"
   ]
  },
  {
   "cell_type": "code",
   "execution_count": 25,
   "id": "4064299c",
   "metadata": {},
   "outputs": [],
   "source": [
    "f.sort()"
   ]
  },
  {
   "cell_type": "code",
   "execution_count": 26,
   "id": "d1d96769",
   "metadata": {},
   "outputs": [
    {
     "data": {
      "text/plain": [
       "[2, 3, 6, 8, 10]"
      ]
     },
     "execution_count": 26,
     "metadata": {},
     "output_type": "execute_result"
    }
   ],
   "source": [
    "f"
   ]
  },
  {
   "cell_type": "code",
   "execution_count": 27,
   "id": "6c7b8cda",
   "metadata": {},
   "outputs": [],
   "source": [
    "#Reverse"
   ]
  },
  {
   "cell_type": "code",
   "execution_count": 28,
   "id": "e1d3d746",
   "metadata": {},
   "outputs": [],
   "source": [
    "f.reverse()"
   ]
  },
  {
   "cell_type": "code",
   "execution_count": 29,
   "id": "d19beed1",
   "metadata": {},
   "outputs": [
    {
     "data": {
      "text/plain": [
       "[10, 8, 6, 3, 2]"
      ]
     },
     "execution_count": 29,
     "metadata": {},
     "output_type": "execute_result"
    }
   ],
   "source": [
    "f"
   ]
  },
  {
   "cell_type": "code",
   "execution_count": 30,
   "id": "d47e3403",
   "metadata": {},
   "outputs": [
    {
     "data": {
      "text/plain": [
       "[10, 8, 6, 3, 2]"
      ]
     },
     "execution_count": 30,
     "metadata": {},
     "output_type": "execute_result"
    }
   ],
   "source": [
    "f"
   ]
  },
  {
   "cell_type": "code",
   "execution_count": 34,
   "id": "6faa303e",
   "metadata": {},
   "outputs": [
    {
     "data": {
      "text/plain": [
       "[2, 3, 6, 8, 10]"
      ]
     },
     "execution_count": 34,
     "metadata": {},
     "output_type": "execute_result"
    }
   ],
   "source": [
    "f[::-1]"
   ]
  },
  {
   "cell_type": "code",
   "execution_count": 35,
   "id": "984e23f7",
   "metadata": {},
   "outputs": [],
   "source": [
    "# Finding index of element"
   ]
  },
  {
   "cell_type": "code",
   "execution_count": 36,
   "id": "715c83ed",
   "metadata": {},
   "outputs": [
    {
     "data": {
      "text/plain": [
       "1"
      ]
     },
     "execution_count": 36,
     "metadata": {},
     "output_type": "execute_result"
    }
   ],
   "source": [
    "mixes_data.index(10)"
   ]
  },
  {
   "cell_type": "code",
   "execution_count": 37,
   "id": "c6a41335",
   "metadata": {},
   "outputs": [
    {
     "data": {
      "text/plain": [
       "['Rajat', 10, 15.5]"
      ]
     },
     "execution_count": 37,
     "metadata": {},
     "output_type": "execute_result"
    }
   ],
   "source": [
    "mixes_data"
   ]
  },
  {
   "cell_type": "code",
   "execution_count": 38,
   "id": "b2b0db7d",
   "metadata": {},
   "outputs": [],
   "source": [
    "# Insert "
   ]
  },
  {
   "cell_type": "code",
   "execution_count": 39,
   "id": "313d256b",
   "metadata": {},
   "outputs": [
    {
     "data": {
      "text/plain": [
       "['Rajat', 'Data', 'Year']"
      ]
     },
     "execution_count": 39,
     "metadata": {},
     "output_type": "execute_result"
    }
   ],
   "source": [
    "names"
   ]
  },
  {
   "cell_type": "code",
   "execution_count": 40,
   "id": "8f83e936",
   "metadata": {},
   "outputs": [],
   "source": [
    "names.insert(1,'NEW')"
   ]
  },
  {
   "cell_type": "code",
   "execution_count": 41,
   "id": "9fde93ec",
   "metadata": {},
   "outputs": [
    {
     "data": {
      "text/plain": [
       "['Rajat', 'NEW', 'Data', 'Year']"
      ]
     },
     "execution_count": 41,
     "metadata": {},
     "output_type": "execute_result"
    }
   ],
   "source": [
    "names"
   ]
  },
  {
   "cell_type": "raw",
   "id": "b4319d46",
   "metadata": {},
   "source": [
    "# Tuple\n",
    "A tuple is in build data type used to store an ordered and immutable squence of elemnets.\n",
    "Tuplws are similar to list, but once created, thier elements cannot be modified. "
   ]
  },
  {
   "cell_type": "code",
   "execution_count": 42,
   "id": "b6880806",
   "metadata": {},
   "outputs": [],
   "source": [
    "empty_tuple = ()"
   ]
  },
  {
   "cell_type": "code",
   "execution_count": 43,
   "id": "18d68e57",
   "metadata": {},
   "outputs": [
    {
     "data": {
      "text/plain": [
       "()"
      ]
     },
     "execution_count": 43,
     "metadata": {},
     "output_type": "execute_result"
    }
   ],
   "source": [
    "empty_tuple"
   ]
  },
  {
   "cell_type": "code",
   "execution_count": 44,
   "id": "3724b55c",
   "metadata": {},
   "outputs": [],
   "source": [
    "num_tuple = (1,2,3,4,5,6)"
   ]
  },
  {
   "cell_type": "code",
   "execution_count": 45,
   "id": "06badc30",
   "metadata": {},
   "outputs": [
    {
     "data": {
      "text/plain": [
       "(1, 2, 3, 4, 5, 6)"
      ]
     },
     "execution_count": 45,
     "metadata": {},
     "output_type": "execute_result"
    }
   ],
   "source": [
    "num_tuple"
   ]
  },
  {
   "cell_type": "code",
   "execution_count": 46,
   "id": "42a3df81",
   "metadata": {},
   "outputs": [],
   "source": [
    "nam_tuple = ('Sam', 'John', 'Rose')"
   ]
  },
  {
   "cell_type": "code",
   "execution_count": 47,
   "id": "f172b4bf",
   "metadata": {},
   "outputs": [
    {
     "data": {
      "text/plain": [
       "('Sam', 'John', 'Rose')"
      ]
     },
     "execution_count": 47,
     "metadata": {},
     "output_type": "execute_result"
    }
   ],
   "source": [
    "nam_tuple"
   ]
  },
  {
   "cell_type": "code",
   "execution_count": 48,
   "id": "94103317",
   "metadata": {},
   "outputs": [],
   "source": [
    "mix_tuple = (10, 'apple', True, 3.14)"
   ]
  },
  {
   "cell_type": "code",
   "execution_count": 49,
   "id": "c2cc3e48",
   "metadata": {},
   "outputs": [
    {
     "data": {
      "text/plain": [
       "(10, 'apple', True, 3.14)"
      ]
     },
     "execution_count": 49,
     "metadata": {},
     "output_type": "execute_result"
    }
   ],
   "source": [
    "mix_tuple"
   ]
  },
  {
   "cell_type": "code",
   "execution_count": 50,
   "id": "801df234",
   "metadata": {},
   "outputs": [
    {
     "data": {
      "text/plain": [
       "1"
      ]
     },
     "execution_count": 50,
     "metadata": {},
     "output_type": "execute_result"
    }
   ],
   "source": [
    "num_tuple[0]"
   ]
  },
  {
   "cell_type": "code",
   "execution_count": 52,
   "id": "2f4b4374",
   "metadata": {},
   "outputs": [
    {
     "data": {
      "text/plain": [
       "(1, 2, 3, 4, 5, 6)"
      ]
     },
     "execution_count": 52,
     "metadata": {},
     "output_type": "execute_result"
    }
   ],
   "source": [
    "num_tuple"
   ]
  },
  {
   "cell_type": "code",
   "execution_count": 53,
   "id": "0521bf69",
   "metadata": {},
   "outputs": [
    {
     "data": {
      "text/plain": [
       "4"
      ]
     },
     "execution_count": 53,
     "metadata": {},
     "output_type": "execute_result"
    }
   ],
   "source": [
    "num_tuple[3]"
   ]
  },
  {
   "cell_type": "code",
   "execution_count": 54,
   "id": "df36df1a",
   "metadata": {},
   "outputs": [
    {
     "data": {
      "text/plain": [
       "6"
      ]
     },
     "execution_count": 54,
     "metadata": {},
     "output_type": "execute_result"
    }
   ],
   "source": [
    "num_tuple[-1]"
   ]
  },
  {
   "cell_type": "code",
   "execution_count": 55,
   "id": "13119d02",
   "metadata": {},
   "outputs": [
    {
     "data": {
      "text/plain": [
       "(1, 2, 3, 4, 5, 6, 10, 'apple', True, 3.14)"
      ]
     },
     "execution_count": 55,
     "metadata": {},
     "output_type": "execute_result"
    }
   ],
   "source": [
    "num_tuple + mix_tuple"
   ]
  },
  {
   "cell_type": "code",
   "execution_count": 56,
   "id": "c813a000",
   "metadata": {},
   "outputs": [
    {
     "data": {
      "text/plain": [
       "(10, 'apple', True, 3.14, 10, 'apple', True, 3.14)"
      ]
     },
     "execution_count": 56,
     "metadata": {},
     "output_type": "execute_result"
    }
   ],
   "source": [
    "mix_tuple * 2"
   ]
  },
  {
   "cell_type": "code",
   "execution_count": 57,
   "id": "f10c7e4e",
   "metadata": {},
   "outputs": [
    {
     "data": {
      "text/plain": [
       "True"
      ]
     },
     "execution_count": 57,
     "metadata": {},
     "output_type": "execute_result"
    }
   ],
   "source": [
    "'apple' in mix_tuple"
   ]
  },
  {
   "cell_type": "code",
   "execution_count": 58,
   "id": "e0c5e764",
   "metadata": {},
   "outputs": [],
   "source": [
    "# Slicing"
   ]
  },
  {
   "cell_type": "code",
   "execution_count": 59,
   "id": "06983010",
   "metadata": {},
   "outputs": [
    {
     "data": {
      "text/plain": [
       "(1, 2, 3, 4, 5, 6)"
      ]
     },
     "execution_count": 59,
     "metadata": {},
     "output_type": "execute_result"
    }
   ],
   "source": [
    "num_tuple"
   ]
  },
  {
   "cell_type": "code",
   "execution_count": 60,
   "id": "2cf296a3",
   "metadata": {},
   "outputs": [
    {
     "data": {
      "text/plain": [
       "(1, 2)"
      ]
     },
     "execution_count": 60,
     "metadata": {},
     "output_type": "execute_result"
    }
   ],
   "source": [
    "num_tuple[0:2]"
   ]
  },
  {
   "cell_type": "code",
   "execution_count": 61,
   "id": "cdd75d39",
   "metadata": {},
   "outputs": [
    {
     "data": {
      "text/plain": [
       "(1, 3, 5)"
      ]
     },
     "execution_count": 61,
     "metadata": {},
     "output_type": "execute_result"
    }
   ],
   "source": [
    "num_tuple[::2]"
   ]
  },
  {
   "cell_type": "code",
   "execution_count": 62,
   "id": "6076c139",
   "metadata": {},
   "outputs": [
    {
     "data": {
      "text/plain": [
       "(6, 5, 4, 3, 2, 1)"
      ]
     },
     "execution_count": 62,
     "metadata": {},
     "output_type": "execute_result"
    }
   ],
   "source": [
    "num_tuple[::-1]"
   ]
  },
  {
   "cell_type": "code",
   "execution_count": 63,
   "id": "1dff3a6d",
   "metadata": {},
   "outputs": [
    {
     "data": {
      "text/plain": [
       "3"
      ]
     },
     "execution_count": 63,
     "metadata": {},
     "output_type": "execute_result"
    }
   ],
   "source": [
    "num_tuple.index(4)"
   ]
  },
  {
   "cell_type": "code",
   "execution_count": 64,
   "id": "57ea2582",
   "metadata": {},
   "outputs": [
    {
     "data": {
      "text/plain": [
       "0"
      ]
     },
     "execution_count": 64,
     "metadata": {},
     "output_type": "execute_result"
    }
   ],
   "source": [
    "mix_tuple.count(2)"
   ]
  },
  {
   "cell_type": "code",
   "execution_count": 65,
   "id": "579e67b6",
   "metadata": {},
   "outputs": [
    {
     "data": {
      "text/plain": [
       "1"
      ]
     },
     "execution_count": 65,
     "metadata": {},
     "output_type": "execute_result"
    }
   ],
   "source": [
    "num_tuple.count(2)"
   ]
  },
  {
   "cell_type": "code",
   "execution_count": 68,
   "id": "617b5e34",
   "metadata": {},
   "outputs": [
    {
     "data": {
      "text/plain": [
       "1"
      ]
     },
     "execution_count": 68,
     "metadata": {},
     "output_type": "execute_result"
    }
   ],
   "source": [
    "num_tuple.count(2)"
   ]
  },
  {
   "cell_type": "code",
   "execution_count": 69,
   "id": "90a82d84",
   "metadata": {},
   "outputs": [],
   "source": [
    "num = (1,1,2,2,2,2,3,4,5,5,5,6,6,7,8,8,8,9)"
   ]
  },
  {
   "cell_type": "code",
   "execution_count": 70,
   "id": "c2c402b8",
   "metadata": {},
   "outputs": [
    {
     "data": {
      "text/plain": [
       "(1, 1, 2, 2, 2, 2, 3, 4, 5, 5, 5, 6, 6, 7, 8, 8, 8, 9)"
      ]
     },
     "execution_count": 70,
     "metadata": {},
     "output_type": "execute_result"
    }
   ],
   "source": [
    "num"
   ]
  },
  {
   "cell_type": "code",
   "execution_count": 71,
   "id": "1a1cb54f",
   "metadata": {},
   "outputs": [
    {
     "data": {
      "text/plain": [
       "4"
      ]
     },
     "execution_count": 71,
     "metadata": {},
     "output_type": "execute_result"
    }
   ],
   "source": [
    "num.count(2)"
   ]
  },
  {
   "cell_type": "code",
   "execution_count": null,
   "id": "bbc59993",
   "metadata": {},
   "outputs": [],
   "source": []
  }
 ],
 "metadata": {
  "kernelspec": {
   "display_name": "Python 3 (ipykernel)",
   "language": "python",
   "name": "python3"
  },
  "language_info": {
   "codemirror_mode": {
    "name": "ipython",
    "version": 3
   },
   "file_extension": ".py",
   "mimetype": "text/x-python",
   "name": "python",
   "nbconvert_exporter": "python",
   "pygments_lexer": "ipython3",
   "version": "3.11.5"
  }
 },
 "nbformat": 4,
 "nbformat_minor": 5
}

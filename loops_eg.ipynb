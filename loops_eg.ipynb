{
 "cells": [
  {
   "cell_type": "code",
   "execution_count": 1,
   "id": "80748a45",
   "metadata": {},
   "outputs": [],
   "source": [
    "l = [1,2,3,4]"
   ]
  },
  {
   "cell_type": "code",
   "execution_count": 2,
   "id": "e100bc77",
   "metadata": {},
   "outputs": [
    {
     "name": "stdout",
     "output_type": "stream",
     "text": [
      "1\n",
      "2\n",
      "3\n",
      "4\n"
     ]
    }
   ],
   "source": [
    "for i in l:\n",
    "    print(i)\n",
    "    "
   ]
  },
  {
   "cell_type": "code",
   "execution_count": 8,
   "id": "5cbecf7d",
   "metadata": {},
   "outputs": [],
   "source": [
    "j = ['Data','Science','Analysis']"
   ]
  },
  {
   "cell_type": "code",
   "execution_count": 9,
   "id": "5a3a8b49",
   "metadata": {},
   "outputs": [
    {
     "name": "stdout",
     "output_type": "stream",
     "text": [
      "Data\n",
      "Science\n",
      "Analysis\n"
     ]
    }
   ],
   "source": [
    "for i in j:\n",
    "    print(i)"
   ]
  },
  {
   "cell_type": "code",
   "execution_count": 10,
   "id": "00c9db5f",
   "metadata": {},
   "outputs": [
    {
     "name": "stdout",
     "output_type": "stream",
     "text": [
      "D\n",
      "a\n",
      "t\n",
      "a\n",
      "S\n",
      "c\n",
      "i\n",
      "e\n",
      "n\n",
      "c\n",
      "e\n",
      "A\n",
      "n\n",
      "a\n",
      "l\n",
      "y\n",
      "s\n",
      "i\n",
      "s\n"
     ]
    }
   ],
   "source": [
    "for i in j:\n",
    "    for d in i:\n",
    "        print(d)"
   ]
  },
  {
   "cell_type": "code",
   "execution_count": 11,
   "id": "b0b6d60b",
   "metadata": {},
   "outputs": [],
   "source": [
    "t = [1,[0.1,0.2,0.3],2,3,4,5,6]"
   ]
  },
  {
   "cell_type": "code",
   "execution_count": 2,
   "id": "c5ac3463",
   "metadata": {},
   "outputs": [],
   "source": [
    "g = [1,1.5,10+5j,True,\"data\",'Science',10,15,13,12.5,3.6]"
   ]
  },
  {
   "cell_type": "code",
   "execution_count": 7,
   "id": "61634e96",
   "metadata": {},
   "outputs": [
    {
     "name": "stdout",
     "output_type": "stream",
     "text": [
      "data\n",
      "Science\n"
     ]
    }
   ],
   "source": [
    "for i in g:\n",
    "    if type(i) == str:\n",
    "        \n",
    "    \n",
    "        print(i)"
   ]
  },
  {
   "cell_type": "code",
   "execution_count": 9,
   "id": "bbf3afe7",
   "metadata": {},
   "outputs": [],
   "source": [
    "l = [2,45,78,'john', 6+5j,[54,34,54]]"
   ]
  },
  {
   "cell_type": "code",
   "execution_count": 12,
   "id": "161fec45",
   "metadata": {},
   "outputs": [
    {
     "name": "stdout",
     "output_type": "stream",
     "text": [
      "2\n",
      "45\n",
      "78\n",
      "54\n",
      "34\n",
      "54\n"
     ]
    }
   ],
   "source": [
    "for i in l:\n",
    "    if type(i) == int:\n",
    "        print(i)\n",
    "    elif type(i) == list:\n",
    "        for num in i:\n",
    "            print(num)"
   ]
  },
  {
   "cell_type": "code",
   "execution_count": 13,
   "id": "e4c51ede",
   "metadata": {},
   "outputs": [],
   "source": [
    "l = [2,45,78,'john', 6+5j,[54,34,54,'Data']]"
   ]
  },
  {
   "cell_type": "code",
   "execution_count": 15,
   "id": "7a10302b",
   "metadata": {},
   "outputs": [
    {
     "name": "stdout",
     "output_type": "stream",
     "text": [
      "2\n",
      "45\n",
      "78\n",
      "54\n",
      "34\n",
      "54\n"
     ]
    }
   ],
   "source": [
    "for i in l:\n",
    "    if type(i) == int:\n",
    "        print(i)\n",
    "    elif type(i) == list:\n",
    "        for num in i:\n",
    "            if type(num) == int:\n",
    "                print(num)\n",
    "            "
   ]
  },
  {
   "cell_type": "code",
   "execution_count": 17,
   "id": "ea136570",
   "metadata": {},
   "outputs": [],
   "source": [
    "a = [2,45,78,'john', 6+5j,'New',[54,34,54,'Data']]"
   ]
  },
  {
   "cell_type": "code",
   "execution_count": 19,
   "id": "fd22a948",
   "metadata": {},
   "outputs": [
    {
     "name": "stdout",
     "output_type": "stream",
     "text": [
      "john\n",
      "New\n"
     ]
    }
   ],
   "source": [
    "k = []\n",
    "for i in a:\n",
    "    if type(i) == str:\n",
    "        print(i)\n",
    "        k.append(i)"
   ]
  },
  {
   "cell_type": "code",
   "execution_count": 20,
   "id": "5bb82994",
   "metadata": {},
   "outputs": [
    {
     "data": {
      "text/plain": [
       "['john', 'New']"
      ]
     },
     "execution_count": 20,
     "metadata": {},
     "output_type": "execute_result"
    }
   ],
   "source": [
    "k"
   ]
  },
  {
   "cell_type": "code",
   "execution_count": 21,
   "id": "c83c21dd",
   "metadata": {},
   "outputs": [
    {
     "data": {
      "text/plain": [
       "[2, 45, 78, 'john', (6+5j), 'New', [54, 34, 54, 'Data']]"
      ]
     },
     "execution_count": 21,
     "metadata": {},
     "output_type": "execute_result"
    }
   ],
   "source": [
    "a"
   ]
  },
  {
   "cell_type": "code",
   "execution_count": 22,
   "id": "8a58fda1",
   "metadata": {},
   "outputs": [
    {
     "name": "stdout",
     "output_type": "stream",
     "text": [
      "john\n",
      "New\n",
      "Data\n"
     ]
    }
   ],
   "source": [
    "k = []\n",
    "for i in a:\n",
    "    if type(i) == str:\n",
    "        print(i)\n",
    "        k.append(i)\n",
    "    elif type(i) == list:\n",
    "        for items in i:\n",
    "            if type(items) == str:\n",
    "                print(items)\n",
    "                k.append(items)"
   ]
  },
  {
   "cell_type": "code",
   "execution_count": 23,
   "id": "8dc23a44",
   "metadata": {},
   "outputs": [
    {
     "data": {
      "text/plain": [
       "['john', 'New', 'Data']"
      ]
     },
     "execution_count": 23,
     "metadata": {},
     "output_type": "execute_result"
    }
   ],
   "source": [
    "k"
   ]
  },
  {
   "cell_type": "code",
   "execution_count": 24,
   "id": "8eade1f7",
   "metadata": {},
   "outputs": [],
   "source": [
    "names = ['Vivek', 'Rajat', 'Mohit','Rutuja','Vaishnavi']"
   ]
  },
  {
   "cell_type": "code",
   "execution_count": 25,
   "id": "34a33e5e",
   "metadata": {},
   "outputs": [],
   "source": [
    "letters = []"
   ]
  },
  {
   "cell_type": "code",
   "execution_count": null,
   "id": "1bd01a9c",
   "metadata": {},
   "outputs": [],
   "source": []
  }
 ],
 "metadata": {
  "kernelspec": {
   "display_name": "Python 3 (ipykernel)",
   "language": "python",
   "name": "python3"
  },
  "language_info": {
   "codemirror_mode": {
    "name": "ipython",
    "version": 3
   },
   "file_extension": ".py",
   "mimetype": "text/x-python",
   "name": "python",
   "nbconvert_exporter": "python",
   "pygments_lexer": "ipython3",
   "version": "3.11.5"
  }
 },
 "nbformat": 4,
 "nbformat_minor": 5
}

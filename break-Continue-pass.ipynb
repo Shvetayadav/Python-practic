{
 "cells": [
  {
   "cell_type": "code",
   "execution_count": 1,
   "id": "ea5613ca",
   "metadata": {},
   "outputs": [
    {
     "name": "stdout",
     "output_type": "stream",
     "text": [
      "0\n",
      "1\n",
      "2\n",
      "3\n",
      "4\n"
     ]
    }
   ],
   "source": [
    "for i in range(5):\n",
    "    print(i)"
   ]
  },
  {
   "cell_type": "markdown",
   "id": "278d1b7c",
   "metadata": {},
   "source": [
    "# Break "
   ]
  },
  {
   "cell_type": "markdown",
   "id": "38639e79",
   "metadata": {},
   "source": [
    "The break statement is used to exit the current loop parmaturely, regardless of wheher the loop's\n",
    " condition is still true. It often to terminate a loop when a certain condition is met."
   ]
  },
  {
   "cell_type": "code",
   "execution_count": 2,
   "id": "6b8c7bb4",
   "metadata": {},
   "outputs": [
    {
     "name": "stdout",
     "output_type": "stream",
     "text": [
      "0\n",
      "1\n",
      "2\n"
     ]
    }
   ],
   "source": [
    "for i in range(5):\n",
    "    if i == 3:\n",
    "        break\n",
    "    print(i)"
   ]
  },
  {
   "cell_type": "code",
   "execution_count": 4,
   "id": "96bb0f6c",
   "metadata": {},
   "outputs": [
    {
     "name": "stdout",
     "output_type": "stream",
     "text": [
      "d\n",
      "a\n",
      "t\n",
      "a\n",
      "c\n"
     ]
    }
   ],
   "source": [
    "for i in 'datacouncil':\n",
    "    if i == 'o':\n",
    "        break\n",
    "    print(i)"
   ]
  },
  {
   "cell_type": "code",
   "execution_count": 6,
   "id": "1cffdc27",
   "metadata": {},
   "outputs": [
    {
     "name": "stdout",
     "output_type": "stream",
     "text": [
      "d\n",
      "a\n",
      "t\n",
      "a\n",
      "c\n",
      "o\n",
      "o\n",
      "u\n",
      "n\n",
      "c\n",
      "i\n",
      "l\n"
     ]
    }
   ],
   "source": [
    "for i in 'datacouncil':\n",
    "     if i == 'o':\n",
    "        print(i)\n",
    "    \n",
    "\n",
    "    print(i)"
   ]
  },
  {
   "cell_type": "markdown",
   "id": "0f94c5b4",
   "metadata": {},
   "source": [
    "# Continue"
   ]
  },
  {
   "cell_type": "markdown",
   "id": "feb7d094",
   "metadata": {},
   "source": [
    "The continue statement is used to skip the rest of the current iteration of a loop and move to\n",
    "the next iteration. It is typically used when you want to skip some specefic element or action\n",
    "within a loop"
   ]
  },
  {
   "cell_type": "code",
   "execution_count": 7,
   "id": "5ed9bf71",
   "metadata": {},
   "outputs": [
    {
     "name": "stdout",
     "output_type": "stream",
     "text": [
      "0\n",
      "1\n",
      "3\n",
      "4\n"
     ]
    }
   ],
   "source": [
    "for i in range(5):\n",
    "    if i == 2:\n",
    "        continue\n",
    "    print(i)"
   ]
  },
  {
   "cell_type": "code",
   "execution_count": 13,
   "id": "e87001f7",
   "metadata": {},
   "outputs": [
    {
     "name": "stdout",
     "output_type": "stream",
     "text": [
      "d\n",
      "a\n",
      "t\n",
      "a\n",
      "c\n",
      "u\n",
      "n\n",
      "c\n",
      "i\n",
      "l\n"
     ]
    }
   ],
   "source": [
    "for i in 'datacouncil':\n",
    "    if i == 'o':\n",
    "        continue\n",
    "    print(i)"
   ]
  },
  {
   "cell_type": "code",
   "execution_count": null,
   "id": "6fbc9480",
   "metadata": {},
   "outputs": [],
   "source": [
    "for i in 'datacouncil':\n",
    "    if i == 'a':\n",
    "        continue\n",
    "    elif i == 'u':\n",
    "        continue\n",
    "        \n",
    "    print(i)"
   ]
  },
  {
   "cell_type": "markdown",
   "id": "03f7aec1",
   "metadata": {},
   "source": [
    "# Pass"
   ]
  },
  {
   "cell_type": "markdown",
   "id": "266e3b93",
   "metadata": {},
   "source": [
    "The pass statement is null operation ar a no-op. It is often used as a placeholder when you need\n",
    "a statement for syantiitical reason but don't wont it to do anything. It's commonly used when you're\n",
    " defining empty classes, functions,or conditional block."
   ]
  },
  {
   "cell_type": "code",
   "execution_count": 18,
   "id": "32380c2e",
   "metadata": {},
   "outputs": [
    {
     "name": "stdout",
     "output_type": "stream",
     "text": [
      "0\n",
      "1\n",
      "3\n",
      "4\n"
     ]
    }
   ],
   "source": [
    "for i in range(5):\n",
    "    if i == 2: # Do nothing i == 2\n",
    "        pass\n",
    "    else:\n",
    "        print(i)"
   ]
  },
  {
   "cell_type": "code",
   "execution_count": null,
   "id": "690036c4",
   "metadata": {},
   "outputs": [],
   "source": []
  }
 ],
 "metadata": {
  "kernelspec": {
   "display_name": "Python 3 (ipykernel)",
   "language": "python",
   "name": "python3"
  },
  "language_info": {
   "codemirror_mode": {
    "name": "ipython",
    "version": 3
   },
   "file_extension": ".py",
   "mimetype": "text/x-python",
   "name": "python",
   "nbconvert_exporter": "python",
   "pygments_lexer": "ipython3",
   "version": "3.11.5"
  }
 },
 "nbformat": 4,
 "nbformat_minor": 5
}

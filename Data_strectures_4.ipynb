{
 "cells": [
  {
   "cell_type": "code",
   "execution_count": 1,
   "id": "0cface59",
   "metadata": {},
   "outputs": [],
   "source": [
    "a = [1,2,4,5,6]"
   ]
  },
  {
   "cell_type": "code",
   "execution_count": 3,
   "id": "3e418ab4",
   "metadata": {},
   "outputs": [],
   "source": [
    "b = [1,2,['Name',10.5,True],12,3,5]"
   ]
  },
  {
   "cell_type": "code",
   "execution_count": 4,
   "id": "4d97ca7a",
   "metadata": {},
   "outputs": [
    {
     "data": {
      "text/plain": [
       "[1, 2, ['Name', 10.5, True], 12, 3, 5]"
      ]
     },
     "execution_count": 4,
     "metadata": {},
     "output_type": "execute_result"
    }
   ],
   "source": [
    "b"
   ]
  },
  {
   "cell_type": "code",
   "execution_count": 5,
   "id": "007ba5ab",
   "metadata": {},
   "outputs": [],
   "source": [
    "c = ['Data', ['New','Year', 10.4], ['Council', 17, 10+5j, False], 5]"
   ]
  },
  {
   "cell_type": "code",
   "execution_count": 6,
   "id": "35666421",
   "metadata": {},
   "outputs": [
    {
     "data": {
      "text/plain": [
       "['Data', ['New', 'Year', 10.4], ['Council', 17, (10+5j), False], 5]"
      ]
     },
     "execution_count": 6,
     "metadata": {},
     "output_type": "execute_result"
    }
   ],
   "source": [
    "c"
   ]
  },
  {
   "cell_type": "code",
   "execution_count": 7,
   "id": "132b3838",
   "metadata": {},
   "outputs": [
    {
     "data": {
      "text/plain": [
       "['New', 'Year', 10.4]"
      ]
     },
     "execution_count": 7,
     "metadata": {},
     "output_type": "execute_result"
    }
   ],
   "source": [
    "c[1]"
   ]
  },
  {
   "cell_type": "code",
   "execution_count": 8,
   "id": "842a2caa",
   "metadata": {},
   "outputs": [
    {
     "data": {
      "text/plain": [
       "['Council', 17, (10+5j), False]"
      ]
     },
     "execution_count": 8,
     "metadata": {},
     "output_type": "execute_result"
    }
   ],
   "source": [
    "c[2]"
   ]
  },
  {
   "cell_type": "code",
   "execution_count": 9,
   "id": "336b23f6",
   "metadata": {},
   "outputs": [
    {
     "data": {
      "text/plain": [
       "'Council'"
      ]
     },
     "execution_count": 9,
     "metadata": {},
     "output_type": "execute_result"
    }
   ],
   "source": [
    "c[2][0]"
   ]
  },
  {
   "cell_type": "code",
   "execution_count": 10,
   "id": "c9ce6c3f",
   "metadata": {},
   "outputs": [],
   "source": [
    "f = ['Android',['Software','Hardware',['Android11','Android12'], 'Iphone'],'Redmi' ]"
   ]
  },
  {
   "cell_type": "code",
   "execution_count": 11,
   "id": "ef6aba1b",
   "metadata": {},
   "outputs": [
    {
     "data": {
      "text/plain": [
       "['Android',\n",
       " ['Software', 'Hardware', ['Android11', 'Android12'], 'Iphone'],\n",
       " 'Redmi']"
      ]
     },
     "execution_count": 11,
     "metadata": {},
     "output_type": "execute_result"
    }
   ],
   "source": [
    "f"
   ]
  },
  {
   "cell_type": "code",
   "execution_count": 15,
   "id": "23e4d955",
   "metadata": {},
   "outputs": [
    {
     "data": {
      "text/plain": [
       "'Android11'"
      ]
     },
     "execution_count": 15,
     "metadata": {},
     "output_type": "execute_result"
    }
   ],
   "source": [
    "f[1][2][0]"
   ]
  },
  {
   "cell_type": "code",
   "execution_count": 16,
   "id": "eca3ef13",
   "metadata": {},
   "outputs": [],
   "source": [
    "t =[[0,1],[0.1,0.2],[0.01,0.02],[1,2],[0.1,0.2],[0.01,0.02],[2,3],[3,4],[4,5]]"
   ]
  },
  {
   "cell_type": "code",
   "execution_count": 17,
   "id": "1ada4840",
   "metadata": {},
   "outputs": [],
   "source": [
    "g = (1,2,4,(1,2,3))"
   ]
  },
  {
   "cell_type": "code",
   "execution_count": 18,
   "id": "153492c0",
   "metadata": {},
   "outputs": [
    {
     "data": {
      "text/plain": [
       "(1, 2, 4, (1, 2, 3))"
      ]
     },
     "execution_count": 18,
     "metadata": {},
     "output_type": "execute_result"
    }
   ],
   "source": [
    "g"
   ]
  },
  {
   "cell_type": "code",
   "execution_count": 19,
   "id": "f6dd0aa2",
   "metadata": {},
   "outputs": [
    {
     "data": {
      "text/plain": [
       "(1, 2, 3)"
      ]
     },
     "execution_count": 19,
     "metadata": {},
     "output_type": "execute_result"
    }
   ],
   "source": [
    "g[3]"
   ]
  },
  {
   "cell_type": "code",
   "execution_count": 20,
   "id": "36952c51",
   "metadata": {},
   "outputs": [
    {
     "data": {
      "text/plain": [
       "1"
      ]
     },
     "execution_count": 20,
     "metadata": {},
     "output_type": "execute_result"
    }
   ],
   "source": [
    "g[3][0]"
   ]
  },
  {
   "cell_type": "markdown",
   "id": "642e4a28",
   "metadata": {},
   "source": [
    "# Set"
   ]
  },
  {
   "cell_type": "raw",
   "id": "e977abaa",
   "metadata": {},
   "source": [
    "A set is in build data type used to store an unordered collection of unique elements."
   ]
  },
  {
   "cell_type": "code",
   "execution_count": 21,
   "id": "f6336f4f",
   "metadata": {},
   "outputs": [],
   "source": [
    "emp_set = set()"
   ]
  },
  {
   "cell_type": "code",
   "execution_count": 22,
   "id": "8c7a83ea",
   "metadata": {},
   "outputs": [
    {
     "data": {
      "text/plain": [
       "set"
      ]
     },
     "execution_count": 22,
     "metadata": {},
     "output_type": "execute_result"
    }
   ],
   "source": [
    "type(emp_set)"
   ]
  },
  {
   "cell_type": "code",
   "execution_count": 26,
   "id": "48135d09",
   "metadata": {},
   "outputs": [],
   "source": [
    "# Creae dataset with set\n",
    "\n",
    "fruit = set('Mango')"
   ]
  },
  {
   "cell_type": "code",
   "execution_count": 45,
   "id": "bf8dde46",
   "metadata": {},
   "outputs": [],
   "source": [
    "num = {1,2,3}"
   ]
  },
  {
   "cell_type": "code",
   "execution_count": 46,
   "id": "d2547849",
   "metadata": {},
   "outputs": [
    {
     "data": {
      "text/plain": [
       "{1, 2, 3}"
      ]
     },
     "execution_count": 46,
     "metadata": {},
     "output_type": "execute_result"
    }
   ],
   "source": [
    "num"
   ]
  },
  {
   "cell_type": "code",
   "execution_count": 44,
   "id": "1d42dd3d",
   "metadata": {},
   "outputs": [
    {
     "data": {
      "text/plain": [
       "{'M', 'a', 'g', 'n', 'o'}"
      ]
     },
     "execution_count": 44,
     "metadata": {},
     "output_type": "execute_result"
    }
   ],
   "source": [
    "fruit"
   ]
  },
  {
   "cell_type": "code",
   "execution_count": null,
   "id": "64513f2e",
   "metadata": {},
   "outputs": [],
   "source": []
  },
  {
   "cell_type": "code",
   "execution_count": 28,
   "id": "9fc6ffdf",
   "metadata": {},
   "outputs": [],
   "source": [
    "fruits = {'Mango', 'Apple'}"
   ]
  },
  {
   "cell_type": "code",
   "execution_count": 29,
   "id": "e3c54579",
   "metadata": {},
   "outputs": [
    {
     "data": {
      "text/plain": [
       "{'Apple', 'Mango'}"
      ]
     },
     "execution_count": 29,
     "metadata": {},
     "output_type": "execute_result"
    }
   ],
   "source": [
    "fruits"
   ]
  },
  {
   "cell_type": "code",
   "execution_count": 30,
   "id": "72f2cbc6",
   "metadata": {},
   "outputs": [
    {
     "data": {
      "text/plain": [
       "set"
      ]
     },
     "execution_count": 30,
     "metadata": {},
     "output_type": "execute_result"
    }
   ],
   "source": [
    "type(fruits)"
   ]
  },
  {
   "cell_type": "code",
   "execution_count": 31,
   "id": "81ca2677",
   "metadata": {},
   "outputs": [],
   "source": [
    "num_set = {1,2,3,4,5}"
   ]
  },
  {
   "cell_type": "code",
   "execution_count": 32,
   "id": "b0d2b315",
   "metadata": {},
   "outputs": [
    {
     "data": {
      "text/plain": [
       "{1, 2, 3, 4, 5}"
      ]
     },
     "execution_count": 32,
     "metadata": {},
     "output_type": "execute_result"
    }
   ],
   "source": [
    "num_set"
   ]
  },
  {
   "cell_type": "code",
   "execution_count": 33,
   "id": "ce8d2ccc",
   "metadata": {},
   "outputs": [
    {
     "data": {
      "text/plain": [
       "set"
      ]
     },
     "execution_count": 33,
     "metadata": {},
     "output_type": "execute_result"
    }
   ],
   "source": [
    "type(num_set)"
   ]
  },
  {
   "cell_type": "code",
   "execution_count": 34,
   "id": "69c005e1",
   "metadata": {},
   "outputs": [],
   "source": [
    "num_list = [10,12,14,16]"
   ]
  },
  {
   "cell_type": "code",
   "execution_count": 35,
   "id": "428496aa",
   "metadata": {},
   "outputs": [
    {
     "data": {
      "text/plain": [
       "{10, 12, 14, 16}"
      ]
     },
     "execution_count": 35,
     "metadata": {},
     "output_type": "execute_result"
    }
   ],
   "source": [
    "set(num_list)"
   ]
  },
  {
   "cell_type": "code",
   "execution_count": 36,
   "id": "8f0cefed",
   "metadata": {},
   "outputs": [],
   "source": [
    "num_set = set(num_list)"
   ]
  },
  {
   "cell_type": "code",
   "execution_count": 37,
   "id": "8dda8f1a",
   "metadata": {},
   "outputs": [
    {
     "data": {
      "text/plain": [
       "{10, 12, 14, 16}"
      ]
     },
     "execution_count": 37,
     "metadata": {},
     "output_type": "execute_result"
    }
   ],
   "source": [
    "num_set"
   ]
  },
  {
   "cell_type": "code",
   "execution_count": 39,
   "id": "91d4c46b",
   "metadata": {},
   "outputs": [],
   "source": [
    "num_set.remove(10)"
   ]
  },
  {
   "cell_type": "code",
   "execution_count": 40,
   "id": "27c1bf61",
   "metadata": {},
   "outputs": [
    {
     "data": {
      "text/plain": [
       "{12, 14, 16}"
      ]
     },
     "execution_count": 40,
     "metadata": {},
     "output_type": "execute_result"
    }
   ],
   "source": [
    "num_set"
   ]
  },
  {
   "cell_type": "code",
   "execution_count": null,
   "id": "355b095a",
   "metadata": {},
   "outputs": [],
   "source": []
  },
  {
   "cell_type": "code",
   "execution_count": null,
   "id": "886c6a98",
   "metadata": {},
   "outputs": [],
   "source": []
  }
 ],
 "metadata": {
  "kernelspec": {
   "display_name": "Python 3 (ipykernel)",
   "language": "python",
   "name": "python3"
  },
  "language_info": {
   "codemirror_mode": {
    "name": "ipython",
    "version": 3
   },
   "file_extension": ".py",
   "mimetype": "text/x-python",
   "name": "python",
   "nbconvert_exporter": "python",
   "pygments_lexer": "ipython3",
   "version": "3.11.5"
  }
 },
 "nbformat": 4,
 "nbformat_minor": 5
}

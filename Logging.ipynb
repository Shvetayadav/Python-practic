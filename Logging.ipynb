{
 "cells": [
  {
   "cell_type": "code",
   "execution_count": 1,
   "id": "2390348c",
   "metadata": {},
   "outputs": [],
   "source": [
    "import logging"
   ]
  },
  {
   "cell_type": "code",
   "execution_count": 3,
   "id": "fce9203b",
   "metadata": {},
   "outputs": [],
   "source": [
    "logging.basicConfig(filename= 'test.log',Level = logging.info)"
   ]
  },
  {
   "cell_type": "code",
   "execution_count": 4,
   "id": "98564185",
   "metadata": {},
   "outputs": [],
   "source": [
    "logging.info('This is my nfo log')\n",
    "logging.warning('This is my warning log')\n",
    "logging.error('This is my error log')"
   ]
  },
  {
   "cell_type": "code",
   "execution_count": 5,
   "id": "a18c72d5",
   "metadata": {},
   "outputs": [],
   "source": [
    "logging.shutdown()"
   ]
  },
  {
   "cell_type": "code",
   "execution_count": 6,
   "id": "d9615a7b",
   "metadata": {},
   "outputs": [
    {
     "data": {
      "text/plain": [
       "'C:\\\\Users\\\\Admin\\\\Downloads\\\\601\\\\Advanced Python'"
      ]
     },
     "execution_count": 6,
     "metadata": {},
     "output_type": "execute_result"
    }
   ],
   "source": [
    "pwd()"
   ]
  },
  {
   "cell_type": "code",
   "execution_count": 7,
   "id": "c444569c",
   "metadata": {},
   "outputs": [],
   "source": [
    "import logging"
   ]
  },
  {
   "cell_type": "code",
   "execution_count": 9,
   "id": "2e03d331",
   "metadata": {},
   "outputs": [],
   "source": [
    "logging.basicConfig(filename = 'logtest2.log',Level= logging.ERROR, format= '%(asctime)s %(levelname)s %(message)s')"
   ]
  },
  {
   "cell_type": "code",
   "execution_count": 10,
   "id": "0253e79b",
   "metadata": {},
   "outputs": [],
   "source": [
    "logging.info('This is my info log')\n",
    "logging.warning('This is my warning log')\n",
    "logging.debug('This is my debug log')\n",
    "logging.error('This is my error log')"
   ]
  },
  {
   "cell_type": "code",
   "execution_count": 11,
   "id": "64e07bf9",
   "metadata": {},
   "outputs": [
    {
     "data": {
      "text/plain": [
       "'C:\\\\Users\\\\Admin\\\\Downloads\\\\601\\\\Advanced Python'"
      ]
     },
     "execution_count": 11,
     "metadata": {},
     "output_type": "execute_result"
    }
   ],
   "source": [
    "pwd()"
   ]
  },
  {
   "cell_type": "code",
   "execution_count": 12,
   "id": "3bd16894",
   "metadata": {},
   "outputs": [],
   "source": [
    "logging.shutdown()"
   ]
  },
  {
   "cell_type": "code",
   "execution_count": 1,
   "id": "0c437de8",
   "metadata": {},
   "outputs": [],
   "source": [
    "import logging"
   ]
  },
  {
   "cell_type": "code",
   "execution_count": 3,
   "id": "c06e967b",
   "metadata": {},
   "outputs": [],
   "source": [
    "logging.basicConfig(filename = 'logtest3.log',Level = logging.debug, format = '%(asctime)s %(levelname)s %(message)s')"
   ]
  },
  {
   "cell_type": "code",
   "execution_count": 4,
   "id": "1f41445c",
   "metadata": {},
   "outputs": [],
   "source": [
    "def divbyzeero(a,b):\n",
    "    logging.info('This is start of my code and i am trying to enter % and %',a,b)\n",
    "    try:\n",
    "        div = a/b\n",
    "        logging.info('Excuted succ')\n",
    "    except Exception as e:\n",
    "        logging.error('Error has happened')\n",
    "        logging.exception('Exception occured' + str(e))"
   ]
  },
  {
   "cell_type": "code",
   "execution_count": 5,
   "id": "92bd4499",
   "metadata": {},
   "outputs": [],
   "source": [
    "divbyzeero(4,0)"
   ]
  },
  {
   "cell_type": "code",
   "execution_count": 6,
   "id": "0caa85bd",
   "metadata": {},
   "outputs": [],
   "source": [
    "divbyzeero(0,0)"
   ]
  },
  {
   "cell_type": "code",
   "execution_count": 7,
   "id": "b81af9ab",
   "metadata": {},
   "outputs": [],
   "source": [
    "divbyzeero(5,8)"
   ]
  },
  {
   "cell_type": "code",
   "execution_count": 8,
   "id": "96bde8fc",
   "metadata": {},
   "outputs": [],
   "source": [
    "def addi(a,b):\n",
    "    logging.info('This is start of my code and i am trying to enter % and %',a,b)\n",
    "    try:\n",
    "        add = a+b\n",
    "        logging.info('Excuted succ')\n",
    "    except Exception as e:\n",
    "        logging.error('Error has happened')\n",
    "        logging.exception('Exception occured' + str(e))"
   ]
  },
  {
   "cell_type": "code",
   "execution_count": 9,
   "id": "fa677aed",
   "metadata": {},
   "outputs": [],
   "source": [
    "addi(1,'d')"
   ]
  },
  {
   "cell_type": "code",
   "execution_count": 10,
   "id": "f7667b17",
   "metadata": {},
   "outputs": [],
   "source": [
    "logging.shutdown()"
   ]
  },
  {
   "cell_type": "code",
   "execution_count": null,
   "id": "85ece268",
   "metadata": {},
   "outputs": [],
   "source": []
  }
 ],
 "metadata": {
  "kernelspec": {
   "display_name": "Python 3 (ipykernel)",
   "language": "python",
   "name": "python3"
  },
  "language_info": {
   "codemirror_mode": {
    "name": "ipython",
    "version": 3
   },
   "file_extension": ".py",
   "mimetype": "text/x-python",
   "name": "python",
   "nbconvert_exporter": "python",
   "pygments_lexer": "ipython3",
   "version": "3.11.5"
  }
 },
 "nbformat": 4,
 "nbformat_minor": 5
}

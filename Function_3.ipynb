{
 "cells": [
  {
   "cell_type": "markdown",
   "id": "acde35fe",
   "metadata": {},
   "source": [
    "# Kwargs"
   ]
  },
  {
   "cell_type": "code",
   "execution_count": 3,
   "id": "83e45d07",
   "metadata": {},
   "outputs": [],
   "source": [
    "def test(**kwargs):\n",
    "    return kwargs"
   ]
  },
  {
   "cell_type": "code",
   "execution_count": 4,
   "id": "f76ddac7",
   "metadata": {},
   "outputs": [
    {
     "data": {
      "text/plain": [
       "{'a': 5}"
      ]
     },
     "execution_count": 4,
     "metadata": {},
     "output_type": "execute_result"
    }
   ],
   "source": [
    "test(a=5)"
   ]
  },
  {
   "cell_type": "code",
   "execution_count": 6,
   "id": "6dfaaf85",
   "metadata": {},
   "outputs": [
    {
     "data": {
      "text/plain": [
       "{'name': 'Data', 'Age': 34}"
      ]
     },
     "execution_count": 6,
     "metadata": {},
     "output_type": "execute_result"
    }
   ],
   "source": [
    "test(name='Data',Age=34)"
   ]
  },
  {
   "cell_type": "code",
   "execution_count": 7,
   "id": "4c5cadcf",
   "metadata": {},
   "outputs": [],
   "source": [
    "def test2(a,**kwargs):\n",
    "    return a, kwargs"
   ]
  },
  {
   "cell_type": "code",
   "execution_count": 8,
   "id": "8d572887",
   "metadata": {},
   "outputs": [
    {
     "data": {
      "text/plain": [
       "(30, {'l': 1, 'o': 6, 'u': 9})"
      ]
     },
     "execution_count": 8,
     "metadata": {},
     "output_type": "execute_result"
    }
   ],
   "source": [
    "test2(30,l=1,o=6,u=9)"
   ]
  },
  {
   "cell_type": "code",
   "execution_count": 9,
   "id": "fd58f3d3",
   "metadata": {},
   "outputs": [],
   "source": [
    "def test3(*args,**kwargs):\n",
    "    return args, kwargs"
   ]
  },
  {
   "cell_type": "code",
   "execution_count": 10,
   "id": "4b88676e",
   "metadata": {},
   "outputs": [
    {
     "data": {
      "text/plain": [
       "((1, 2, 3, 4, 5), {'a': 8, 'p': 7, 'u': 3})"
      ]
     },
     "execution_count": 10,
     "metadata": {},
     "output_type": "execute_result"
    }
   ],
   "source": [
    "test3(1,2,3,4,5,a=8,p=7,u=3)"
   ]
  },
  {
   "cell_type": "code",
   "execution_count": 11,
   "id": "d0a0ede9",
   "metadata": {},
   "outputs": [],
   "source": [
    "def test4(a,*args,**kwargs):\n",
    "    return a, args,kwargs"
   ]
  },
  {
   "cell_type": "code",
   "execution_count": 13,
   "id": "9ee84afd",
   "metadata": {},
   "outputs": [
    {
     "data": {
      "text/plain": [
       "(10, (11, 12, 13, 14), {'p': 3, 'o': 4, 't': 8})"
      ]
     },
     "execution_count": 13,
     "metadata": {},
     "output_type": "execute_result"
    }
   ],
   "source": [
    "test4(10,11,12,13,14,p=3,o=4,t=8)"
   ]
  },
  {
   "cell_type": "code",
   "execution_count": 14,
   "id": "dc80dad0",
   "metadata": {},
   "outputs": [
    {
     "ename": "SyntaxError",
     "evalue": "arguments cannot follow var-keyword argument (1436856220.py, line 1)",
     "output_type": "error",
     "traceback": [
      "\u001b[1;36m  Cell \u001b[1;32mIn[14], line 1\u001b[1;36m\u001b[0m\n\u001b[1;33m    def  test5(**kwargs,*args):\u001b[0m\n\u001b[1;37m                        ^\u001b[0m\n\u001b[1;31mSyntaxError\u001b[0m\u001b[1;31m:\u001b[0m arguments cannot follow var-keyword argument\n"
     ]
    }
   ],
   "source": [
    "def  test5(**kwargs,*args):\n",
    "    return kwargs , args"
   ]
  },
  {
   "cell_type": "code",
   "execution_count": 15,
   "id": "0b7c548a",
   "metadata": {},
   "outputs": [
    {
     "ename": "SyntaxError",
     "evalue": "arguments cannot follow var-keyword argument (4084341206.py, line 1)",
     "output_type": "error",
     "traceback": [
      "\u001b[1;36m  Cell \u001b[1;32mIn[15], line 1\u001b[1;36m\u001b[0m\n\u001b[1;33m    def test6(**kwargs,a,b):\u001b[0m\n\u001b[1;37m                       ^\u001b[0m\n\u001b[1;31mSyntaxError\u001b[0m\u001b[1;31m:\u001b[0m arguments cannot follow var-keyword argument\n"
     ]
    }
   ],
   "source": [
    "def test6(**kwargs,a,b):\n",
    "    return kwargs, a,b"
   ]
  },
  {
   "cell_type": "code",
   "execution_count": 16,
   "id": "d6335426",
   "metadata": {},
   "outputs": [],
   "source": [
    "def test7(*science):\n",
    "    return science"
   ]
  },
  {
   "cell_type": "code",
   "execution_count": 17,
   "id": "32a7d96a",
   "metadata": {},
   "outputs": [
    {
     "data": {
      "text/plain": [
       "(1, 23, 4, 5, 5)"
      ]
     },
     "execution_count": 17,
     "metadata": {},
     "output_type": "execute_result"
    }
   ],
   "source": [
    "test7(1,23,4,5,5)"
   ]
  },
  {
   "cell_type": "code",
   "execution_count": 18,
   "id": "d7af78c0",
   "metadata": {},
   "outputs": [],
   "source": [
    "def test8(**kwargs):\n",
    "    return kwargs.keys()"
   ]
  },
  {
   "cell_type": "code",
   "execution_count": 19,
   "id": "0b63d611",
   "metadata": {},
   "outputs": [
    {
     "data": {
      "text/plain": [
       "dict_keys(['a', 'n'])"
      ]
     },
     "execution_count": 19,
     "metadata": {},
     "output_type": "execute_result"
    }
   ],
   "source": [
    "test8(a=7,n=9)"
   ]
  },
  {
   "cell_type": "code",
   "execution_count": 20,
   "id": "1c10345e",
   "metadata": {},
   "outputs": [],
   "source": [
    "def test9(a):\n",
    "    return a"
   ]
  },
  {
   "cell_type": "code",
   "execution_count": 21,
   "id": "b40a66b2",
   "metadata": {},
   "outputs": [
    {
     "data": {
      "text/plain": [
       "89"
      ]
     },
     "execution_count": 21,
     "metadata": {},
     "output_type": "execute_result"
    }
   ],
   "source": [
    "test9(89)"
   ]
  },
  {
   "cell_type": "code",
   "execution_count": 22,
   "id": "ba7be77e",
   "metadata": {},
   "outputs": [],
   "source": [
    "# lambda function"
   ]
  },
  {
   "cell_type": "code",
   "execution_count": 26,
   "id": "f254da42",
   "metadata": {},
   "outputs": [],
   "source": [
    "b = lambda a :a *2 "
   ]
  },
  {
   "cell_type": "code",
   "execution_count": 27,
   "id": "2d7eefe3",
   "metadata": {},
   "outputs": [
    {
     "data": {
      "text/plain": [
       "20"
      ]
     },
     "execution_count": 27,
     "metadata": {},
     "output_type": "execute_result"
    }
   ],
   "source": [
    "b(10)"
   ]
  },
  {
   "cell_type": "code",
   "execution_count": 28,
   "id": "277d2ef8",
   "metadata": {},
   "outputs": [],
   "source": [
    "v = lambda  a,b: a *b"
   ]
  },
  {
   "cell_type": "code",
   "execution_count": 29,
   "id": "1462e761",
   "metadata": {},
   "outputs": [
    {
     "data": {
      "text/plain": [
       "10"
      ]
     },
     "execution_count": 29,
     "metadata": {},
     "output_type": "execute_result"
    }
   ],
   "source": [
    "v(5,2)"
   ]
  },
  {
   "cell_type": "code",
   "execution_count": 30,
   "id": "0adc8b5e",
   "metadata": {},
   "outputs": [],
   "source": [
    "h = lambda *args : args"
   ]
  },
  {
   "cell_type": "code",
   "execution_count": 31,
   "id": "742bfd69",
   "metadata": {},
   "outputs": [
    {
     "data": {
      "text/plain": [
       "(12, 3, 4, 5, 6, 3)"
      ]
     },
     "execution_count": 31,
     "metadata": {},
     "output_type": "execute_result"
    }
   ],
   "source": [
    "h(12,3,4,5,6,3)"
   ]
  },
  {
   "cell_type": "code",
   "execution_count": 32,
   "id": "8e76f836",
   "metadata": {},
   "outputs": [],
   "source": [
    "j = lambda *a : a"
   ]
  },
  {
   "cell_type": "code",
   "execution_count": 33,
   "id": "392bf38f",
   "metadata": {},
   "outputs": [
    {
     "data": {
      "text/plain": [
       "(12, 2, 4, 5, 5)"
      ]
     },
     "execution_count": 33,
     "metadata": {},
     "output_type": "execute_result"
    }
   ],
   "source": [
    "j(12,2,4,5,5)"
   ]
  },
  {
   "cell_type": "code",
   "execution_count": 45,
   "id": "99c35cde",
   "metadata": {},
   "outputs": [],
   "source": [
    "x = lambda a,b:(a+b, a*b)"
   ]
  },
  {
   "cell_type": "code",
   "execution_count": 46,
   "id": "983644dd",
   "metadata": {},
   "outputs": [
    {
     "data": {
      "text/plain": [
       "(15, 50)"
      ]
     },
     "execution_count": 46,
     "metadata": {},
     "output_type": "execute_result"
    }
   ],
   "source": [
    "x(10,5)"
   ]
  },
  {
   "cell_type": "code",
   "execution_count": 47,
   "id": "1c7e21e3",
   "metadata": {},
   "outputs": [
    {
     "ename": "SyntaxError",
     "evalue": "invalid syntax (1252522347.py, line 1)",
     "output_type": "error",
     "traceback": [
      "\u001b[1;36m  Cell \u001b[1;32mIn[47], line 1\u001b[1;36m\u001b[0m\n\u001b[1;33m    c = lambda c: (for i in c : print(i))\u001b[0m\n\u001b[1;37m                   ^\u001b[0m\n\u001b[1;31mSyntaxError\u001b[0m\u001b[1;31m:\u001b[0m invalid syntax\n"
     ]
    }
   ],
   "source": [
    "c = lambda c: (for i in c : print(i))"
   ]
  },
  {
   "cell_type": "code",
   "execution_count": 48,
   "id": "195e713e",
   "metadata": {},
   "outputs": [],
   "source": [
    "c = lambda c : [i for i in c]"
   ]
  },
  {
   "cell_type": "code",
   "execution_count": 50,
   "id": "6e245313",
   "metadata": {},
   "outputs": [
    {
     "data": {
      "text/plain": [
       "[1, 2, 3, 4, 5]"
      ]
     },
     "execution_count": 50,
     "metadata": {},
     "output_type": "execute_result"
    }
   ],
   "source": [
    "c([1,2,3,4,5])"
   ]
  },
  {
   "cell_type": "code",
   "execution_count": 52,
   "id": "cee83948",
   "metadata": {},
   "outputs": [],
   "source": [
    "x = lambda x :[i**2 for i in x]"
   ]
  },
  {
   "cell_type": "code",
   "execution_count": 53,
   "id": "0be75d22",
   "metadata": {},
   "outputs": [
    {
     "data": {
      "text/plain": [
       "[1, 4, 9, 16, 25]"
      ]
     },
     "execution_count": 53,
     "metadata": {},
     "output_type": "execute_result"
    }
   ],
   "source": [
    "x([1,2,3,4,5])"
   ]
  },
  {
   "cell_type": "code",
   "execution_count": null,
   "id": "445ddfa5",
   "metadata": {},
   "outputs": [],
   "source": []
  }
 ],
 "metadata": {
  "kernelspec": {
   "display_name": "Python 3 (ipykernel)",
   "language": "python",
   "name": "python3"
  },
  "language_info": {
   "codemirror_mode": {
    "name": "ipython",
    "version": 3
   },
   "file_extension": ".py",
   "mimetype": "text/x-python",
   "name": "python",
   "nbconvert_exporter": "python",
   "pygments_lexer": "ipython3",
   "version": "3.11.5"
  }
 },
 "nbformat": 4,
 "nbformat_minor": 5
}
